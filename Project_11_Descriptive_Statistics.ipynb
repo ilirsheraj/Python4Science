{
 "cells": [
  {
   "cell_type": "markdown",
   "id": "19f52b8e",
   "metadata": {},
   "source": [
    "In this project we will carry out several descriptive statistics analysis without using numpy. The whole idea is to understand the computation principles without using readily available packages."
   ]
  },
  {
   "cell_type": "markdown",
   "id": "be25aa01",
   "metadata": {},
   "source": [
    "# Compute Mean and Median"
   ]
  },
  {
   "cell_type": "markdown",
   "id": "2dd70b54",
   "metadata": {},
   "source": [
    "Remember that the mean is calculated as $\\bar{x} = n^{-1} \\sum_{i=1}^{n} x_i$\n",
    "\n",
    "Median is calculated by $x_i, i = \\frac {n+1}{2}$"
   ]
  },
  {
   "cell_type": "code",
   "execution_count": 1,
   "id": "76fb4611",
   "metadata": {},
   "outputs": [],
   "source": [
    "import numpy as np\n",
    "import matplotlib.pyplot as plt"
   ]
  },
  {
   "cell_type": "code",
   "execution_count": 2,
   "id": "ce08b5ba",
   "metadata": {},
   "outputs": [
    {
     "data": {
      "text/plain": [
       "[-0.5905593508668208,\n",
       " 0.635413325891464,\n",
       " -0.5064764507105031,\n",
       " 1.639045095281445,\n",
       " 0.5388819708011949,\n",
       " 1.2504160797628903,\n",
       " -0.2291743494087044,\n",
       " -0.20033093449296202,\n",
       " -1.1068587897391549,\n",
       " -0.2728044762141864,\n",
       " 0.4120723660844522,\n",
       " 1.6413966202754162]"
      ]
     },
     "execution_count": 2,
     "metadata": {},
     "output_type": "execute_result"
    }
   ],
   "source": [
    "N = 12\n",
    "data = list(np.random.randn(N))\n",
    "data"
   ]
  },
  {
   "cell_type": "code",
   "execution_count": 3,
   "id": "8401e270",
   "metadata": {},
   "outputs": [
    {
     "name": "stdout",
     "output_type": "stream",
     "text": [
      "0.26758509222204424\n",
      "\n",
      "0.26758509222204424\n"
     ]
    }
   ],
   "source": [
    "# mean\n",
    "avg = sum(data)/len(data)\n",
    "print(avg)\n",
    "print()\n",
    "print(np.mean(data))"
   ]
  },
  {
   "cell_type": "code",
   "execution_count": 4,
   "id": "e61dc461",
   "metadata": {},
   "outputs": [
    {
     "name": "stdout",
     "output_type": "stream",
     "text": [
      "0.10587071579574509\n",
      "\n",
      "0.10587071579574509\n"
     ]
    }
   ],
   "source": [
    "# Median\n",
    "# Sort the data\n",
    "data.sort()\n",
    "\n",
    "# Find the data point in the middle: floor division\n",
    "if N%2 == 1:\n",
    "    mymedian = data[N//2]\n",
    "else:\n",
    "    mymedian = (data[N//2-1] + data[N//2])/2\n",
    "print(mymedian)\n",
    "print()\n",
    "print(np.median(data))"
   ]
  },
  {
   "cell_type": "markdown",
   "id": "bcfc6e57",
   "metadata": {},
   "source": [
    "## Frequencies Table"
   ]
  },
  {
   "cell_type": "markdown",
   "id": "c7c4dc28",
   "metadata": {},
   "source": [
    "Generate 20 random integers between 1 and 5 using numpy\n",
    "\n",
    "Create two lists: Unique values and their counts\n",
    "\n",
    "Convert the lists into a dictionary"
   ]
  },
  {
   "cell_type": "code",
   "execution_count": 5,
   "id": "27b2b100",
   "metadata": {},
   "outputs": [
    {
     "data": {
      "text/plain": [
       "[5, 1, 5, 4, 5, 5, 3, 5, 3, 4, 5, 2, 4, 4, 3, 4, 2, 1, 4, 4]"
      ]
     },
     "execution_count": 5,
     "metadata": {},
     "output_type": "execute_result"
    }
   ],
   "source": [
    "x = list(np.random.randint(1,6,20))\n",
    "x"
   ]
  },
  {
   "cell_type": "code",
   "execution_count": 6,
   "id": "fb875499",
   "metadata": {},
   "outputs": [
    {
     "name": "stdout",
     "output_type": "stream",
     "text": [
      "0 3\n",
      "1 6\n",
      "2 -4\n",
      "3 asfda\n"
     ]
    }
   ],
   "source": [
    "# Use enumerate\n",
    "l = [3,6,-4, \"asfda\"]\n",
    "\n",
    "for i,j in enumerate(l):\n",
    "    print(i,j)"
   ]
  },
  {
   "cell_type": "code",
   "execution_count": 7,
   "id": "d2d2e5ae",
   "metadata": {},
   "outputs": [
    {
     "data": {
      "text/plain": [
       "{1, 2, 3, 4, 5}"
      ]
     },
     "execution_count": 7,
     "metadata": {},
     "output_type": "execute_result"
    }
   ],
   "source": [
    "# Unique values using set\n",
    "uniquevals = set(x)\n",
    "uniquevals"
   ]
  },
  {
   "cell_type": "code",
   "execution_count": 8,
   "id": "f220077c",
   "metadata": {},
   "outputs": [
    {
     "name": "stdout",
     "output_type": "stream",
     "text": [
      "[2, 2, 3, 7, 6]\n"
     ]
    }
   ],
   "source": [
    "# Counts at which values appear in the data\n",
    "valcounts = [0]*len(uniquevals)\n",
    "for i in x:\n",
    "    for j,u in enumerate(uniquevals):\n",
    "        if i == u:\n",
    "            valcounts[j] += 1\n",
    "print(valcounts)"
   ]
  },
  {
   "cell_type": "code",
   "execution_count": 9,
   "id": "7efc9227",
   "metadata": {},
   "outputs": [
    {
     "name": "stdout",
     "output_type": "stream",
     "text": [
      "[2, 2, 3, 7, 6]\n"
     ]
    }
   ],
   "source": [
    "# Use list comprehension\n",
    "valcounts = [0]*len(uniquevals)\n",
    "for i in x:\n",
    "    idx = [j for j,u in enumerate(uniquevals) if i == u]\n",
    "    valcounts[idx[0]] += 1\n",
    "\n",
    "print(valcounts)"
   ]
  },
  {
   "cell_type": "code",
   "execution_count": 10,
   "id": "a7ed2198",
   "metadata": {},
   "outputs": [
    {
     "name": "stdout",
     "output_type": "stream",
     "text": [
      "[[1 2]\n",
      " [2 2]\n",
      " [3 3]\n",
      " [4 7]\n",
      " [5 6]]\n",
      "{1: 2, 2: 2, 3: 3, 4: 7, 5: 6}\n"
     ]
    }
   ],
   "source": [
    "# With Numpy\n",
    "print(np.array(np.unique(x, return_counts=True)).T)\n",
    "print(dict(np.array(np.unique(x, return_counts=True)).T))"
   ]
  },
  {
   "cell_type": "code",
   "execution_count": 11,
   "id": "a34c69d4",
   "metadata": {},
   "outputs": [
    {
     "data": {
      "text/plain": [
       "{1: 2, 2: 2, 3: 3, 4: 7, 5: 6}"
      ]
     },
     "execution_count": 11,
     "metadata": {},
     "output_type": "execute_result"
    }
   ],
   "source": [
    "# Convert to dictionary\n",
    "uniquevals = list(uniquevals)\n",
    "table ={}\n",
    "for i in range(len(uniquevals)):\n",
    "    table[uniquevals[i]] = valcounts[i]\n",
    "table"
   ]
  },
  {
   "cell_type": "markdown",
   "id": "2fe5ef77",
   "metadata": {},
   "source": [
    "## Mode"
   ]
  },
  {
   "cell_type": "markdown",
   "id": "a16aaf2a",
   "metadata": {},
   "source": [
    "We will use the dictionary created in the previous video to find the mode"
   ]
  },
  {
   "cell_type": "code",
   "execution_count": 12,
   "id": "217d5302",
   "metadata": {},
   "outputs": [
    {
     "name": "stdout",
     "output_type": "stream",
     "text": [
      "Mode 4 appears 7 times\n"
     ]
    }
   ],
   "source": [
    "# One approach\n",
    "maxcount = 0\n",
    "for i in table.items():\n",
    "    if i[1] > maxcount:\n",
    "        maxcount = i[1]\n",
    "        mode = i[0]\n",
    "print(\"Mode %s appears %s times\"%(mode, maxcount))"
   ]
  },
  {
   "cell_type": "code",
   "execution_count": 13,
   "id": "56eabb8b",
   "metadata": {},
   "outputs": [
    {
     "name": "stdout",
     "output_type": "stream",
     "text": [
      "7\n",
      "4\n"
     ]
    }
   ],
   "source": [
    "# A second Approach to get all most frequent values\n",
    "# First find the maximum value\n",
    "maxval = max(list(table.values()))\n",
    "\n",
    "# iterate over dictionary\n",
    "mode = [k for k,v in table.items() if v==maxval]\n",
    "print(maxval)\n",
    "print(mode[0])"
   ]
  },
  {
   "cell_type": "code",
   "execution_count": 14,
   "id": "8f494e23",
   "metadata": {},
   "outputs": [
    {
     "data": {
      "text/plain": [
       "ModeResult(mode=array([4]), count=array([7]))"
      ]
     },
     "execution_count": 14,
     "metadata": {},
     "output_type": "execute_result"
    }
   ],
   "source": [
    "from scipy import stats\n",
    "stats.mode(x)"
   ]
  },
  {
   "cell_type": "markdown",
   "id": "83339555",
   "metadata": {},
   "source": [
    "## Standard Deviation"
   ]
  },
  {
   "cell_type": "markdown",
   "id": "04e81c43",
   "metadata": {},
   "source": [
    "Standrd Deviaion: $\\sigma = \\sqrt{ \\frac{1}{n-1} \\sum_{i=1}^{n} (x_i - \\bar{x})^2}$"
   ]
  },
  {
   "cell_type": "code",
   "execution_count": 15,
   "id": "14192f56",
   "metadata": {},
   "outputs": [
    {
     "data": {
      "text/plain": [
       "1.93"
      ]
     },
     "execution_count": 15,
     "metadata": {},
     "output_type": "execute_result"
    }
   ],
   "source": [
    "# Generate Random Poisson Numbers\n",
    "n = 100\n",
    "x = list(np.random.poisson(2,n))\n",
    "meanval = sum(x)/len(x)\n",
    "meanval"
   ]
  },
  {
   "cell_type": "code",
   "execution_count": 16,
   "id": "0826d8bd",
   "metadata": {},
   "outputs": [
    {
     "data": {
      "text/plain": [
       "194.51000000000022"
      ]
     },
     "execution_count": 16,
     "metadata": {},
     "output_type": "execute_result"
    }
   ],
   "source": [
    "summation = sum([ (i - meanval)**2 for i in x])\n",
    "summation"
   ]
  },
  {
   "cell_type": "code",
   "execution_count": 17,
   "id": "fa204269",
   "metadata": {},
   "outputs": [
    {
     "data": {
      "text/plain": [
       "1.4016945012189628"
      ]
     },
     "execution_count": 17,
     "metadata": {},
     "output_type": "execute_result"
    }
   ],
   "source": [
    "# Unbiased STD\n",
    "sdv = (summation/(n-1))**(1/2)\n",
    "sdv"
   ]
  },
  {
   "cell_type": "code",
   "execution_count": 18,
   "id": "d3ff75ef",
   "metadata": {},
   "outputs": [
    {
     "data": {
      "text/plain": [
       "1.3946684193742978"
      ]
     },
     "execution_count": 18,
     "metadata": {},
     "output_type": "execute_result"
    }
   ],
   "source": [
    "# For numpy implementation (biased std)\n",
    "sdv = (summation/(n))**(1/2)\n",
    "sdv"
   ]
  },
  {
   "cell_type": "code",
   "execution_count": 19,
   "id": "f2c2a0c9",
   "metadata": {},
   "outputs": [
    {
     "data": {
      "text/plain": [
       "1.3946684193742969"
      ]
     },
     "execution_count": 19,
     "metadata": {},
     "output_type": "execute_result"
    }
   ],
   "source": [
    "np.std(x)"
   ]
  },
  {
   "cell_type": "code",
   "execution_count": 20,
   "id": "a8c62449",
   "metadata": {},
   "outputs": [
    {
     "data": {
      "text/plain": [
       "1.4016945012189619"
      ]
     },
     "execution_count": 20,
     "metadata": {},
     "output_type": "execute_result"
    }
   ],
   "source": [
    "np.std(x, ddof = 1)"
   ]
  },
  {
   "cell_type": "markdown",
   "id": "25a6d5c7",
   "metadata": {},
   "source": [
    "## Bonus: Create a csv Report File"
   ]
  },
  {
   "cell_type": "markdown",
   "id": "21934b6d",
   "metadata": {},
   "source": [
    "Create functions for each statistic\n",
    "\n",
    "Write the values to a csv file\n",
    "\n",
    "Download the file to computer"
   ]
  },
  {
   "cell_type": "code",
   "execution_count": 21,
   "id": "a2e3d4b5",
   "metadata": {},
   "outputs": [],
   "source": [
    "def mymean(data):\n",
    "    return sum(data)/len(data)\n",
    "    \n",
    "def mymedian(data):\n",
    "    data.sort()\n",
    "    n = len(data)\n",
    "    if n%2 ==1:\n",
    "        m = data[n//2]\n",
    "    else:\n",
    "        m = (data[n//2-1] + data[n//2])/2\n",
    "    return m\n",
    "    \n",
    "def mymode(data):\n",
    "    # Convert to dictionary\n",
    "    uniquevals = list(set(data))\n",
    "    valcounts = [0]*len(uniquevals)\n",
    "    \n",
    "    for i in data:\n",
    "        idx = [j for j,u in enumerate(uniquevals) if i == u]\n",
    "        valcounts[idx[0]] += 1\n",
    "    \n",
    "    table ={}\n",
    "    for i in range(len(uniquevals)):\n",
    "        table[uniquevals[i]] = valcounts[i]\n",
    "    \n",
    "    maxval = max(list(table.values()))\n",
    "\n",
    "    # iterate over dictionary\n",
    "    mode = [k for k,v in table.items() if v==maxval]\n",
    "    \n",
    "    return mode\n",
    "    \n",
    "    \n",
    "def mystd(data):\n",
    "    meanval = sum(data)/len(data)\n",
    "    \n",
    "    summation = sum([ (i - meanval)**2 for i in data])\n",
    "    \n",
    "    sdv = (summation/(n-1))**(1/2)\n",
    "    \n",
    "    return sdv"
   ]
  },
  {
   "cell_type": "code",
   "execution_count": 22,
   "id": "c3989378",
   "metadata": {},
   "outputs": [
    {
     "data": {
      "text/plain": [
       "array([19, 20, 35, 15, 11, 15, 13, 37, 20, 39, 37, 32, 10, 16, 12, 33, 35,\n",
       "       35, 36, 12, 38, 22, 38, 26, 25, 25, 10, 34, 14, 11, 38, 39, 25, 18,\n",
       "       10, 21, 39, 35, 12, 39])"
      ]
     },
     "execution_count": 22,
     "metadata": {},
     "output_type": "execute_result"
    }
   ],
   "source": [
    "N = 40\n",
    "data = np.random.randint(10, 41, size = N)\n",
    "data"
   ]
  },
  {
   "cell_type": "code",
   "execution_count": 23,
   "id": "89fa1e65",
   "metadata": {},
   "outputs": [],
   "source": [
    "fid = open(\"stats.csv\", \"w\")\n",
    "\n",
    "fid.write(\"mean:\" + str(mymean(data)) + '\\n')\n",
    "fid.write(\"median:\" + str(mymedian(data)) + '\\n')\n",
    "fid.write(\"mode:\" + str(mymode(data)) + '\\n')\n",
    "fid.write(\"std:\" + str(mystd(data)) + '\\n')\n",
    "\n",
    "fid.close()"
   ]
  }
 ],
 "metadata": {
  "kernelspec": {
   "display_name": "Python 3 (ipykernel)",
   "language": "python",
   "name": "python3"
  },
  "language_info": {
   "codemirror_mode": {
    "name": "ipython",
    "version": 3
   },
   "file_extension": ".py",
   "mimetype": "text/x-python",
   "name": "python",
   "nbconvert_exporter": "python",
   "pygments_lexer": "ipython3",
   "version": "3.9.7"
  }
 },
 "nbformat": 4,
 "nbformat_minor": 5
}
