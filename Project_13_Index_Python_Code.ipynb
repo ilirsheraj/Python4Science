{
 "cells": [
  {
   "cell_type": "markdown",
   "id": "2e2fcfdd",
   "metadata": {},
   "source": [
    "In this project we will learn how to upload multiple files into jupyter (or colab) and work with them. For that purpose we will use **glob** library to create a list of \".ipynb\" files found in a certain directory, import them as text and view."
   ]
  },
  {
   "cell_type": "code",
   "execution_count": 1,
   "id": "30cd6f38",
   "metadata": {},
   "outputs": [
    {
     "data": {
      "text/plain": [
       "'/Users/sheraji/OnlineCourses/PythonforScience/MasterPython_CodeAndData/indexYourCode'"
      ]
     },
     "execution_count": 1,
     "metadata": {},
     "output_type": "execute_result"
    }
   ],
   "source": [
    "import os\n",
    "import glob\n",
    "import re\n",
    "import matplotlib.pyplot as plt\n",
    "os.chdir(\"/Users/sheraji/OnlineCourses/PythonforScience/MasterPython_CodeAndData/indexYourCode\")\n",
    "os.getcwd()"
   ]
  },
  {
   "cell_type": "code",
   "execution_count": 2,
   "id": "664819b0",
   "metadata": {},
   "outputs": [
    {
     "data": {
      "text/plain": [
       "['test_indexSlice.ipynb',\n",
       " 'test_functions.ipynb',\n",
       " 'MasPy_indexYourCode_solution.ipynb',\n",
       " 'test_DataTypes.ipynb',\n",
       " 'MasPy_indexYourCode_helper.ipynb']"
      ]
     },
     "execution_count": 2,
     "metadata": {},
     "output_type": "execute_result"
    }
   ],
   "source": [
    "# Get a list of available files\n",
    "pyfiles = glob.glob(\"*ipynb\")\n",
    "pyfiles"
   ]
  },
  {
   "cell_type": "code",
   "execution_count": 3,
   "id": "c5e6ea13",
   "metadata": {},
   "outputs": [
    {
     "data": {
      "text/plain": [
       "['test_indexSlice.ipynb', 'test_functions.ipynb', 'test_DataTypes.ipynb']"
      ]
     },
     "execution_count": 3,
     "metadata": {},
     "output_type": "execute_result"
    }
   ],
   "source": [
    "# Select only the three files of interest\n",
    "pyfiles = [pyfiles[i] for i in [0,1,3]]\n",
    "pyfiles"
   ]
  },
  {
   "cell_type": "code",
   "execution_count": 4,
   "id": "e89c564b",
   "metadata": {},
   "outputs": [],
   "source": [
    "# Import each file\n",
    "allfiles = []\n",
    "for fil in pyfiles:\n",
    "    fid = open(fil, \"r\") # file identifier\n",
    "#    print(fid)\n",
    "    content = fid.read()\n",
    "    allfiles.append(content)"
   ]
  },
  {
   "cell_type": "code",
   "execution_count": 5,
   "id": "ef662284",
   "metadata": {},
   "outputs": [],
   "source": [
    "# Same Code, shorter\n",
    "allfiles = []\n",
    "for fil in pyfiles:\n",
    "    allfiles.append(open(fil, \"r\").read())\n",
    "#allfiles"
   ]
  },
  {
   "cell_type": "code",
   "execution_count": 6,
   "id": "a9a0a277",
   "metadata": {},
   "outputs": [],
   "source": [
    "#allfiles[0]"
   ]
  },
  {
   "cell_type": "code",
   "execution_count": 7,
   "id": "47e437a4",
   "metadata": {},
   "outputs": [],
   "source": [
    "allfiles = []\n",
    "for fil in pyfiles:\n",
    "    with open(fil, \"r\") as fid:\n",
    "#        print(fid)\n",
    "        allfiles.append(fid.read())\n",
    "# allfiles[0]"
   ]
  },
  {
   "cell_type": "markdown",
   "id": "87123436",
   "metadata": {},
   "source": [
    "## Identify Function Calls"
   ]
  },
  {
   "cell_type": "markdown",
   "id": "f1db8a82",
   "metadata": {},
   "source": [
    "Process the text and identify all functions: function form is word followed by paranthesis, such as bs(). then generate a list of all functions."
   ]
  },
  {
   "cell_type": "code",
   "execution_count": 8,
   "id": "fa93fef4",
   "metadata": {},
   "outputs": [
    {
     "data": {
      "text/plain": [
       "['name', 'Mike', 'like', 'chocolate']"
      ]
     },
     "execution_count": 8,
     "metadata": {},
     "output_type": "execute_result"
    }
   ],
   "source": [
    "s = \"My name is Mike and I like to eat chocolate\"\n",
    "\n",
    "# Find words that end with the letter \"e\"\n",
    "re.findall(r\"\\w*e\\b\",s)  # w = words, * = any number of letters, b = closing boundary"
   ]
  },
  {
   "cell_type": "code",
   "execution_count": 9,
   "id": "348cd8dc",
   "metadata": {},
   "outputs": [
    {
     "data": {
      "text/plain": [
       "['My', 'Mike']"
      ]
     },
     "execution_count": 9,
     "metadata": {},
     "output_type": "execute_result"
    }
   ],
   "source": [
    "# Find words that start in capital M\n",
    "re.findall(r\"\\bM\\w*\",s)"
   ]
  },
  {
   "cell_type": "code",
   "execution_count": 10,
   "id": "cc4ba5d9",
   "metadata": {},
   "outputs": [
    {
     "data": {
      "text/plain": [
       "['name', 'Mike', 'like', 'e', 'chocolate']"
      ]
     },
     "execution_count": 10,
     "metadata": {},
     "output_type": "execute_result"
    }
   ],
   "source": [
    "# Any word cotaining \"e\" anywhere\n",
    "re.findall(r\"\\w*e\",s)"
   ]
  },
  {
   "cell_type": "code",
   "execution_count": 11,
   "id": "18ae87f3",
   "metadata": {},
   "outputs": [
    {
     "data": {
      "text/plain": [
       "['list( ', 'range(']"
      ]
     },
     "execution_count": 11,
     "metadata": {},
     "output_type": "execute_result"
    }
   ],
   "source": [
    "t = \"alist = list( range(5,11))\\\\n\"\n",
    "# identify list() and range()\n",
    "re.findall(r\"\\w*\\( ?\\b\",t) # \"?\" means any number of spaces"
   ]
  },
  {
   "cell_type": "code",
   "execution_count": 12,
   "id": "6557f924",
   "metadata": {},
   "outputs": [
    {
     "data": {
      "text/plain": [
       "['range(',\n",
       " 'list(',\n",
       " 'print( ',\n",
       " 'print( ',\n",
       " 'print( ',\n",
       " 'list( ',\n",
       " 'range(',\n",
       " 'print( ',\n",
       " 'print( ']"
      ]
     },
     "execution_count": 12,
     "metadata": {},
     "output_type": "execute_result"
    }
   ],
   "source": [
    "funwords = re.findall(r\"\\w*\\( ?\\b\",allfiles[0])\n",
    "funwords"
   ]
  },
  {
   "cell_type": "code",
   "execution_count": 13,
   "id": "75ec39de",
   "metadata": {},
   "outputs": [
    {
     "data": {
      "text/plain": [
       "['range', 'list', 'print', 'print', 'print', 'list', 'range', 'print', 'print']"
      ]
     },
     "execution_count": 13,
     "metadata": {},
     "output_type": "execute_result"
    }
   ],
   "source": [
    "# Remove \"( \" from all the elements of the list\n",
    "funwords = [i.strip(\"( \") for i in funwords]\n",
    "# Remove all empty items \"\"\n",
    "funwords = [i for i in funwords if len(i) > 0]\n",
    "funwords"
   ]
  },
  {
   "cell_type": "code",
   "execution_count": 14,
   "id": "939efa8d",
   "metadata": {},
   "outputs": [
    {
     "data": {
      "text/plain": [
       "[['range', 'test_indexSlice.ipynb'],\n",
       " ['list', 'test_indexSlice.ipynb'],\n",
       " ['print', 'test_indexSlice.ipynb'],\n",
       " ['print', 'test_indexSlice.ipynb'],\n",
       " ['print', 'test_indexSlice.ipynb'],\n",
       " ['list', 'test_indexSlice.ipynb'],\n",
       " ['range', 'test_indexSlice.ipynb'],\n",
       " ['print', 'test_indexSlice.ipynb'],\n",
       " ['print', 'test_indexSlice.ipynb']]"
      ]
     },
     "execution_count": 14,
     "metadata": {},
     "output_type": "execute_result"
    }
   ],
   "source": [
    "# Create a list of lists for all three files\n",
    "allfuncalls = []\n",
    "for f in funwords:\n",
    "    allfuncalls.append([f, pyfiles[0]])\n",
    "# Remove the \".ipynb\" extenssion\n",
    "allfuncalls"
   ]
  },
  {
   "cell_type": "code",
   "execution_count": 15,
   "id": "9cebc222",
   "metadata": {},
   "outputs": [
    {
     "data": {
      "text/plain": [
       "[['range', 'test_indexSlice'],\n",
       " ['list', 'test_indexSlice'],\n",
       " ['print', 'test_indexSlice'],\n",
       " ['print', 'test_indexSlice'],\n",
       " ['print', 'test_indexSlice'],\n",
       " ['list', 'test_indexSlice'],\n",
       " ['range', 'test_indexSlice'],\n",
       " ['print', 'test_indexSlice'],\n",
       " ['print', 'test_indexSlice']]"
      ]
     },
     "execution_count": 15,
     "metadata": {},
     "output_type": "execute_result"
    }
   ],
   "source": [
    "# Create a list of lists for all three files and emove \".ipynb\" extenssion\n",
    "allfuncalls = []\n",
    "for f in funwords:\n",
    "    allfuncalls.append([f, pyfiles[0][:-6]])\n",
    "# Remove the \".ipynb\" extenssion\n",
    "allfuncalls"
   ]
  },
  {
   "cell_type": "code",
   "execution_count": 16,
   "id": "f02803de",
   "metadata": {},
   "outputs": [
    {
     "data": {
      "text/plain": [
       "[['range', 'test_indexSlice'],\n",
       " ['list', 'test_indexSlice'],\n",
       " ['print', 'test_indexSlice'],\n",
       " ['print', 'test_indexSlice'],\n",
       " ['print', 'test_indexSlice'],\n",
       " ['list', 'test_indexSlice'],\n",
       " ['range', 'test_indexSlice'],\n",
       " ['print', 'test_indexSlice'],\n",
       " ['print', 'test_indexSlice'],\n",
       " ['sum', 'test_functions'],\n",
       " ['list', 'test_functions'],\n",
       " ['range', 'test_functions'],\n",
       " ['print', 'test_functions'],\n",
       " ['print', 'test_functions'],\n",
       " ['print', 'test_DataTypes'],\n",
       " ['print', 'test_DataTypes'],\n",
       " ['print', 'test_DataTypes'],\n",
       " ['type', 'test_DataTypes'],\n",
       " ['type', 'test_DataTypes'],\n",
       " ['print', 'test_DataTypes'],\n",
       " ['print', 'test_DataTypes'],\n",
       " ['print', 'test_DataTypes'],\n",
       " ['print', 'test_DataTypes'],\n",
       " ['print', 'test_DataTypes'],\n",
       " ['print', 'test_DataTypes'],\n",
       " ['print', 'test_DataTypes'],\n",
       " ['print', 'test_DataTypes'],\n",
       " ['print', 'test_DataTypes'],\n",
       " ['print', 'test_DataTypes'],\n",
       " ['print', 'test_DataTypes'],\n",
       " ['str', 'test_DataTypes'],\n",
       " ['str', 'test_DataTypes'],\n",
       " ['str', 'test_DataTypes'],\n",
       " ['print', 'test_DataTypes'],\n",
       " ['print', 'test_DataTypes'],\n",
       " ['type', 'test_DataTypes'],\n",
       " ['float', 'test_DataTypes'],\n",
       " ['type', 'test_DataTypes'],\n",
       " ['int', 'test_DataTypes'],\n",
       " ['int', 'test_DataTypes'],\n",
       " ['str', 'test_DataTypes'],\n",
       " ['print', 'test_DataTypes'],\n",
       " ['print', 'test_DataTypes'],\n",
       " ['print', 'test_DataTypes'],\n",
       " ['set', 'test_DataTypes'],\n",
       " ['print', 'test_DataTypes'],\n",
       " ['print', 'test_DataTypes'],\n",
       " ['print', 'test_DataTypes'],\n",
       " ['count', 'test_DataTypes'],\n",
       " ['count', 'test_DataTypes'],\n",
       " ['list', 'test_DataTypes'],\n",
       " ['print', 'test_DataTypes'],\n",
       " ['print', 'test_DataTypes'],\n",
       " ['print', 'test_DataTypes'],\n",
       " ['print', 'test_DataTypes'],\n",
       " ['bool', 'test_DataTypes'],\n",
       " ['print', 'test_DataTypes'],\n",
       " ['bool', 'test_DataTypes'],\n",
       " ['print', 'test_DataTypes'],\n",
       " ['print', 'test_DataTypes'],\n",
       " ['print', 'test_DataTypes'],\n",
       " ['float', 'test_DataTypes'],\n",
       " ['float', 'test_DataTypes'],\n",
       " ['float', 'test_DataTypes'],\n",
       " ['str', 'test_DataTypes'],\n",
       " ['float', 'test_DataTypes'],\n",
       " ['float', 'test_DataTypes']]"
      ]
     },
     "execution_count": 16,
     "metadata": {},
     "output_type": "execute_result"
    }
   ],
   "source": [
    "allfuncalls = []\n",
    "fi = 0\n",
    "for thisfile in allfiles:\n",
    "    funwords = re.findall(r\"\\w*\\( ?\\b\",thisfile)\n",
    "    # Remove \"( \" from all the elements of the list\n",
    "    funwords = [i.strip(\"( \") for i in funwords]\n",
    "    # Remove all empty items \"\"\n",
    "    funwords = [i for i in funwords if len(i) > 0]\n",
    "    for f in funwords:\n",
    "        allfuncalls.append([f, pyfiles[fi][:-6]])\n",
    "    # increment file counter\n",
    "    fi += 1\n",
    "allfuncalls"
   ]
  },
  {
   "cell_type": "code",
   "execution_count": 17,
   "id": "25e3cde8",
   "metadata": {},
   "outputs": [
    {
     "data": {
      "text/plain": [
       "[['range', 'test_indexSlice'],\n",
       " ['list', 'test_indexSlice'],\n",
       " ['print', 'test_indexSlice'],\n",
       " ['print', 'test_indexSlice'],\n",
       " ['print', 'test_indexSlice'],\n",
       " ['list', 'test_indexSlice'],\n",
       " ['range', 'test_indexSlice'],\n",
       " ['print', 'test_indexSlice'],\n",
       " ['print', 'test_indexSlice'],\n",
       " ['sum', 'test_functions'],\n",
       " ['list', 'test_functions'],\n",
       " ['range', 'test_functions'],\n",
       " ['print', 'test_functions'],\n",
       " ['print', 'test_functions'],\n",
       " ['print', 'test_DataTypes'],\n",
       " ['print', 'test_DataTypes'],\n",
       " ['print', 'test_DataTypes'],\n",
       " ['type', 'test_DataTypes'],\n",
       " ['type', 'test_DataTypes'],\n",
       " ['print', 'test_DataTypes'],\n",
       " ['print', 'test_DataTypes'],\n",
       " ['print', 'test_DataTypes'],\n",
       " ['print', 'test_DataTypes'],\n",
       " ['print', 'test_DataTypes'],\n",
       " ['print', 'test_DataTypes'],\n",
       " ['print', 'test_DataTypes'],\n",
       " ['print', 'test_DataTypes'],\n",
       " ['print', 'test_DataTypes'],\n",
       " ['print', 'test_DataTypes'],\n",
       " ['print', 'test_DataTypes'],\n",
       " ['str', 'test_DataTypes'],\n",
       " ['str', 'test_DataTypes'],\n",
       " ['str', 'test_DataTypes'],\n",
       " ['print', 'test_DataTypes'],\n",
       " ['print', 'test_DataTypes'],\n",
       " ['type', 'test_DataTypes'],\n",
       " ['float', 'test_DataTypes'],\n",
       " ['type', 'test_DataTypes'],\n",
       " ['int', 'test_DataTypes'],\n",
       " ['int', 'test_DataTypes'],\n",
       " ['str', 'test_DataTypes'],\n",
       " ['print', 'test_DataTypes'],\n",
       " ['print', 'test_DataTypes'],\n",
       " ['print', 'test_DataTypes'],\n",
       " ['set', 'test_DataTypes'],\n",
       " ['print', 'test_DataTypes'],\n",
       " ['print', 'test_DataTypes'],\n",
       " ['print', 'test_DataTypes'],\n",
       " ['count', 'test_DataTypes'],\n",
       " ['count', 'test_DataTypes'],\n",
       " ['list', 'test_DataTypes'],\n",
       " ['print', 'test_DataTypes'],\n",
       " ['print', 'test_DataTypes'],\n",
       " ['print', 'test_DataTypes'],\n",
       " ['print', 'test_DataTypes'],\n",
       " ['bool', 'test_DataTypes'],\n",
       " ['print', 'test_DataTypes'],\n",
       " ['bool', 'test_DataTypes'],\n",
       " ['print', 'test_DataTypes'],\n",
       " ['print', 'test_DataTypes'],\n",
       " ['print', 'test_DataTypes'],\n",
       " ['float', 'test_DataTypes'],\n",
       " ['float', 'test_DataTypes'],\n",
       " ['float', 'test_DataTypes'],\n",
       " ['str', 'test_DataTypes'],\n",
       " ['float', 'test_DataTypes'],\n",
       " ['float', 'test_DataTypes']]"
      ]
     },
     "execution_count": 17,
     "metadata": {},
     "output_type": "execute_result"
    }
   ],
   "source": [
    "# Another shorter form ta do the same shit\n",
    "allfuncalls = []\n",
    "for fi, thisfile in enumerate(allfiles):\n",
    "#    print(fi, thisfile)\n",
    "    funwords = re.findall(r\"\\w*\\( ?\\b\",thisfile)\n",
    "    # Remove \"( \" from all the elements of the list\n",
    "    funwords = [i.strip(\"( \") for i in funwords]\n",
    "    # Remove all empty items \"\"\n",
    "    funwords = [i for i in funwords if len(i) > 0]\n",
    "    for f in funwords:\n",
    "#        print(f)\n",
    "        allfuncalls.append([f, pyfiles[fi][:-6]]) # Print function and name of the file it is found in\n",
    "allfuncalls"
   ]
  },
  {
   "cell_type": "markdown",
   "id": "3fd6e986",
   "metadata": {},
   "source": [
    "## Create an Alphabetized Index"
   ]
  },
  {
   "cell_type": "code",
   "execution_count": 18,
   "id": "aea720c0",
   "metadata": {},
   "outputs": [
    {
     "data": {
      "text/plain": [
       "['float',\n",
       " 'int',\n",
       " 'str',\n",
       " 'sum',\n",
       " 'type',\n",
       " 'bool',\n",
       " 'print',\n",
       " 'range',\n",
       " 'set',\n",
       " 'count',\n",
       " 'list']"
      ]
     },
     "execution_count": 18,
     "metadata": {},
     "output_type": "execute_result"
    }
   ],
   "source": [
    "# Extract all functional calls and extract the unique elements\n",
    "funs = []\n",
    "for i in allfuncalls:\n",
    "    funs.append(i[0])\n",
    "list(set(funs))"
   ]
  },
  {
   "cell_type": "code",
   "execution_count": 19,
   "id": "6b120f98",
   "metadata": {},
   "outputs": [
    {
     "data": {
      "text/plain": [
       "['range',\n",
       " 'list',\n",
       " 'print',\n",
       " 'sum',\n",
       " 'type',\n",
       " 'str',\n",
       " 'float',\n",
       " 'int',\n",
       " 'set',\n",
       " 'count',\n",
       " 'bool']"
      ]
     },
     "execution_count": 19,
     "metadata": {},
     "output_type": "execute_result"
    }
   ],
   "source": [
    "# Another way\n",
    "uniquenames = []\n",
    "\n",
    "for i in allfuncalls:\n",
    "    if i[0] not in uniquenames:\n",
    "        uniquenames.append(i[0])\n",
    "uniquenames"
   ]
  },
  {
   "cell_type": "code",
   "execution_count": 20,
   "id": "3cb62eb6",
   "metadata": {},
   "outputs": [
    {
     "data": {
      "text/plain": [
       "{'range': [],\n",
       " 'list': [],\n",
       " 'print': [],\n",
       " 'sum': [],\n",
       " 'type': [],\n",
       " 'str': [],\n",
       " 'float': [],\n",
       " 'int': [],\n",
       " 'set': [],\n",
       " 'count': [],\n",
       " 'bool': []}"
      ]
     },
     "execution_count": 20,
     "metadata": {},
     "output_type": "execute_result"
    }
   ],
   "source": [
    "# Create a dictionary\n",
    "indexdict = {}\n",
    "\n",
    "for i in allfuncalls:\n",
    "    \n",
    "    # Create a new key if it doesnt already exist\n",
    "    if i[0] not in indexdict:\n",
    "        indexdict[i[0]] = []\n",
    "indexdict"
   ]
  },
  {
   "cell_type": "code",
   "execution_count": 21,
   "id": "d9e3fe6a",
   "metadata": {},
   "outputs": [
    {
     "data": {
      "text/plain": [
       "{'range': ['test_indexSlice', 'test_functions'],\n",
       " 'list': ['test_indexSlice', 'test_functions', 'test_DataTypes'],\n",
       " 'print': ['test_indexSlice', 'test_functions', 'test_DataTypes'],\n",
       " 'sum': ['test_functions'],\n",
       " 'type': ['test_DataTypes'],\n",
       " 'str': ['test_DataTypes'],\n",
       " 'float': ['test_DataTypes'],\n",
       " 'int': ['test_DataTypes'],\n",
       " 'set': ['test_DataTypes'],\n",
       " 'count': ['test_DataTypes'],\n",
       " 'bool': ['test_DataTypes']}"
      ]
     },
     "execution_count": 21,
     "metadata": {},
     "output_type": "execute_result"
    }
   ],
   "source": [
    "# Create a dictionary\n",
    "indexdict = {}\n",
    "\n",
    "for i in allfuncalls:\n",
    "    \n",
    "    # Create a new key if it doesnt already exist\n",
    "    if i[0] not in indexdict:\n",
    "        indexdict[i[0]] = []\n",
    "    \n",
    "    # Add the filenames to the list\n",
    "    if i[1] not in indexdict[i[0]]:\n",
    "        indexdict[i[0]].append(i[1])\n",
    "indexdict"
   ]
  },
  {
   "cell_type": "code",
   "execution_count": 22,
   "id": "c3441132",
   "metadata": {},
   "outputs": [
    {
     "data": {
      "text/plain": [
       "{'range': ['test_indexslice', 'test_functions'],\n",
       " 'list': ['test_indexslice', 'test_functions', 'test_datatypes'],\n",
       " 'print': ['test_indexslice', 'test_functions', 'test_datatypes'],\n",
       " 'sum': ['test_functions'],\n",
       " 'type': ['test_datatypes'],\n",
       " 'str': ['test_datatypes'],\n",
       " 'float': ['test_datatypes'],\n",
       " 'int': ['test_datatypes'],\n",
       " 'set': ['test_datatypes'],\n",
       " 'count': ['test_datatypes'],\n",
       " 'bool': ['test_datatypes']}"
      ]
     },
     "execution_count": 22,
     "metadata": {},
     "output_type": "execute_result"
    }
   ],
   "source": [
    "# Make all file names lowercase\n",
    "indexdict = {}\n",
    "\n",
    "for i in allfuncalls:\n",
    "    \n",
    "    # Create a new key if it doesnt already exist\n",
    "    if i[0] not in indexdict:\n",
    "        indexdict[i[0]] = []\n",
    "    \n",
    "    # Add the filenames to the list\n",
    "    if i[1].lower() not in indexdict[i[0]]:\n",
    "        indexdict[i[0]].append(i[1].lower())\n",
    "indexdict"
   ]
  },
  {
   "cell_type": "code",
   "execution_count": 23,
   "id": "fc33ebd5",
   "metadata": {},
   "outputs": [
    {
     "data": {
      "text/plain": [
       "{'range': ['test_indexslice', 'test_functions'],\n",
       " 'list': ['test_indexslice', 'test_functions', 'test_datatypes'],\n",
       " 'print': ['test_indexslice', 'test_functions', 'test_datatypes'],\n",
       " 'sum': ['test_functions'],\n",
       " 'type': ['test_datatypes'],\n",
       " 'str': ['test_datatypes'],\n",
       " 'float': ['test_datatypes'],\n",
       " 'int': ['test_datatypes'],\n",
       " 'set': ['test_datatypes'],\n",
       " 'count': ['test_datatypes'],\n",
       " 'bool': ['test_datatypes']}"
      ]
     },
     "execution_count": 23,
     "metadata": {},
     "output_type": "execute_result"
    }
   ],
   "source": [
    "# Yet another way\n",
    "indexdict = {}\n",
    "\n",
    "for temp_funcall, temp_filename in allfuncalls:\n",
    "    \n",
    "    # Create a new key if it doesnt already exist\n",
    "    if temp_funcall not in indexdict:\n",
    "        indexdict[temp_funcall] = []\n",
    "    \n",
    "    # Add the filenames to the list\n",
    "    if temp_filename.lower() not in indexdict[temp_funcall]:\n",
    "        indexdict[temp_funcall].append(temp_filename.lower())\n",
    "indexdict"
   ]
  },
  {
   "cell_type": "code",
   "execution_count": 24,
   "id": "b26fa8c0",
   "metadata": {},
   "outputs": [
    {
     "data": {
      "text/plain": [
       "{'range': ['test_indexslice', 'test_functions'],\n",
       " 'list': ['test_indexslice', 'test_functions', 'test_datatypes'],\n",
       " 'print': ['test_indexslice', 'test_functions', 'test_datatypes'],\n",
       " 'sum': ['test_functions'],\n",
       " 'type': ['test_datatypes'],\n",
       " 'str': ['test_datatypes'],\n",
       " 'float': ['test_datatypes'],\n",
       " 'int': ['test_datatypes'],\n",
       " 'set': ['test_datatypes'],\n",
       " 'count': ['test_datatypes'],\n",
       " 'bool': ['test_datatypes']}"
      ]
     },
     "execution_count": 24,
     "metadata": {},
     "output_type": "execute_result"
    }
   ],
   "source": [
    "# Yet another way\n",
    "indexdict = {}\n",
    "\n",
    "for temp_funcall, temp_filename in allfuncalls:\n",
    "    \n",
    "    # Force lowercase filename\n",
    "    temp_filename = temp_filename.lower()\n",
    "    \n",
    "    # Create a new key if it doesnt already exist\n",
    "    if temp_funcall not in indexdict:\n",
    "        indexdict[temp_funcall] = []\n",
    "    \n",
    "    # Add the filenames to the list\n",
    "    if temp_filename not in indexdict[temp_funcall]:\n",
    "        indexdict[temp_funcall].append(temp_filename)\n",
    "indexdict"
   ]
  },
  {
   "cell_type": "code",
   "execution_count": 25,
   "id": "b0e27323",
   "metadata": {},
   "outputs": [],
   "source": [
    "# Write the dictionary to a text file\n",
    "fid = open(\"function_index.txt\", \"w\")\n",
    "\n",
    "for key in indexdict:\n",
    "    \n",
    "    # the first column\n",
    "    fid.write(f\"{key};\")\n",
    "    \n",
    "    # files in the second cell\n",
    "    tmps = str(indexdict[key]).replace('[', '').replace(']', '').replace(\"'\", '')\n",
    "    fid.write(f\"{tmps}\")\n",
    "    \n",
    "    # new line\n",
    "    fid.write(\"\\n\")\n",
    "    \n",
    "fid.close()"
   ]
  },
  {
   "cell_type": "code",
   "execution_count": 26,
   "id": "974529b9",
   "metadata": {},
   "outputs": [
    {
     "data": {
      "text/plain": [
       "['bool',\n",
       " 'count',\n",
       " 'float',\n",
       " 'int',\n",
       " 'list',\n",
       " 'print',\n",
       " 'range',\n",
       " 'set',\n",
       " 'str',\n",
       " 'sum',\n",
       " 'type']"
      ]
     },
     "execution_count": 26,
     "metadata": {},
     "output_type": "execute_result"
    }
   ],
   "source": [
    "sorted(indexdict)"
   ]
  },
  {
   "cell_type": "code",
   "execution_count": 27,
   "id": "194697d7",
   "metadata": {},
   "outputs": [],
   "source": [
    "# Write the dictionary to a text file in alphabetical order\n",
    "fid = open(\"function_index.txt\", \"w\")\n",
    "\n",
    "for key in sorted(indexdict):\n",
    "    \n",
    "    # the first column\n",
    "    fid.write(f\"{key};\")\n",
    "    \n",
    "    # files in the second cell\n",
    "    tmps = str(indexdict[key]).replace('[', '').replace(']', '').replace(\"'\", '')\n",
    "    fid.write(f\"{tmps}\")\n",
    "    \n",
    "    # new line\n",
    "    fid.write(\"\\n\")\n",
    "    \n",
    "fid.close()"
   ]
  },
  {
   "cell_type": "markdown",
   "id": "4b5c2c27",
   "metadata": {},
   "source": [
    "## Create a File-Function List"
   ]
  },
  {
   "cell_type": "markdown",
   "id": "3f9170b2",
   "metadata": {},
   "source": [
    "In this section we will create a dictionary with keys as data file names and the values will be the functions themselves."
   ]
  },
  {
   "cell_type": "code",
   "execution_count": 28,
   "id": "42f1df45",
   "metadata": {},
   "outputs": [
    {
     "data": {
      "text/plain": [
       "{'test_indexslice': ['range', 'list', 'print'],\n",
       " 'test_functions': ['sum', 'list', 'range', 'print'],\n",
       " 'test_datatypes': ['print',\n",
       "  'type',\n",
       "  'str',\n",
       "  'float',\n",
       "  'int',\n",
       "  'set',\n",
       "  'count',\n",
       "  'list',\n",
       "  'bool']}"
      ]
     },
     "execution_count": 28,
     "metadata": {},
     "output_type": "execute_result"
    }
   ],
   "source": [
    "# Yet another way\n",
    "indexdict = {}\n",
    "\n",
    "for temp_funcall, temp_filename in allfuncalls:\n",
    "    temp_filename = temp_filename.lower()\n",
    "\n",
    "    # Create a new key if it doesnt already exist\n",
    "\n",
    "    if temp_filename not in indexdict:\n",
    "        indexdict[temp_filename] = []\n",
    "    \n",
    "    # Add the functions to the list\n",
    "    if temp_funcall not in indexdict[temp_filename]:\n",
    "        indexdict[temp_filename].append(temp_funcall)\n",
    "indexdict"
   ]
  },
  {
   "cell_type": "code",
   "execution_count": 29,
   "id": "50a17f97",
   "metadata": {},
   "outputs": [
    {
     "data": {
      "text/plain": [
       "\"['bool', 'count', 'float', 'int', 'list', 'print', 'set', 'str', 'type']\""
      ]
     },
     "execution_count": 29,
     "metadata": {},
     "output_type": "execute_result"
    }
   ],
   "source": [
    "str(sorted(indexdict[\"test_datatypes\"]))"
   ]
  },
  {
   "cell_type": "code",
   "execution_count": 30,
   "id": "22e3467c",
   "metadata": {},
   "outputs": [],
   "source": [
    "# Write the dictionary to a text file in alphabetical order\n",
    "fid = open(\"file_index.txt\", \"w\")\n",
    "\n",
    "for key in sorted(indexdict):\n",
    "    \n",
    "    # the first column\n",
    "    fid.write(f\"{key};\")\n",
    "    \n",
    "    # files in the second cell\n",
    "    tmps = str(sorted(indexdict[key]))\n",
    "    tmps = tmps.replace('[', '').replace(']', '').replace(\"'\", '')\n",
    "    fid.write(f\"{tmps}\")\n",
    "    \n",
    "    # new line\n",
    "    fid.write(\"\\n\") \n",
    "    \n",
    "fid.close()"
   ]
  },
  {
   "cell_type": "markdown",
   "id": "b9c89c45",
   "metadata": {},
   "source": [
    "## Which File Has the Most Points"
   ]
  },
  {
   "cell_type": "markdown",
   "id": "23bf7b73",
   "metadata": {},
   "source": [
    "Which of the three files we worked with has the most points? Files are in unicode, so all letters and numbers have their own unicode value. Each character can be related to a code point. We will count the code points and calculate the total number of points per file, and then take the average."
   ]
  },
  {
   "cell_type": "code",
   "execution_count": 31,
   "id": "0fe61a26",
   "metadata": {},
   "outputs": [
    {
     "data": {
      "text/plain": [
       "97"
      ]
     },
     "execution_count": 31,
     "metadata": {},
     "output_type": "execute_result"
    }
   ],
   "source": [
    "# The function is called ord\n",
    "ord(\"a\")"
   ]
  },
  {
   "cell_type": "code",
   "execution_count": 32,
   "id": "cd563572",
   "metadata": {},
   "outputs": [
    {
     "name": "stdout",
     "output_type": "stream",
     "text": [
      "[335175, 246942, 1156531]\n"
     ]
    }
   ],
   "source": [
    "total = [0]*len(allfiles)\n",
    "# Loop through all the files\n",
    "for fidx, fil in enumerate(allfiles):\n",
    "    # Loop through all characters and get the score\n",
    "    for c in fil:\n",
    "        # Sum all character scores\n",
    "        total[fidx] += ord(c)\n",
    "    # Normalize to character length\n",
    "    total\n",
    "print(total)"
   ]
  },
  {
   "cell_type": "code",
   "execution_count": 33,
   "id": "6df5d48e",
   "metadata": {},
   "outputs": [
    {
     "name": "stdout",
     "output_type": "stream",
     "text": [
      "test_indexSlice has 335175 points\n",
      "test_functions has 246942 points\n",
      "test_DataTypes has 1156531 points\n"
     ]
    }
   ],
   "source": [
    "for i in range(len(allfiles)):\n",
    "    print(f\"{pyfiles[i][:-6]} has {total[i]} points\")"
   ]
  },
  {
   "cell_type": "code",
   "execution_count": 34,
   "id": "6a90607f",
   "metadata": {},
   "outputs": [
    {
     "data": {
      "image/png": "[encoded data removed]",
      "text/plain": [
       "<Figure size 432x288 with 1 Axes>"
      ]
     },
     "metadata": {
      "needs_background": "light"
     },
     "output_type": "display_data"
    }
   ],
   "source": [
    "plt.bar(range(len(total)), total)\n",
    "# Fix the x-labels\n",
    "xlabels = [i[5:-6] for i in pyfiles]\n",
    "plt.ylabel(\"Unicode Score\", fontsize = 20)\n",
    "plt.xlabel(\"File Names\", fontsize = 20)\n",
    "plt.xticks(range(len(total)), labels = xlabels)\n",
    "plt.show()"
   ]
  },
  {
   "cell_type": "code",
   "execution_count": 35,
   "id": "1e77d32d",
   "metadata": {},
   "outputs": [
    {
     "name": "stdout",
     "output_type": "stream",
     "text": [
      "[70.93650793650794, 70.6557939914163, 70.3058358662614]\n"
     ]
    }
   ],
   "source": [
    "# Normalize with the length of file\n",
    "total = [0]*len(allfiles)\n",
    "# Loop through all the files\n",
    "for fidx, fil in enumerate(allfiles):\n",
    "    # Loop through all characters and get the score\n",
    "    for c in fil:\n",
    "        # Sum all character scores\n",
    "        total[fidx] += ord(c)\n",
    "    # Normalize to character length\n",
    "    total[fidx] = total[fidx]/len(fil)\n",
    "print(total)"
   ]
  },
  {
   "cell_type": "code",
   "execution_count": 36,
   "id": "811a47bf",
   "metadata": {},
   "outputs": [
    {
     "name": "stdout",
     "output_type": "stream",
     "text": [
      "test_indexSlice has 70.937 points\n",
      "test_functions has 70.656 points\n",
      "test_DataTypes has 70.306 points\n"
     ]
    }
   ],
   "source": [
    "for i in range(len(allfiles)):\n",
    "    print(f\"{pyfiles[i][:-6]} has {total[i]:.3f} points\")"
   ]
  },
  {
   "cell_type": "code",
   "execution_count": 37,
   "id": "194789d2",
   "metadata": {},
   "outputs": [
    {
     "data": {
      "image/png": "[encoded data removed]",
      "text/plain": [
       "<Figure size 432x288 with 1 Axes>"
      ]
     },
     "metadata": {
      "needs_background": "light"
     },
     "output_type": "display_data"
    }
   ],
   "source": [
    "plt.bar(range(len(total)), total)\n",
    "# Fix the x-labels\n",
    "xlabels = [i[5:-6] for i in pyfiles]\n",
    "plt.ylabel(\"Unicode Score\", fontsize = 20)\n",
    "plt.xlabel(\"File Names\", fontsize = 20)\n",
    "plt.xticks(range(len(total)), labels = xlabels)\n",
    "plt.ylim([67,72])\n",
    "plt.show()"
   ]
  },
  {
   "cell_type": "code",
   "execution_count": 38,
   "id": "9815a60b",
   "metadata": {},
   "outputs": [
    {
     "data": {
      "image/png": "[encoded data removed]",
      "text/plain": [
       "<Figure size 432x288 with 1 Axes>"
      ]
     },
     "metadata": {
      "needs_background": "light"
     },
     "output_type": "display_data"
    }
   ],
   "source": [
    "plt.bar(range(len(total)), total)\n",
    "# Fix the x-labels\n",
    "xlabels = [i[5:-6] for i in pyfiles]\n",
    "plt.ylabel(\"Unicode Score\", fontsize = 20)\n",
    "plt.xlabel(\"File Names\", fontsize = 20)\n",
    "plt.xticks(range(len(total)), labels = xlabels)\n",
    "plt.ylim([min(total)-1, max(total) +1])\n",
    "plt.show()"
   ]
  }
 ],
 "metadata": {
  "kernelspec": {
   "display_name": "Python 3 (ipykernel)",
   "language": "python",
   "name": "python3"
  },
  "language_info": {
   "codemirror_mode": {
    "name": "ipython",
    "version": 3
   },
   "file_extension": ".py",
   "mimetype": "text/x-python",
   "name": "python",
   "nbconvert_exporter": "python",
   "pygments_lexer": "ipython3",
   "version": "3.9.7"
  }
 },
 "nbformat": 4,
 "nbformat_minor": 5
}
