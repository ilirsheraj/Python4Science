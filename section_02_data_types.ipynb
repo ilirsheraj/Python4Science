{
 "cells": [
  {
   "cell_type": "markdown",
   "id": "69d62015",
   "metadata": {},
   "source": [
    "## Variables"
   ]
  },
  {
   "cell_type": "code",
   "execution_count": 1,
   "id": "770d4a1f",
   "metadata": {},
   "outputs": [
    {
     "data": {
      "text/plain": [
       "3"
      ]
     },
     "execution_count": 1,
     "metadata": {},
     "output_type": "execute_result"
    }
   ],
   "source": [
    "a = 4 \n",
    "b = 3\n",
    "a\n",
    "b"
   ]
  },
  {
   "cell_type": "code",
   "execution_count": 2,
   "id": "a6818ebf",
   "metadata": {},
   "outputs": [
    {
     "name": "stdout",
     "output_type": "stream",
     "text": [
      "4\n",
      "3\n"
     ]
    }
   ],
   "source": [
    "print(a)\n",
    "print(b)"
   ]
  },
  {
   "cell_type": "code",
   "execution_count": 3,
   "id": "7913758e",
   "metadata": {},
   "outputs": [
    {
     "data": {
      "text/plain": [
       "7"
      ]
     },
     "execution_count": 3,
     "metadata": {},
     "output_type": "execute_result"
    }
   ],
   "source": [
    "# to create new cell automatically, press shift + enter\n",
    "c = 7\n",
    "c"
   ]
  },
  {
   "cell_type": "code",
   "execution_count": 4,
   "id": "e22153f5",
   "metadata": {},
   "outputs": [
    {
     "name": "stdout",
     "output_type": "stream",
     "text": [
      "4\n",
      "3\n",
      "7\n"
     ]
    }
   ],
   "source": [
    "print(a)\n",
    "print(b)\n",
    "print(c)"
   ]
  },
  {
   "cell_type": "code",
   "execution_count": 5,
   "id": "c7575ddf",
   "metadata": {},
   "outputs": [
    {
     "name": "stdout",
     "output_type": "stream",
     "text": [
      "Hello\n",
      "Mike's favorite color is purple\n",
      "Hello Mike's favorite color is purple\n"
     ]
    }
   ],
   "source": [
    "d = 'Hello'\n",
    "e = \"Mike's favorite color is purple\"\n",
    "print(d)\n",
    "print(e)\n",
    "print(d, e)"
   ]
  },
  {
   "cell_type": "code",
   "execution_count": 6,
   "id": "d3eed4d7",
   "metadata": {},
   "outputs": [
    {
     "name": "stdout",
     "output_type": "stream",
     "text": [
      "4 3 7\n"
     ]
    }
   ],
   "source": [
    "print(a, b, c)"
   ]
  },
  {
   "cell_type": "code",
   "execution_count": 7,
   "id": "a8b7dd23",
   "metadata": {},
   "outputs": [],
   "source": [
    "# rules for variable names\n",
    "# Comments are fine in this manner\n",
    "filterOrder = 2048\n",
    "filter_Order = 2048 # This is a good parameter setting\n",
    "data2plot = 3 # I think 3 is good"
   ]
  },
  {
   "cell_type": "code",
   "execution_count": 8,
   "id": "571c5e2b",
   "metadata": {},
   "outputs": [
    {
     "name": "stdout",
     "output_type": "stream",
     "text": [
      "10 20\n"
     ]
    }
   ],
   "source": [
    "# Multiple assignments\n",
    "f, g = 10, 20\n",
    "print(f, g)"
   ]
  },
  {
   "cell_type": "code",
   "execution_count": 9,
   "id": "ac6571c3",
   "metadata": {},
   "outputs": [
    {
     "name": "stdout",
     "output_type": "stream",
     "text": [
      "Variable       Type    Data/Info\n",
      "--------------------------------\n",
      "a              int     4\n",
      "b              int     3\n",
      "c              int     7\n",
      "d              str     Hello\n",
      "data2plot      int     3\n",
      "e              str     Mike's favorite color is purple\n",
      "f              int     10\n",
      "filterOrder    int     2048\n",
      "filter_Order   int     2048\n",
      "g              int     20\n"
     ]
    }
   ],
   "source": [
    "# To see a list of all the variables created, types and additional information\n",
    "%whos"
   ]
  },
  {
   "cell_type": "code",
   "execution_count": 10,
   "id": "66b3c8c7",
   "metadata": {},
   "outputs": [
    {
     "name": "stdout",
     "output_type": "stream",
     "text": [
      "5\n"
     ]
    }
   ],
   "source": [
    "# Exercises for the video\n",
    "# is it possible to change the value of a into something else (override)? \n",
    "# Of course it is\n",
    "a = 5\n",
    "print(a)"
   ]
  },
  {
   "cell_type": "code",
   "execution_count": 11,
   "id": "717f398d",
   "metadata": {},
   "outputs": [
    {
     "name": "stdout",
     "output_type": "stream",
     "text": [
      "5\n"
     ]
    }
   ],
   "source": [
    "# Override a variable using a different data type\n",
    "b = \"BS\"\n",
    "print(a)"
   ]
  },
  {
   "cell_type": "code",
   "execution_count": 12,
   "id": "0fd4f250",
   "metadata": {},
   "outputs": [
    {
     "name": "stdout",
     "output_type": "stream",
     "text": [
      "Variable       Type    Data/Info\n",
      "--------------------------------\n",
      "a              int     5\n",
      "b              str     BS\n",
      "c              int     7\n",
      "d              str     Hello\n",
      "data2plot      int     3\n",
      "e              str     Mike's favorite color is purple\n",
      "f              int     10\n",
      "filterOrder    int     2048\n",
      "filter_Order   int     2048\n",
      "g              int     20\n"
     ]
    }
   ],
   "source": [
    "%whos"
   ]
  },
  {
   "cell_type": "markdown",
   "id": "8191d3ba",
   "metadata": {},
   "source": [
    "## Math Oprations"
   ]
  },
  {
   "cell_type": "code",
   "execution_count": 13,
   "id": "047e388e",
   "metadata": {},
   "outputs": [
    {
     "name": "stdout",
     "output_type": "stream",
     "text": [
      "<class 'int'>\n",
      "<class 'float'>\n",
      "<class 'int'>\n"
     ]
    }
   ],
   "source": [
    "x = 7\n",
    "y = 4.1\n",
    "z = 0\n",
    "print(type(x))\n",
    "print(type(y))\n",
    "print(type(z))"
   ]
  },
  {
   "cell_type": "code",
   "execution_count": 14,
   "id": "f704645c",
   "metadata": {},
   "outputs": [
    {
     "name": "stdout",
     "output_type": "stream",
     "text": [
      "1\n"
     ]
    }
   ],
   "source": [
    "print(x - 6)"
   ]
  },
  {
   "cell_type": "code",
   "execution_count": 15,
   "id": "422ed178",
   "metadata": {},
   "outputs": [
    {
     "name": "stdout",
     "output_type": "stream",
     "text": [
      "9.1\n"
     ]
    }
   ],
   "source": [
    "c = x + y - 2\n",
    "print(c)"
   ]
  },
  {
   "cell_type": "code",
   "execution_count": 16,
   "id": "25584ee2",
   "metadata": {},
   "outputs": [
    {
     "name": "stdout",
     "output_type": "stream",
     "text": [
      "28.699999999999996\n"
     ]
    }
   ],
   "source": [
    "# Floating-point algebra vs real algebra. The real answer is 28.7, but since computers do not have arbitrary precision, these kinds of roundings happen all the time\n",
    "print(x*y)"
   ]
  },
  {
   "cell_type": "code",
   "execution_count": 17,
   "id": "1634bf23",
   "metadata": {},
   "outputs": [
    {
     "name": "stdout",
     "output_type": "stream",
     "text": [
      "1.3333333333333333\n"
     ]
    }
   ],
   "source": [
    "print(4/3)"
   ]
  },
  {
   "cell_type": "code",
   "execution_count": 18,
   "id": "1781b9e4",
   "metadata": {},
   "outputs": [
    {
     "name": "stdout",
     "output_type": "stream",
     "text": [
      "1\n"
     ]
    }
   ],
   "source": [
    "print(4//3)"
   ]
  },
  {
   "cell_type": "code",
   "execution_count": 19,
   "id": "1ff4f06f",
   "metadata": {},
   "outputs": [
    {
     "name": "stdout",
     "output_type": "stream",
     "text": [
      "1\n"
     ]
    }
   ],
   "source": [
    "print(4%3)"
   ]
  },
  {
   "cell_type": "code",
   "execution_count": 20,
   "id": "ad73e31e",
   "metadata": {},
   "outputs": [
    {
     "data": {
      "text/plain": [
       "7"
      ]
     },
     "execution_count": 20,
     "metadata": {},
     "output_type": "execute_result"
    }
   ],
   "source": [
    "# Be careful with \"\\\" symbol\n",
    "4\\\n",
    "+3"
   ]
  },
  {
   "cell_type": "code",
   "execution_count": 21,
   "id": "da2386b6",
   "metadata": {},
   "outputs": [
    {
     "name": "stdout",
     "output_type": "stream",
     "text": [
      "9\n"
     ]
    }
   ],
   "source": [
    "print(3**2)"
   ]
  },
  {
   "cell_type": "code",
   "execution_count": 22,
   "id": "1af24515",
   "metadata": {},
   "outputs": [
    {
     "data": {
      "text/plain": [
       "3.0"
      ]
     },
     "execution_count": 22,
     "metadata": {},
     "output_type": "execute_result"
    }
   ],
   "source": [
    "# square root\n",
    "9**(1/2)"
   ]
  },
  {
   "cell_type": "code",
   "execution_count": 23,
   "id": "27e16117",
   "metadata": {},
   "outputs": [
    {
     "name": "stdout",
     "output_type": "stream",
     "text": [
      "IlirSheraj\n"
     ]
    }
   ],
   "source": [
    "firstName = \"Ilir\"\n",
    "lastName = \"Sheraj\"\n",
    "print(firstName + lastName) # Overloading: + means different things in different settings"
   ]
  },
  {
   "cell_type": "code",
   "execution_count": 24,
   "id": "56754d87",
   "metadata": {},
   "outputs": [
    {
     "name": "stdout",
     "output_type": "stream",
     "text": [
      "Ilir Sheraj\n"
     ]
    }
   ],
   "source": [
    "print(firstName + \" \" + lastName)"
   ]
  },
  {
   "cell_type": "code",
   "execution_count": 25,
   "id": "c5eec42b",
   "metadata": {},
   "outputs": [
    {
     "data": {
      "text/plain": [
       "'IlirIlirIlirIlir'"
      ]
     },
     "execution_count": 25,
     "metadata": {},
     "output_type": "execute_result"
    }
   ],
   "source": [
    "firstName * 4 # Another xmple of overlaoding"
   ]
  },
  {
   "cell_type": "markdown",
   "id": "3d75d1d9",
   "metadata": {},
   "source": [
    "## Printing and Inputing"
   ]
  },
  {
   "cell_type": "code",
   "execution_count": 26,
   "id": "6cddb837",
   "metadata": {},
   "outputs": [
    {
     "name": "stdout",
     "output_type": "stream",
     "text": [
      "3 times 5 equals 15\n",
      "3 times 5 equals 15\n",
      "3 times 5 equals 15\n"
     ]
    }
   ],
   "source": [
    "x = 3\n",
    "y = 5\n",
    "print(\"3 times 5 equals 15\")\n",
    "print(x, \"times\", y, \"equals\", x*y)\n",
    "print(str(x) + \" times \" + str(y) + \" equals \" + str(x*y))"
   ]
  },
  {
   "cell_type": "code",
   "execution_count": 27,
   "id": "f61040cc",
   "metadata": {},
   "outputs": [
    {
     "name": "stdout",
     "output_type": "stream",
     "text": [
      "Feed me a stray cat. bsa\n"
     ]
    },
    {
     "data": {
      "text/plain": [
       "'bsa'"
      ]
     },
     "execution_count": 27,
     "metadata": {},
     "output_type": "execute_result"
    }
   ],
   "source": [
    "# Make python ask for input\n",
    "ans = input(\"Feed me a stray cat. \") # input always gives a string\n",
    "ans"
   ]
  },
  {
   "cell_type": "code",
   "execution_count": 28,
   "id": "7bb027d3",
   "metadata": {},
   "outputs": [
    {
     "name": "stdout",
     "output_type": "stream",
     "text": [
      "Feed me a stray cat. 4\n"
     ]
    },
    {
     "data": {
      "text/plain": [
       "4"
      ]
     },
     "execution_count": 28,
     "metadata": {},
     "output_type": "execute_result"
    }
   ],
   "source": [
    "ans = int(input(\"Feed me a stray cat. \"))\n",
    "ans"
   ]
  },
  {
   "cell_type": "code",
   "execution_count": 29,
   "id": "08e0de75",
   "metadata": {},
   "outputs": [
    {
     "name": "stdout",
     "output_type": "stream",
     "text": [
      "Feed me a stray cat. 5\n"
     ]
    }
   ],
   "source": [
    "ans = input(\"Feed me a stray cat. \")\n",
    "ans = float(ans)"
   ]
  },
  {
   "cell_type": "code",
   "execution_count": 30,
   "id": "1c574743",
   "metadata": {},
   "outputs": [
    {
     "name": "stdout",
     "output_type": "stream",
     "text": [
      "Assign the length of a; 3\n",
      "Assign the length of b; 4\n",
      "\n",
      "c is 5.0\n"
     ]
    }
   ],
   "source": [
    "# Exercise: Pythagorean Theorem a^2 + b^2 = c^2\n",
    "# Input two numbers from the user corresponding of a and b\n",
    "# Print the length of c\n",
    "a = float(input(\"Assign the length of a; \"))\n",
    "b = float(input(\"Assign the length of b; \"))\n",
    "c = (a**2 + b**2)**(1/2)\n",
    "print()\n",
    "print(\"c is\", c)"
   ]
  },
  {
   "cell_type": "markdown",
   "id": "62b4aeb3",
   "metadata": {},
   "source": [
    "## Lists"
   ]
  },
  {
   "cell_type": "code",
   "execution_count": 31,
   "id": "023d98cc",
   "metadata": {},
   "outputs": [
    {
     "name": "stdout",
     "output_type": "stream",
     "text": [
      "[0, 1, 2, 3, 4, 5]\n"
     ]
    }
   ],
   "source": [
    "aList = [0, 1, 2, 3, 4, 5]\n",
    "print(aList)"
   ]
  },
  {
   "cell_type": "code",
   "execution_count": 32,
   "id": "f9e2250c",
   "metadata": {},
   "outputs": [
    {
     "name": "stdout",
     "output_type": "stream",
     "text": [
      "['hi', 'my', 'name', 'is', 'Ilir']\n"
     ]
    }
   ],
   "source": [
    "strList = [\"hi\", \"my\", \"name\", \"is\", \"Ilir\"]\n",
    "print(strList)"
   ]
  },
  {
   "cell_type": "code",
   "execution_count": 33,
   "id": "967e869f",
   "metadata": {},
   "outputs": [
    {
     "name": "stdout",
     "output_type": "stream",
     "text": [
      "['hello', '7', 7, 7.0]\n"
     ]
    }
   ],
   "source": [
    "mixList = [\"hello\", \"7\", 7, 7.0]\n",
    "print(mixList)"
   ]
  },
  {
   "cell_type": "code",
   "execution_count": 34,
   "id": "d9902637",
   "metadata": {},
   "outputs": [
    {
     "name": "stdout",
     "output_type": "stream",
     "text": [
      "[3, [3, 'four', 4], 'five', 93478]\n"
     ]
    }
   ],
   "source": [
    "listLists = [3,              # a parameter of X\n",
    "             [3, \"four\", 4], # a list\n",
    "             \"five\",         # a string\n",
    "             93478]\n",
    "\n",
    "print(listLists)"
   ]
  },
  {
   "cell_type": "code",
   "execution_count": 35,
   "id": "2bca9855",
   "metadata": {},
   "outputs": [],
   "source": [
    "aList = [0, 1, 2, 3, 4, 5]"
   ]
  },
  {
   "cell_type": "code",
   "execution_count": 36,
   "id": "fdb764d3",
   "metadata": {},
   "outputs": [
    {
     "data": {
      "text/plain": [
       "True"
      ]
     },
     "execution_count": 36,
     "metadata": {},
     "output_type": "execute_result"
    }
   ],
   "source": [
    "4 in aList # boolean"
   ]
  },
  {
   "cell_type": "code",
   "execution_count": 37,
   "id": "ea39283d",
   "metadata": {},
   "outputs": [
    {
     "data": {
      "text/plain": [
       "False"
      ]
     },
     "execution_count": 37,
     "metadata": {},
     "output_type": "execute_result"
    }
   ],
   "source": [
    "4.5 in aList"
   ]
  },
  {
   "cell_type": "code",
   "execution_count": 38,
   "id": "36244a0d",
   "metadata": {},
   "outputs": [
    {
     "data": {
      "text/plain": [
       "True"
      ]
     },
     "execution_count": 38,
     "metadata": {},
     "output_type": "execute_result"
    }
   ],
   "source": [
    "4.5 not in aList"
   ]
  },
  {
   "cell_type": "code",
   "execution_count": 39,
   "id": "b00dc454",
   "metadata": {},
   "outputs": [
    {
     "name": "stdout",
     "output_type": "stream",
     "text": [
      "[0, 1, 2, 3, 4, 5]\n",
      "['hi', 'my', 'name', 'is', 'Ilir']\n"
     ]
    }
   ],
   "source": [
    "print(aList)\n",
    "print(strList)"
   ]
  },
  {
   "cell_type": "code",
   "execution_count": 40,
   "id": "366c0d34",
   "metadata": {},
   "outputs": [
    {
     "data": {
      "text/plain": [
       "[0, 1, 2, 3, 4, 5, 'hi', 'my', 'name', 'is', 'Ilir']"
      ]
     },
     "execution_count": 40,
     "metadata": {},
     "output_type": "execute_result"
    }
   ],
   "source": [
    "aList + strList # Concatenation"
   ]
  },
  {
   "cell_type": "code",
   "execution_count": 41,
   "id": "3c80b97a",
   "metadata": {},
   "outputs": [
    {
     "data": {
      "text/plain": [
       "[0, 1, 2, 3, 4, 5, 0, 1, 2, 3, 4, 5, 0, 1, 2, 3, 4, 5]"
      ]
     },
     "execution_count": 41,
     "metadata": {},
     "output_type": "execute_result"
    }
   ],
   "source": [
    "aList * 3"
   ]
  },
  {
   "cell_type": "code",
   "execution_count": 42,
   "id": "0b22b07c",
   "metadata": {},
   "outputs": [
    {
     "name": "stdout",
     "output_type": "stream",
     "text": [
      "[0, 1, 2, 3, 4, 5]\n",
      "[0, 1, 2, 3, 4, 5, -100]\n"
     ]
    }
   ],
   "source": [
    "# method\n",
    "print(aList)\n",
    "aList.append(-100)\n",
    "print(aList)"
   ]
  },
  {
   "cell_type": "code",
   "execution_count": 43,
   "id": "fb1bcd2c",
   "metadata": {},
   "outputs": [
    {
     "data": {
      "text/plain": [
       "[-100, 0, 1, 2, 3, 4, 5]"
      ]
     },
     "execution_count": 43,
     "metadata": {},
     "output_type": "execute_result"
    }
   ],
   "source": [
    "# sort: mutating the list permanently\n",
    "aList.sort()\n",
    "aList"
   ]
  },
  {
   "cell_type": "code",
   "execution_count": 44,
   "id": "7a882ceb",
   "metadata": {},
   "outputs": [
    {
     "data": {
      "text/plain": [
       "6"
      ]
     },
     "execution_count": 44,
     "metadata": {},
     "output_type": "execute_result"
    }
   ],
   "source": [
    "# list name plus dot, then tabb to se the methods available\n",
    "# coun tthe number of 7's in the list below\n",
    "newList = [3,4,7,4,7,7,7,7,77,5,4,4,6,7,8,86,6]\n",
    "newList.count(7)"
   ]
  },
  {
   "cell_type": "markdown",
   "id": "41d3a329",
   "metadata": {},
   "source": [
    "## Tuples"
   ]
  },
  {
   "cell_type": "code",
   "execution_count": 45,
   "id": "4b89b785",
   "metadata": {},
   "outputs": [
    {
     "data": {
      "text/plain": [
       "(3, '4', 3)"
      ]
     },
     "execution_count": 45,
     "metadata": {},
     "output_type": "execute_result"
    }
   ],
   "source": [
    "atuple = (3, \"4\", 3)\n",
    "atuple"
   ]
  },
  {
   "cell_type": "code",
   "execution_count": 46,
   "id": "d8cbc278",
   "metadata": {},
   "outputs": [
    {
     "data": {
      "text/plain": [
       "(3, '4', 3, 3, '4', 3, 3, '4', 3)"
      ]
     },
     "execution_count": 46,
     "metadata": {},
     "output_type": "execute_result"
    }
   ],
   "source": [
    "atuple*3"
   ]
  },
  {
   "cell_type": "code",
   "execution_count": 47,
   "id": "653d5e68",
   "metadata": {},
   "outputs": [
    {
     "data": {
      "text/plain": [
       "2"
      ]
     },
     "execution_count": 47,
     "metadata": {},
     "output_type": "execute_result"
    }
   ],
   "source": [
    "atuple.count(3)"
   ]
  },
  {
   "cell_type": "code",
   "execution_count": 48,
   "id": "b6de7503",
   "metadata": {},
   "outputs": [
    {
     "name": "stdout",
     "output_type": "stream",
     "text": [
      "(3, '4', 3)\n",
      "[3, '4', 3]\n",
      "(3, '4', 3)\n",
      "[5, '4', 3]\n"
     ]
    }
   ],
   "source": [
    "alist = [3, \"4\", 3]\n",
    "# Tuples are immutable while lists are mutable\n",
    "print(atuple)\n",
    "print(alist)\n",
    "alist[0] = 5\n",
    "print(atuple)\n",
    "print(alist)"
   ]
  },
  {
   "cell_type": "code",
   "execution_count": 49,
   "id": "ff614c49",
   "metadata": {},
   "outputs": [
    {
     "name": "stdout",
     "output_type": "stream",
     "text": [
      "<class 'tuple'>\n"
     ]
    }
   ],
   "source": [
    "# Convert from tuple to list\n",
    "print(type(atuple))"
   ]
  },
  {
   "cell_type": "code",
   "execution_count": 50,
   "id": "9a8ae306",
   "metadata": {},
   "outputs": [
    {
     "name": "stdout",
     "output_type": "stream",
     "text": [
      "<class 'list'>\n"
     ]
    }
   ],
   "source": [
    "print(type(list(atuple)))"
   ]
  },
  {
   "cell_type": "code",
   "execution_count": 51,
   "id": "8d9a7d88",
   "metadata": {},
   "outputs": [
    {
     "name": "stdout",
     "output_type": "stream",
     "text": [
      "[123422, '4', 3]\n"
     ]
    }
   ],
   "source": [
    "v = list(atuple)\n",
    "v[0] = 123422\n",
    "print(v)"
   ]
  },
  {
   "cell_type": "markdown",
   "id": "27328c5b",
   "metadata": {},
   "source": [
    "## Boolean"
   ]
  },
  {
   "cell_type": "code",
   "execution_count": 52,
   "id": "2804e9bd",
   "metadata": {},
   "outputs": [
    {
     "name": "stdout",
     "output_type": "stream",
     "text": [
      "<class 'bool'>\n",
      "<class 'str'>\n"
     ]
    }
   ],
   "source": [
    "# Also known as logical. It is binary, either true or false\n",
    "boolTrue = True\n",
    "stringTrue = \"True\"\n",
    "print(type(boolTrue))\n",
    "print(type(stringTrue))"
   ]
  },
  {
   "cell_type": "code",
   "execution_count": 53,
   "id": "6224de49",
   "metadata": {},
   "outputs": [
    {
     "data": {
      "text/plain": [
       "False"
      ]
     },
     "execution_count": 53,
     "metadata": {},
     "output_type": "execute_result"
    }
   ],
   "source": [
    "boolTrue == stringTrue"
   ]
  },
  {
   "cell_type": "code",
   "execution_count": 54,
   "id": "858d080e",
   "metadata": {},
   "outputs": [
    {
     "data": {
      "text/plain": [
       "False"
      ]
     },
     "execution_count": 54,
     "metadata": {},
     "output_type": "execute_result"
    }
   ],
   "source": [
    "4 > 5"
   ]
  },
  {
   "cell_type": "code",
   "execution_count": 55,
   "id": "c5ab918f",
   "metadata": {},
   "outputs": [
    {
     "data": {
      "text/plain": [
       "True"
      ]
     },
     "execution_count": 55,
     "metadata": {},
     "output_type": "execute_result"
    }
   ],
   "source": [
    "4 < 5"
   ]
  },
  {
   "cell_type": "code",
   "execution_count": 56,
   "id": "21ca5d23",
   "metadata": {},
   "outputs": [
    {
     "data": {
      "text/plain": [
       "True"
      ]
     },
     "execution_count": 56,
     "metadata": {},
     "output_type": "execute_result"
    }
   ],
   "source": [
    "4 <= 5"
   ]
  },
  {
   "cell_type": "code",
   "execution_count": 57,
   "id": "2494b108",
   "metadata": {},
   "outputs": [
    {
     "data": {
      "text/plain": [
       "False"
      ]
     },
     "execution_count": 57,
     "metadata": {},
     "output_type": "execute_result"
    }
   ],
   "source": [
    "4 >= 5"
   ]
  },
  {
   "cell_type": "code",
   "execution_count": 58,
   "id": "b9851c52",
   "metadata": {},
   "outputs": [
    {
     "data": {
      "text/plain": [
       "True"
      ]
     },
     "execution_count": 58,
     "metadata": {},
     "output_type": "execute_result"
    }
   ],
   "source": [
    "4 <= 4"
   ]
  },
  {
   "cell_type": "code",
   "execution_count": 59,
   "id": "5bb8c8b7",
   "metadata": {},
   "outputs": [
    {
     "data": {
      "text/plain": [
       "False"
      ]
     },
     "execution_count": 59,
     "metadata": {},
     "output_type": "execute_result"
    }
   ],
   "source": [
    "4 < 4"
   ]
  },
  {
   "cell_type": "code",
   "execution_count": 60,
   "id": "ae2275ce",
   "metadata": {},
   "outputs": [
    {
     "data": {
      "text/plain": [
       "True"
      ]
     },
     "execution_count": 60,
     "metadata": {},
     "output_type": "execute_result"
    }
   ],
   "source": [
    "4 == 4"
   ]
  },
  {
   "cell_type": "code",
   "execution_count": 61,
   "id": "c9c73991",
   "metadata": {},
   "outputs": [
    {
     "data": {
      "text/plain": [
       "True"
      ]
     },
     "execution_count": 61,
     "metadata": {},
     "output_type": "execute_result"
    }
   ],
   "source": [
    "4.0 == 4"
   ]
  },
  {
   "cell_type": "code",
   "execution_count": 62,
   "id": "797cdd77",
   "metadata": {},
   "outputs": [
    {
     "data": {
      "text/plain": [
       "False"
      ]
     },
     "execution_count": 62,
     "metadata": {},
     "output_type": "execute_result"
    }
   ],
   "source": [
    "4 != 4"
   ]
  },
  {
   "cell_type": "code",
   "execution_count": 63,
   "id": "62e6f210",
   "metadata": {},
   "outputs": [
    {
     "data": {
      "text/plain": [
       "True"
      ]
     },
     "execution_count": 63,
     "metadata": {},
     "output_type": "execute_result"
    }
   ],
   "source": [
    "4 != 4.5"
   ]
  },
  {
   "cell_type": "code",
   "execution_count": 64,
   "id": "48748d12",
   "metadata": {},
   "outputs": [
    {
     "name": "stdout",
     "output_type": "stream",
     "text": [
      "True\n"
     ]
    }
   ],
   "source": [
    "a = 8\n",
    "b = 4\n",
    "outcome = a == b*2\n",
    "print(outcome)"
   ]
  },
  {
   "cell_type": "code",
   "execution_count": 65,
   "id": "201d0539",
   "metadata": {},
   "outputs": [
    {
     "name": "stdout",
     "output_type": "stream",
     "text": [
      "False\n"
     ]
    }
   ],
   "source": [
    "a = 8\n",
    "b = 5\n",
    "outcome = a == b*2\n",
    "print(outcome)"
   ]
  },
  {
   "cell_type": "code",
   "execution_count": 66,
   "id": "105bea9a",
   "metadata": {},
   "outputs": [
    {
     "data": {
      "text/plain": [
       "True"
      ]
     },
     "execution_count": 66,
     "metadata": {},
     "output_type": "execute_result"
    }
   ],
   "source": [
    "# Conjunctive omparisons\n",
    "14 > 5 and 7 < 10"
   ]
  },
  {
   "cell_type": "code",
   "execution_count": 67,
   "id": "19f7d202",
   "metadata": {},
   "outputs": [
    {
     "data": {
      "text/plain": [
       "True"
      ]
     },
     "execution_count": 67,
     "metadata": {},
     "output_type": "execute_result"
    }
   ],
   "source": [
    "14 > 5 and 7 < 10 and 5 < 10"
   ]
  },
  {
   "cell_type": "code",
   "execution_count": 68,
   "id": "a8fca8de",
   "metadata": {},
   "outputs": [
    {
     "data": {
      "text/plain": [
       "False"
      ]
     },
     "execution_count": 68,
     "metadata": {},
     "output_type": "execute_result"
    }
   ],
   "source": [
    "14 < 5 and 7 < 10"
   ]
  },
  {
   "cell_type": "code",
   "execution_count": 69,
   "id": "528d13e8",
   "metadata": {},
   "outputs": [
    {
     "data": {
      "text/plain": [
       "True"
      ]
     },
     "execution_count": 69,
     "metadata": {},
     "output_type": "execute_result"
    }
   ],
   "source": [
    "14 < 5 or 7 < 10"
   ]
  },
  {
   "cell_type": "code",
   "execution_count": 70,
   "id": "b1a8c32f",
   "metadata": {},
   "outputs": [
    {
     "data": {
      "text/plain": [
       "False"
      ]
     },
     "execution_count": 70,
     "metadata": {},
     "output_type": "execute_result"
    }
   ],
   "source": [
    "bool(0)"
   ]
  },
  {
   "cell_type": "code",
   "execution_count": 71,
   "id": "7730469b",
   "metadata": {},
   "outputs": [
    {
     "data": {
      "text/plain": [
       "True"
      ]
     },
     "execution_count": 71,
     "metadata": {},
     "output_type": "execute_result"
    }
   ],
   "source": [
    "bool(1)"
   ]
  },
  {
   "cell_type": "code",
   "execution_count": 72,
   "id": "2bbecade",
   "metadata": {},
   "outputs": [
    {
     "data": {
      "text/plain": [
       "True"
      ]
     },
     "execution_count": 72,
     "metadata": {},
     "output_type": "execute_result"
    }
   ],
   "source": [
    "bool(2)"
   ]
  },
  {
   "cell_type": "code",
   "execution_count": 73,
   "id": "7f3f61ca",
   "metadata": {},
   "outputs": [
    {
     "data": {
      "text/plain": [
       "True"
      ]
     },
     "execution_count": 73,
     "metadata": {},
     "output_type": "execute_result"
    }
   ],
   "source": [
    "bool(-1)"
   ]
  },
  {
   "cell_type": "code",
   "execution_count": 74,
   "id": "a7fd167e",
   "metadata": {},
   "outputs": [
    {
     "data": {
      "text/plain": [
       "True"
      ]
     },
     "execution_count": 74,
     "metadata": {},
     "output_type": "execute_result"
    }
   ],
   "source": [
    "# Every string is true except empty string\n",
    "bool(\"Mike is a noce guy\")"
   ]
  },
  {
   "cell_type": "code",
   "execution_count": 75,
   "id": "4beebd66",
   "metadata": {},
   "outputs": [
    {
     "data": {
      "text/plain": [
       "True"
      ]
     },
     "execution_count": 75,
     "metadata": {},
     "output_type": "execute_result"
    }
   ],
   "source": [
    "bool(\" \")"
   ]
  },
  {
   "cell_type": "code",
   "execution_count": 76,
   "id": "5457ffb8",
   "metadata": {},
   "outputs": [
    {
     "data": {
      "text/plain": [
       "False"
      ]
     },
     "execution_count": 76,
     "metadata": {},
     "output_type": "execute_result"
    }
   ],
   "source": [
    "bool(\"\")"
   ]
  },
  {
   "cell_type": "code",
   "execution_count": 77,
   "id": "d8ceb3fa",
   "metadata": {},
   "outputs": [
    {
     "name": "stdout",
     "output_type": "stream",
     "text": [
      "Lets test your knowledge of Pythagorean tripplets\n",
      "Input the length of side a: 3\n",
      "Input the length of side b: 4\n",
      "Input the length of side c: 5\n",
      "Your answer is True\n"
     ]
    }
   ],
   "source": [
    "# Exercise\n",
    "# Ask the user for Pythagorean tripplet and ask whether its a real tripplet\n",
    "# 3, 4, 5\n",
    "# 5, 12, 13 etc\n",
    "# Your answer is True/False\n",
    "print(\"Lets test your knowledge of Pythagorean tripplets\")\n",
    "\n",
    "# input three sides\n",
    "a = float(input(\"Input the length of side a: \"))\n",
    "b = float(input(\"Input the length of side b: \"))\n",
    "c = float(input(\"Input the length of side c: \"))\n",
    "\n",
    "# check for accuracy\n",
    "result = a**2 + b**2 == c**2\n",
    "\n",
    "# print the result\n",
    "print(\"Your answer is\", result)"
   ]
  },
  {
   "cell_type": "markdown",
   "id": "e47d6908",
   "metadata": {},
   "source": [
    "## Dictionaries"
   ]
  },
  {
   "cell_type": "code",
   "execution_count": 78,
   "id": "7296485e",
   "metadata": {},
   "outputs": [
    {
     "data": {
      "text/plain": [
       "{}"
      ]
     },
     "execution_count": 78,
     "metadata": {},
     "output_type": "execute_result"
    }
   ],
   "source": [
    "# Initialize the dictionary and then populate it\n",
    "d = dict()\n",
    "d"
   ]
  },
  {
   "cell_type": "code",
   "execution_count": 79,
   "id": "1d788da0",
   "metadata": {},
   "outputs": [
    {
     "name": "stdout",
     "output_type": "stream",
     "text": [
      "{'name': 'Ilir', 'AgeRange': [20, 50]}\n"
     ]
    }
   ],
   "source": [
    "# The key-value pair\n",
    "d[\"name\"] = \"Ilir\"\n",
    "d[\"AgeRange\"] = [20, 50]\n",
    "print(d)"
   ]
  },
  {
   "cell_type": "code",
   "execution_count": 80,
   "id": "bce8ea27",
   "metadata": {},
   "outputs": [
    {
     "name": "stdout",
     "output_type": "stream",
     "text": [
      "{'name': 'Ilir', 'AgeRange': [20, 50]}\n"
     ]
    }
   ],
   "source": [
    "e = {\"name\": \"Ilir\", \"AgeRange\": [20, 50]}\n",
    "print(e)"
   ]
  },
  {
   "cell_type": "code",
   "execution_count": 81,
   "id": "d979a1db",
   "metadata": {},
   "outputs": [
    {
     "data": {
      "text/plain": [
       "'Ilir'"
      ]
     },
     "execution_count": 81,
     "metadata": {},
     "output_type": "execute_result"
    }
   ],
   "source": [
    "# Extract information from the dictionary\n",
    "d[\"name\"]"
   ]
  },
  {
   "cell_type": "code",
   "execution_count": 82,
   "id": "b45171b2",
   "metadata": {},
   "outputs": [
    {
     "data": {
      "text/plain": [
       "dict_keys(['name', 'AgeRange'])"
      ]
     },
     "execution_count": 82,
     "metadata": {},
     "output_type": "execute_result"
    }
   ],
   "source": [
    "d.keys()"
   ]
  },
  {
   "cell_type": "code",
   "execution_count": 83,
   "id": "4b70d2ab",
   "metadata": {},
   "outputs": [
    {
     "data": {
      "text/plain": [
       "dict_values(['Ilir', [20, 50]])"
      ]
     },
     "execution_count": 83,
     "metadata": {},
     "output_type": "execute_result"
    }
   ],
   "source": [
    "d.values()"
   ]
  },
  {
   "cell_type": "code",
   "execution_count": 84,
   "id": "c539d960",
   "metadata": {},
   "outputs": [
    {
     "data": {
      "text/plain": [
       "True"
      ]
     },
     "execution_count": 84,
     "metadata": {},
     "output_type": "execute_result"
    }
   ],
   "source": [
    "\"name\" in d"
   ]
  },
  {
   "cell_type": "code",
   "execution_count": 85,
   "id": "b03b000c",
   "metadata": {},
   "outputs": [
    {
     "data": {
      "text/plain": [
       "False"
      ]
     },
     "execution_count": 85,
     "metadata": {},
     "output_type": "execute_result"
    }
   ],
   "source": [
    "\"name123\" in d"
   ]
  },
  {
   "cell_type": "code",
   "execution_count": 86,
   "id": "ca5a847e",
   "metadata": {},
   "outputs": [
    {
     "data": {
      "text/plain": [
       "False"
      ]
     },
     "execution_count": 86,
     "metadata": {},
     "output_type": "execute_result"
    }
   ],
   "source": [
    "# Keys are case-sensitive\n",
    "\"Name\" in d"
   ]
  },
  {
   "cell_type": "code",
   "execution_count": 87,
   "id": "ff9fc058",
   "metadata": {},
   "outputs": [
    {
     "data": {
      "text/plain": [
       "False"
      ]
     },
     "execution_count": 87,
     "metadata": {},
     "output_type": "execute_result"
    }
   ],
   "source": [
    "# We cannot access values like keys though, dictionary only searches for key\n",
    "\"Ilir\" in d"
   ]
  },
  {
   "cell_type": "code",
   "execution_count": 88,
   "id": "8427ad8e",
   "metadata": {},
   "outputs": [
    {
     "data": {
      "text/plain": [
       "True"
      ]
     },
     "execution_count": 88,
     "metadata": {},
     "output_type": "execute_result"
    }
   ],
   "source": [
    "\"Ilir\" not in d"
   ]
  },
  {
   "cell_type": "code",
   "execution_count": 89,
   "id": "215b869f",
   "metadata": {},
   "outputs": [
    {
     "data": {
      "text/plain": [
       "dict_items([('name', 'Ilir'), ('AgeRange', [20, 50])])"
      ]
     },
     "execution_count": 89,
     "metadata": {},
     "output_type": "execute_result"
    }
   ],
   "source": [
    "# to see key-value pairs\n",
    "d.items()"
   ]
  },
  {
   "cell_type": "code",
   "execution_count": 90,
   "id": "a841e1d4",
   "metadata": {},
   "outputs": [
    {
     "name": "stdout",
     "output_type": "stream",
     "text": [
      "Please give me a number: 6\n",
      "Please give me another number: 78\n",
      "{'firstnumber': 6.0, 'secondNumber': 78.0, 'product': 468.0}\n"
     ]
    }
   ],
   "source": [
    "# Exercise\n",
    "# Input two numbers from the user\n",
    "# Create a dictionary with keys: \"firstNumber\", \"secondNumber\", \"product\"\n",
    "a = float(input(\"Please give me a number: \"))\n",
    "b = float(input(\"Please give me another number: \"))\n",
    "prd = {\"firstnumber\": a, \"secondNumber\": b, \"product\": a*b}\n",
    "print(prd)"
   ]
  },
  {
   "cell_type": "code",
   "execution_count": 91,
   "id": "7f3ae05e",
   "metadata": {},
   "outputs": [
    {
     "data": {
      "text/plain": [
       "dict_items([('firstnumber', 6.0), ('secondNumber', 78.0), ('product', 468.0)])"
      ]
     },
     "execution_count": 91,
     "metadata": {},
     "output_type": "execute_result"
    }
   ],
   "source": [
    "prd.items()"
   ]
  },
  {
   "cell_type": "code",
   "execution_count": 92,
   "id": "88998e00",
   "metadata": {},
   "outputs": [],
   "source": [
    "# To remove a variable from python's workspace use del\n",
    "# del d for example to delete dictionary d"
   ]
  }
 ],
 "metadata": {
  "kernelspec": {
   "display_name": "Python 3 (ipykernel)",
   "language": "python",
   "name": "python3"
  },
  "language_info": {
   "codemirror_mode": {
    "name": "ipython",
    "version": 3
   },
   "file_extension": ".py",
   "mimetype": "text/x-python",
   "name": "python",
   "nbconvert_exporter": "python",
   "pygments_lexer": "ipython3",
   "version": "3.9.7"
  }
 },
 "nbformat": 4,
 "nbformat_minor": 5
}
