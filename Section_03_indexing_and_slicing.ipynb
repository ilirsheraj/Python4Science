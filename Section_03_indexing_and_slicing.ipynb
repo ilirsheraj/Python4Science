{
 "cells": [
  {
   "cell_type": "markdown",
   "id": "3b45ed7e",
   "metadata": {},
   "source": [
    "## Indexing"
   ]
  },
  {
   "cell_type": "code",
   "execution_count": 1,
   "id": "d9e1285f",
   "metadata": {},
   "outputs": [
    {
     "data": {
      "text/plain": [
       "range(0, 5)"
      ]
     },
     "execution_count": 1,
     "metadata": {},
     "output_type": "execute_result"
    }
   ],
   "source": [
    "arrange = range(5)\n",
    "arrange"
   ]
  },
  {
   "cell_type": "code",
   "execution_count": 2,
   "id": "75109845",
   "metadata": {},
   "outputs": [
    {
     "data": {
      "text/plain": [
       "[0, 1, 2, 3, 4]"
      ]
     },
     "execution_count": 2,
     "metadata": {},
     "output_type": "execute_result"
    }
   ],
   "source": [
    "alist = list(arrange)\n",
    "alist"
   ]
  },
  {
   "cell_type": "code",
   "execution_count": 3,
   "id": "0c841a61",
   "metadata": {},
   "outputs": [
    {
     "data": {
      "text/plain": [
       "1"
      ]
     },
     "execution_count": 3,
     "metadata": {},
     "output_type": "execute_result"
    }
   ],
   "source": [
    "alist[1]"
   ]
  },
  {
   "cell_type": "code",
   "execution_count": 4,
   "id": "264d1d61",
   "metadata": {},
   "outputs": [
    {
     "data": {
      "text/plain": [
       "11"
      ]
     },
     "execution_count": 4,
     "metadata": {},
     "output_type": "execute_result"
    }
   ],
   "source": [
    "arange = range(10, 15)\n",
    "alist = list(arange)\n",
    "alist[1]"
   ]
  },
  {
   "cell_type": "code",
   "execution_count": 5,
   "id": "b462efca",
   "metadata": {},
   "outputs": [
    {
     "name": "stdout",
     "output_type": "stream",
     "text": [
      "2\n"
     ]
    }
   ],
   "source": [
    "alist = [54, 1, 546, -345, 0, 2, 3, 3]\n",
    "print(alist[5])"
   ]
  },
  {
   "cell_type": "code",
   "execution_count": 6,
   "id": "10974c37",
   "metadata": {},
   "outputs": [
    {
     "name": "stdout",
     "output_type": "stream",
     "text": [
      "3\n"
     ]
    }
   ],
   "source": [
    "print(alist[-1])"
   ]
  },
  {
   "cell_type": "code",
   "execution_count": 7,
   "id": "af2a8275",
   "metadata": {},
   "outputs": [
    {
     "data": {
      "text/plain": [
       "0"
      ]
     },
     "execution_count": 7,
     "metadata": {},
     "output_type": "execute_result"
    }
   ],
   "source": [
    "alist[-4]"
   ]
  },
  {
   "cell_type": "code",
   "execution_count": 8,
   "id": "78727ab9",
   "metadata": {},
   "outputs": [
    {
     "data": {
      "text/plain": [
       "-345"
      ]
     },
     "execution_count": 8,
     "metadata": {},
     "output_type": "execute_result"
    }
   ],
   "source": [
    "idx = 3\n",
    "alist[idx]"
   ]
  },
  {
   "cell_type": "code",
   "execution_count": 9,
   "id": "a8639100",
   "metadata": {},
   "outputs": [
    {
     "data": {
      "text/plain": [
       "[4, 3.2, [9, 4, 5], 4]"
      ]
     },
     "execution_count": 9,
     "metadata": {},
     "output_type": "execute_result"
    }
   ],
   "source": [
    "alist = [4, 3.2, [9, 4, 5], 4]\n",
    "alist"
   ]
  },
  {
   "cell_type": "code",
   "execution_count": 10,
   "id": "191fc546",
   "metadata": {},
   "outputs": [
    {
     "data": {
      "text/plain": [
       "5"
      ]
     },
     "execution_count": 10,
     "metadata": {},
     "output_type": "execute_result"
    }
   ],
   "source": [
    "alist[2][2]"
   ]
  },
  {
   "cell_type": "code",
   "execution_count": 11,
   "id": "f40d3fa4",
   "metadata": {},
   "outputs": [
    {
     "data": {
      "text/plain": [
       "'h'"
      ]
     },
     "execution_count": 11,
     "metadata": {},
     "output_type": "execute_result"
    }
   ],
   "source": [
    "s = \"hello\"\n",
    "s[0]"
   ]
  },
  {
   "cell_type": "code",
   "execution_count": 12,
   "id": "c05fcb55",
   "metadata": {},
   "outputs": [
    {
     "data": {
      "text/plain": [
       "['h', 'e', 'l', 'l', 'o']"
      ]
     },
     "execution_count": 12,
     "metadata": {},
     "output_type": "execute_result"
    }
   ],
   "source": [
    "list(s)"
   ]
  },
  {
   "cell_type": "code",
   "execution_count": 13,
   "id": "6eae6385",
   "metadata": {},
   "outputs": [
    {
     "data": {
      "text/plain": [
       "'Yummy'"
      ]
     },
     "execution_count": 13,
     "metadata": {},
     "output_type": "execute_result"
    }
   ],
   "source": [
    "# Exercise\n",
    "# Get the attribute of Penguin in the followiing list\n",
    "listlist = [4, \"hi\", [5, 4, 3], \"yo\", {\"Squirrel\": \"cute\", \"Penguin\": \"Yummy\"}]\n",
    "listlist[4][\"Penguin\"]"
   ]
  },
  {
   "cell_type": "markdown",
   "id": "15d77f45",
   "metadata": {},
   "source": [
    "## Slicing"
   ]
  },
  {
   "cell_type": "code",
   "execution_count": 14,
   "id": "2606d4d6",
   "metadata": {},
   "outputs": [
    {
     "data": {
      "text/plain": [
       "[5, 6, 7, 8, 9, 10]"
      ]
     },
     "execution_count": 14,
     "metadata": {},
     "output_type": "execute_result"
    }
   ],
   "source": [
    "alist = list(range(5,11))\n",
    "alist"
   ]
  },
  {
   "cell_type": "code",
   "execution_count": 15,
   "id": "a0228bd0",
   "metadata": {},
   "outputs": [
    {
     "data": {
      "text/plain": [
       "[5]"
      ]
     },
     "execution_count": 15,
     "metadata": {},
     "output_type": "execute_result"
    }
   ],
   "source": [
    "alist[0:1]"
   ]
  },
  {
   "cell_type": "code",
   "execution_count": 16,
   "id": "078217d5",
   "metadata": {},
   "outputs": [
    {
     "data": {
      "text/plain": [
       "[5, 6]"
      ]
     },
     "execution_count": 16,
     "metadata": {},
     "output_type": "execute_result"
    }
   ],
   "source": [
    "alist[0:2]"
   ]
  },
  {
   "cell_type": "code",
   "execution_count": 17,
   "id": "d98b15a3",
   "metadata": {},
   "outputs": [
    {
     "data": {
      "text/plain": [
       "[7, 8, 9]"
      ]
     },
     "execution_count": 17,
     "metadata": {},
     "output_type": "execute_result"
    }
   ],
   "source": [
    "alist[2:5]"
   ]
  },
  {
   "cell_type": "code",
   "execution_count": 18,
   "id": "4e14653d",
   "metadata": {},
   "outputs": [
    {
     "data": {
      "text/plain": [
       "[7, 8, 9, 10]"
      ]
     },
     "execution_count": 18,
     "metadata": {},
     "output_type": "execute_result"
    }
   ],
   "source": [
    "alist[2:]"
   ]
  },
  {
   "cell_type": "code",
   "execution_count": 19,
   "id": "7fc04244",
   "metadata": {},
   "outputs": [
    {
     "data": {
      "text/plain": [
       "[7, 8, 9]"
      ]
     },
     "execution_count": 19,
     "metadata": {},
     "output_type": "execute_result"
    }
   ],
   "source": [
    "alist[2:-1]"
   ]
  },
  {
   "cell_type": "code",
   "execution_count": 20,
   "id": "55c2b8b5",
   "metadata": {},
   "outputs": [
    {
     "data": {
      "text/plain": [
       "[5, 6, 7, 8]"
      ]
     },
     "execution_count": 20,
     "metadata": {},
     "output_type": "execute_result"
    }
   ],
   "source": [
    "alist[:4]"
   ]
  },
  {
   "cell_type": "code",
   "execution_count": 21,
   "id": "7757ef41",
   "metadata": {},
   "outputs": [
    {
     "data": {
      "text/plain": [
       "[5, 7, 9]"
      ]
     },
     "execution_count": 21,
     "metadata": {},
     "output_type": "execute_result"
    }
   ],
   "source": [
    "alist[0:5:2]"
   ]
  },
  {
   "cell_type": "code",
   "execution_count": 22,
   "id": "f8b96b5a",
   "metadata": {},
   "outputs": [
    {
     "data": {
      "text/plain": [
       "[5, 8]"
      ]
     },
     "execution_count": 22,
     "metadata": {},
     "output_type": "execute_result"
    }
   ],
   "source": [
    "alist[::3]"
   ]
  },
  {
   "cell_type": "code",
   "execution_count": 23,
   "id": "dfb18c80",
   "metadata": {},
   "outputs": [
    {
     "data": {
      "text/plain": [
       "[5, 7, 9]"
      ]
     },
     "execution_count": 23,
     "metadata": {},
     "output_type": "execute_result"
    }
   ],
   "source": [
    "alist[::2]"
   ]
  },
  {
   "cell_type": "code",
   "execution_count": 24,
   "id": "b32d11f3",
   "metadata": {},
   "outputs": [
    {
     "data": {
      "text/plain": [
       "[10, 9, 8, 7, 6, 5]"
      ]
     },
     "execution_count": 24,
     "metadata": {},
     "output_type": "execute_result"
    }
   ],
   "source": [
    "# reverse sort\n",
    "alist[::-1]"
   ]
  },
  {
   "cell_type": "code",
   "execution_count": 25,
   "id": "f4cec355",
   "metadata": {},
   "outputs": [
    {
     "data": {
      "text/plain": [
       "[6, 8]"
      ]
     },
     "execution_count": 25,
     "metadata": {},
     "output_type": "execute_result"
    }
   ],
   "source": [
    "start = 1\n",
    "stop = 4\n",
    "skip = 2\n",
    "alist[start:stop:skip]"
   ]
  },
  {
   "cell_type": "code",
   "execution_count": 26,
   "id": "5469df00",
   "metadata": {},
   "outputs": [
    {
     "data": {
      "text/plain": [
       "'Mike is a nice guy'"
      ]
     },
     "execution_count": 26,
     "metadata": {},
     "output_type": "execute_result"
    }
   ],
   "source": [
    "# Exercise\n",
    "# Use slicing to write \"Mike is a nice guy\" from this text\n",
    "text = \"34dfyug ecin a si ekiM 93845d\"\n",
    "text[-8:3:-1]"
   ]
  }
 ],
 "metadata": {
  "kernelspec": {
   "display_name": "Python 3 (ipykernel)",
   "language": "python",
   "name": "python3"
  },
  "language_info": {
   "codemirror_mode": {
    "name": "ipython",
    "version": 3
   },
   "file_extension": ".py",
   "mimetype": "text/x-python",
   "name": "python",
   "nbconvert_exporter": "python",
   "pygments_lexer": "ipython3",
   "version": "3.9.7"
  }
 },
 "nbformat": 4,
 "nbformat_minor": 5
}
