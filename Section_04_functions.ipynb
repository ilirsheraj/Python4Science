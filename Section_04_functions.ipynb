{
 "cells": [
  {
   "cell_type": "markdown",
   "id": "9d41bfd8",
   "metadata": {},
   "source": [
    "## Inputs and Outputs"
   ]
  },
  {
   "cell_type": "code",
   "execution_count": 1,
   "id": "e1a35041",
   "metadata": {},
   "outputs": [
    {
     "data": {
      "text/plain": [
       "60"
      ]
     },
     "execution_count": 1,
     "metadata": {},
     "output_type": "execute_result"
    }
   ],
   "source": [
    "sum([10, 20, 30])"
   ]
  },
  {
   "cell_type": "code",
   "execution_count": 2,
   "id": "2b4dba18",
   "metadata": {},
   "outputs": [
    {
     "data": {
      "text/plain": [
       "60"
      ]
     },
     "execution_count": 2,
     "metadata": {},
     "output_type": "execute_result"
    }
   ],
   "source": [
    "lst = [10, 20, 30]\n",
    "sum(lst)"
   ]
  },
  {
   "cell_type": "code",
   "execution_count": 3,
   "id": "5264c66f",
   "metadata": {},
   "outputs": [
    {
     "data": {
      "text/plain": [
       "10"
      ]
     },
     "execution_count": 3,
     "metadata": {},
     "output_type": "execute_result"
    }
   ],
   "source": [
    "lst[0]"
   ]
  },
  {
   "cell_type": "code",
   "execution_count": 4,
   "id": "da076290",
   "metadata": {},
   "outputs": [
    {
     "data": {
      "text/plain": [
       "3"
      ]
     },
     "execution_count": 4,
     "metadata": {},
     "output_type": "execute_result"
    }
   ],
   "source": [
    "len(lst)"
   ]
  },
  {
   "cell_type": "code",
   "execution_count": 5,
   "id": "dfe8745a",
   "metadata": {},
   "outputs": [
    {
     "data": {
      "text/plain": [
       "3"
      ]
     },
     "execution_count": 5,
     "metadata": {},
     "output_type": "execute_result"
    }
   ],
   "source": [
    "listlen = len(lst)\n",
    "listlen"
   ]
  },
  {
   "cell_type": "code",
   "execution_count": 6,
   "id": "578d488d",
   "metadata": {},
   "outputs": [
    {
     "name": "stdout",
     "output_type": "stream",
     "text": [
      "20.0\n"
     ]
    }
   ],
   "source": [
    "# Exercise\n",
    "# Compute the average of the variable lst\n",
    "avg = sum(lst)/len(lst)\n",
    "print(avg)"
   ]
  },
  {
   "cell_type": "markdown",
   "id": "67294966",
   "metadata": {},
   "source": [
    "## Python Libraries (Numpy)"
   ]
  },
  {
   "cell_type": "code",
   "execution_count": 7,
   "id": "c3b03764",
   "metadata": {},
   "outputs": [],
   "source": [
    "# Import functions from modules (in this case numpy)\n",
    "import numpy as np"
   ]
  },
  {
   "cell_type": "code",
   "execution_count": 8,
   "id": "fafc694c",
   "metadata": {},
   "outputs": [
    {
     "data": {
      "text/plain": [
       "20.0"
      ]
     },
     "execution_count": 8,
     "metadata": {},
     "output_type": "execute_result"
    }
   ],
   "source": [
    "np.mean(lst)"
   ]
  },
  {
   "cell_type": "code",
   "execution_count": 9,
   "id": "bcc5982c",
   "metadata": {},
   "outputs": [
    {
     "data": {
      "text/plain": [
       "array([1.        , 1.36842105, 1.73684211, 2.10526316, 2.47368421,\n",
       "       2.84210526, 3.21052632, 3.57894737, 3.94736842, 4.31578947,\n",
       "       4.68421053, 5.05263158, 5.42105263, 5.78947368, 6.15789474,\n",
       "       6.52631579, 6.89473684, 7.26315789, 7.63157895, 8.        ])"
      ]
     },
     "execution_count": 9,
     "metadata": {},
     "output_type": "execute_result"
    }
   ],
   "source": [
    "# linearly spaced number (sequence in R)\n",
    "np.linspace(1, 8, 20)"
   ]
  },
  {
   "cell_type": "code",
   "execution_count": 10,
   "id": "6fa756de",
   "metadata": {},
   "outputs": [
    {
     "data": {
      "text/plain": [
       "array([ 1.        ,  5.15789474,  9.31578947, 13.47368421, 17.63157895,\n",
       "       21.78947368, 25.94736842, 30.10526316, 34.26315789, 38.42105263,\n",
       "       42.57894737, 46.73684211, 50.89473684, 55.05263158, 59.21052632,\n",
       "       63.36842105, 67.52631579, 71.68421053, 75.84210526, 80.        ])"
      ]
     },
     "execution_count": 10,
     "metadata": {},
     "output_type": "execute_result"
    }
   ],
   "source": [
    "np.linspace(1, 80, 20)"
   ]
  },
  {
   "cell_type": "code",
   "execution_count": 11,
   "id": "e58ae77c",
   "metadata": {},
   "outputs": [
    {
     "data": {
      "text/plain": [
       "list"
      ]
     },
     "execution_count": 11,
     "metadata": {},
     "output_type": "execute_result"
    }
   ],
   "source": [
    "number = [1,2,3,4,5,6]\n",
    "type(number)"
   ]
  },
  {
   "cell_type": "code",
   "execution_count": 12,
   "id": "7b6529a8",
   "metadata": {},
   "outputs": [
    {
     "data": {
      "text/plain": [
       "numpy.ndarray"
      ]
     },
     "execution_count": 12,
     "metadata": {},
     "output_type": "execute_result"
    }
   ],
   "source": [
    "numbernp = np.array(number)\n",
    "type(numbernp)"
   ]
  },
  {
   "cell_type": "code",
   "execution_count": 13,
   "id": "a6356064",
   "metadata": {},
   "outputs": [
    {
     "name": "stdout",
     "output_type": "stream",
     "text": [
      "[1, 2, 3, 4, 5, 6]\n",
      "\n",
      "[1 2 3 4 5 6]\n"
     ]
    }
   ],
   "source": [
    "print(number)\n",
    "print()\n",
    "print(numbernp)"
   ]
  },
  {
   "cell_type": "code",
   "execution_count": 14,
   "id": "6b52b1fb",
   "metadata": {},
   "outputs": [
    {
     "data": {
      "text/plain": [
       "1"
      ]
     },
     "execution_count": 14,
     "metadata": {},
     "output_type": "execute_result"
    }
   ],
   "source": [
    "numbernp.min()"
   ]
  },
  {
   "cell_type": "code",
   "execution_count": 15,
   "id": "4f4467b9",
   "metadata": {},
   "outputs": [
    {
     "data": {
      "text/plain": [
       "6"
      ]
     },
     "execution_count": 15,
     "metadata": {},
     "output_type": "execute_result"
    }
   ],
   "source": [
    "numbernp.max()"
   ]
  },
  {
   "cell_type": "code",
   "execution_count": 16,
   "id": "20153e91",
   "metadata": {},
   "outputs": [
    {
     "data": {
      "text/plain": [
       "1"
      ]
     },
     "execution_count": 16,
     "metadata": {},
     "output_type": "execute_result"
    }
   ],
   "source": [
    "np.min(numbernp)"
   ]
  },
  {
   "cell_type": "code",
   "execution_count": 17,
   "id": "543b3fe6",
   "metadata": {},
   "outputs": [
    {
     "data": {
      "text/plain": [
       "6"
      ]
     },
     "execution_count": 17,
     "metadata": {},
     "output_type": "execute_result"
    }
   ],
   "source": [
    "np.max(numbernp)"
   ]
  },
  {
   "cell_type": "code",
   "execution_count": 18,
   "id": "d0309ee6",
   "metadata": {},
   "outputs": [
    {
     "name": "stdout",
     "output_type": "stream",
     "text": [
      "[4, 6, 7, 3, 4, 7, 7, 9]\n",
      "[3, 4, 4, 6, 7, 7, 7, 9]\n"
     ]
    }
   ],
   "source": [
    "n = [4,6,7,3,4,7,7,9]\n",
    "print(n)\n",
    "n.sort()\n",
    "print(n)"
   ]
  },
  {
   "cell_type": "code",
   "execution_count": 19,
   "id": "9c61d65e",
   "metadata": {},
   "outputs": [
    {
     "name": "stdout",
     "output_type": "stream",
     "text": [
      "<class 'list'>\n",
      "<class 'numpy.ndarray'>\n"
     ]
    }
   ],
   "source": [
    "print(type(n))\n",
    "n = np.sort(n)\n",
    "print(type(n))"
   ]
  },
  {
   "cell_type": "code",
   "execution_count": 20,
   "id": "5c29eaf0",
   "metadata": {},
   "outputs": [
    {
     "name": "stdout",
     "output_type": "stream",
     "text": [
      "<class 'list'>\n"
     ]
    }
   ],
   "source": [
    "n = list(np.sort(n))\n",
    "print(type(n))"
   ]
  },
  {
   "cell_type": "markdown",
   "id": "caa4c3db",
   "metadata": {},
   "source": [
    "## Python Libraries (Pandas)"
   ]
  },
  {
   "cell_type": "code",
   "execution_count": 21,
   "id": "ef578144",
   "metadata": {},
   "outputs": [],
   "source": [
    "# Pamdas stores data in table format which is easy to store, see and manipulate\n",
    "import pandas as pd"
   ]
  },
  {
   "cell_type": "code",
   "execution_count": 22,
   "id": "cdc7ee66",
   "metadata": {},
   "outputs": [
    {
     "data": {
      "text/plain": [
       "array([14.71971142, 16.92583276, 19.45493236, 15.00186581, 20.82448164,\n",
       "       25.05762655, 28.51457277, 22.88538558, 22.48135281, 19.33858469,\n",
       "       17.93784411, 31.37379235, 21.71020926, 17.48923102, 18.34943412,\n",
       "       22.32208047, 23.05231569, 19.05227762, 22.99073115, 22.1067945 ,\n",
       "       26.45927741, 31.44231462, 13.55194974, 21.67489895, 20.14966387,\n",
       "       24.12978296, 14.37924646, 13.34809152, 18.27954692, 11.67031612,\n",
       "       16.47312648, 12.74660023, 21.15158163, 18.89039664, 13.79884131,\n",
       "       23.47502329, 18.22238127, 23.20058606, 23.76618965, 17.45968942,\n",
       "        8.44859299, 23.64709279, 22.78735159, 24.50036989, 28.85624314,\n",
       "       23.21579496, 24.54821251,  9.55793314, 13.91309223, 24.65867941,\n",
       "       25.03658171, 18.65661617, 23.50182611, 21.69583246, 20.04083767,\n",
       "       17.01081576,  9.06296248, 15.56600147, 19.8968513 , 12.72537899,\n",
       "       15.48882141, 26.28106862, 12.95073002, 15.25199549, 18.01071324,\n",
       "       17.79058262, 19.96348687,  7.25444858, 16.33533008, 16.96083222,\n",
       "       25.28633972, 17.567231  , 21.48563834, 21.10011223,  8.72573811,\n",
       "       24.56499415, 11.7625827 , 20.96940562, 23.4029371 , 14.06230131,\n",
       "       24.45695557, 20.08900003, 13.91257981, 19.26893895, 17.39742334,\n",
       "       18.28187358, 22.08587105, 18.98330037, 14.37701419,  6.53567072,\n",
       "       20.07683476, 19.29310261, 27.37609371, 21.01827417, 27.60959481,\n",
       "       16.57251305,  9.68702259, 21.581009  , 17.07415804, 19.91145337])"
      ]
     },
     "execution_count": 22,
     "metadata": {},
     "output_type": "execute_result"
    }
   ],
   "source": [
    "# Les create some random number data\n",
    "var1 = np.random.randn(100)*5 + 20\n",
    "var1"
   ]
  },
  {
   "cell_type": "code",
   "execution_count": 23,
   "id": "1b79f72c",
   "metadata": {},
   "outputs": [
    {
     "data": {
      "text/plain": [
       "19.239896011194386"
      ]
     },
     "execution_count": 23,
     "metadata": {},
     "output_type": "execute_result"
    }
   ],
   "source": [
    "np.mean(var1)"
   ]
  },
  {
   "cell_type": "code",
   "execution_count": 24,
   "id": "8d5fcac1",
   "metadata": {},
   "outputs": [
    {
     "data": {
      "text/plain": [
       "array([ True,  True,  True,  True,  True,  True, False,  True,  True,\n",
       "        True,  True, False, False,  True, False, False,  True,  True,\n",
       "        True, False, False,  True,  True, False, False,  True,  True,\n",
       "       False,  True,  True, False, False,  True,  True, False,  True,\n",
       "       False,  True,  True, False,  True,  True,  True,  True,  True,\n",
       "       False,  True,  True,  True, False,  True, False,  True,  True,\n",
       "        True,  True,  True,  True,  True, False,  True,  True, False,\n",
       "        True, False,  True, False,  True,  True,  True,  True, False,\n",
       "       False,  True,  True,  True, False, False, False, False,  True,\n",
       "        True,  True,  True, False, False, False, False, False, False,\n",
       "        True,  True,  True, False,  True, False, False,  True,  True,\n",
       "        True])"
      ]
     },
     "execution_count": 24,
     "metadata": {},
     "output_type": "execute_result"
    }
   ],
   "source": [
    "var2 = np.random.randn(100) > 0\n",
    "var2"
   ]
  },
  {
   "cell_type": "code",
   "execution_count": 25,
   "id": "cad3708c",
   "metadata": {},
   "outputs": [
    {
     "data": {
      "text/plain": [
       "0.63"
      ]
     },
     "execution_count": 25,
     "metadata": {},
     "output_type": "execute_result"
    }
   ],
   "source": [
    "np.mean(var2)"
   ]
  },
  {
   "cell_type": "code",
   "execution_count": 26,
   "id": "7e287ad7",
   "metadata": {},
   "outputs": [],
   "source": [
    "labels = [\"Temp. (C)\", \"Ice cream eaten\"]"
   ]
  },
  {
   "cell_type": "code",
   "execution_count": 27,
   "id": "706c103c",
   "metadata": {},
   "outputs": [
    {
     "data": {
      "text/plain": [
       "{'Temp. (C)': array([14.71971142, 16.92583276, 19.45493236, 15.00186581, 20.82448164,\n",
       "        25.05762655, 28.51457277, 22.88538558, 22.48135281, 19.33858469,\n",
       "        17.93784411, 31.37379235, 21.71020926, 17.48923102, 18.34943412,\n",
       "        22.32208047, 23.05231569, 19.05227762, 22.99073115, 22.1067945 ,\n",
       "        26.45927741, 31.44231462, 13.55194974, 21.67489895, 20.14966387,\n",
       "        24.12978296, 14.37924646, 13.34809152, 18.27954692, 11.67031612,\n",
       "        16.47312648, 12.74660023, 21.15158163, 18.89039664, 13.79884131,\n",
       "        23.47502329, 18.22238127, 23.20058606, 23.76618965, 17.45968942,\n",
       "         8.44859299, 23.64709279, 22.78735159, 24.50036989, 28.85624314,\n",
       "        23.21579496, 24.54821251,  9.55793314, 13.91309223, 24.65867941,\n",
       "        25.03658171, 18.65661617, 23.50182611, 21.69583246, 20.04083767,\n",
       "        17.01081576,  9.06296248, 15.56600147, 19.8968513 , 12.72537899,\n",
       "        15.48882141, 26.28106862, 12.95073002, 15.25199549, 18.01071324,\n",
       "        17.79058262, 19.96348687,  7.25444858, 16.33533008, 16.96083222,\n",
       "        25.28633972, 17.567231  , 21.48563834, 21.10011223,  8.72573811,\n",
       "        24.56499415, 11.7625827 , 20.96940562, 23.4029371 , 14.06230131,\n",
       "        24.45695557, 20.08900003, 13.91257981, 19.26893895, 17.39742334,\n",
       "        18.28187358, 22.08587105, 18.98330037, 14.37701419,  6.53567072,\n",
       "        20.07683476, 19.29310261, 27.37609371, 21.01827417, 27.60959481,\n",
       "        16.57251305,  9.68702259, 21.581009  , 17.07415804, 19.91145337]),\n",
       " 'Ice cream eaten': array([ True,  True,  True,  True,  True,  True, False,  True,  True,\n",
       "         True,  True, False, False,  True, False, False,  True,  True,\n",
       "         True, False, False,  True,  True, False, False,  True,  True,\n",
       "        False,  True,  True, False, False,  True,  True, False,  True,\n",
       "        False,  True,  True, False,  True,  True,  True,  True,  True,\n",
       "        False,  True,  True,  True, False,  True, False,  True,  True,\n",
       "         True,  True,  True,  True,  True, False,  True,  True, False,\n",
       "         True, False,  True, False,  True,  True,  True,  True, False,\n",
       "        False,  True,  True,  True, False, False, False, False,  True,\n",
       "         True,  True,  True, False, False, False, False, False, False,\n",
       "         True,  True,  True, False,  True, False, False,  True,  True,\n",
       "         True])}"
      ]
     },
     "execution_count": 27,
     "metadata": {},
     "output_type": "execute_result"
    }
   ],
   "source": [
    "# Create a dictionary contianing this dataset\n",
    "d = {labels[0]:var1, labels[1]:var2}\n",
    "d"
   ]
  },
  {
   "cell_type": "code",
   "execution_count": 28,
   "id": "b25ef951",
   "metadata": {},
   "outputs": [
    {
     "data": {
      "text/html": [
       "<div>\n",
       "<style scoped>\n",
       "    .dataframe tbody tr th:only-of-type {\n",
       "        vertical-align: middle;\n",
       "    }\n",
       "\n",
       "    .dataframe tbody tr th {\n",
       "        vertical-align: top;\n",
       "    }\n",
       "\n",
       "    .dataframe thead th {\n",
       "        text-align: right;\n",
       "    }\n",
       "</style>\n",
       "<table border=\"1\" class=\"dataframe\">\n",
       "  <thead>\n",
       "    <tr style=\"text-align: right;\">\n",
       "      <th></th>\n",
       "      <th>Temp. (C)</th>\n",
       "      <th>Ice cream eaten</th>\n",
       "    </tr>\n",
       "  </thead>\n",
       "  <tbody>\n",
       "    <tr>\n",
       "      <th>0</th>\n",
       "      <td>14.719711</td>\n",
       "      <td>True</td>\n",
       "    </tr>\n",
       "    <tr>\n",
       "      <th>1</th>\n",
       "      <td>16.925833</td>\n",
       "      <td>True</td>\n",
       "    </tr>\n",
       "    <tr>\n",
       "      <th>2</th>\n",
       "      <td>19.454932</td>\n",
       "      <td>True</td>\n",
       "    </tr>\n",
       "    <tr>\n",
       "      <th>3</th>\n",
       "      <td>15.001866</td>\n",
       "      <td>True</td>\n",
       "    </tr>\n",
       "    <tr>\n",
       "      <th>4</th>\n",
       "      <td>20.824482</td>\n",
       "      <td>True</td>\n",
       "    </tr>\n",
       "  </tbody>\n",
       "</table>\n",
       "</div>"
      ],
      "text/plain": [
       "   Temp. (C)  Ice cream eaten\n",
       "0  14.719711             True\n",
       "1  16.925833             True\n",
       "2  19.454932             True\n",
       "3  15.001866             True\n",
       "4  20.824482             True"
      ]
     },
     "execution_count": 28,
     "metadata": {},
     "output_type": "execute_result"
    }
   ],
   "source": [
    "df = pd.DataFrame(data = d)\n",
    "df.head()"
   ]
  },
  {
   "cell_type": "code",
   "execution_count": 29,
   "id": "21581764",
   "metadata": {},
   "outputs": [
    {
     "data": {
      "text/html": [
       "<div>\n",
       "<style scoped>\n",
       "    .dataframe tbody tr th:only-of-type {\n",
       "        vertical-align: middle;\n",
       "    }\n",
       "\n",
       "    .dataframe tbody tr th {\n",
       "        vertical-align: top;\n",
       "    }\n",
       "\n",
       "    .dataframe thead th {\n",
       "        text-align: right;\n",
       "    }\n",
       "</style>\n",
       "<table border=\"1\" class=\"dataframe\">\n",
       "  <thead>\n",
       "    <tr style=\"text-align: right;\">\n",
       "      <th></th>\n",
       "      <th>Temp. (C)</th>\n",
       "      <th>Ice cream eaten</th>\n",
       "    </tr>\n",
       "  </thead>\n",
       "  <tbody>\n",
       "    <tr>\n",
       "      <th>95</th>\n",
       "      <td>16.572513</td>\n",
       "      <td>False</td>\n",
       "    </tr>\n",
       "    <tr>\n",
       "      <th>96</th>\n",
       "      <td>9.687023</td>\n",
       "      <td>False</td>\n",
       "    </tr>\n",
       "    <tr>\n",
       "      <th>97</th>\n",
       "      <td>21.581009</td>\n",
       "      <td>True</td>\n",
       "    </tr>\n",
       "    <tr>\n",
       "      <th>98</th>\n",
       "      <td>17.074158</td>\n",
       "      <td>True</td>\n",
       "    </tr>\n",
       "    <tr>\n",
       "      <th>99</th>\n",
       "      <td>19.911453</td>\n",
       "      <td>True</td>\n",
       "    </tr>\n",
       "  </tbody>\n",
       "</table>\n",
       "</div>"
      ],
      "text/plain": [
       "    Temp. (C)  Ice cream eaten\n",
       "95  16.572513            False\n",
       "96   9.687023            False\n",
       "97  21.581009             True\n",
       "98  17.074158             True\n",
       "99  19.911453             True"
      ]
     },
     "execution_count": 29,
     "metadata": {},
     "output_type": "execute_result"
    }
   ],
   "source": [
    "df.tail()"
   ]
  },
  {
   "cell_type": "code",
   "execution_count": 30,
   "id": "d826c619",
   "metadata": {},
   "outputs": [
    {
     "data": {
      "text/plain": [
       "Temp. (C)          100\n",
       "Ice cream eaten    100\n",
       "dtype: int64"
      ]
     },
     "execution_count": 30,
     "metadata": {},
     "output_type": "execute_result"
    }
   ],
   "source": [
    "df.count()"
   ]
  },
  {
   "cell_type": "code",
   "execution_count": 31,
   "id": "4bd76284",
   "metadata": {},
   "outputs": [
    {
     "data": {
      "text/plain": [
       "Temp. (C)          19.239896\n",
       "Ice cream eaten     0.630000\n",
       "dtype: float64"
      ]
     },
     "execution_count": 31,
     "metadata": {},
     "output_type": "execute_result"
    }
   ],
   "source": [
    "# Average value of each column\n",
    "df.mean()"
   ]
  },
  {
   "cell_type": "code",
   "execution_count": 32,
   "id": "267f7c6f",
   "metadata": {},
   "outputs": [
    {
     "name": "stderr",
     "output_type": "stream",
     "text": [
      "/var/folders/wh/83kd80754n51v2m2g0jx2wynk10f9n/T/ipykernel_4925/3664092326.py:8: RuntimeWarning: divide by zero encountered in log\n",
      "  int_log = np.log(ints)\n"
     ]
    },
    {
     "data": {
      "text/html": [
       "<div>\n",
       "<style scoped>\n",
       "    .dataframe tbody tr th:only-of-type {\n",
       "        vertical-align: middle;\n",
       "    }\n",
       "\n",
       "    .dataframe tbody tr th {\n",
       "        vertical-align: top;\n",
       "    }\n",
       "\n",
       "    .dataframe thead th {\n",
       "        text-align: right;\n",
       "    }\n",
       "</style>\n",
       "<table border=\"1\" class=\"dataframe\">\n",
       "  <thead>\n",
       "    <tr style=\"text-align: right;\">\n",
       "      <th></th>\n",
       "      <th>integers</th>\n",
       "      <th>integers square</th>\n",
       "      <th>log integers</th>\n",
       "    </tr>\n",
       "  </thead>\n",
       "  <tbody>\n",
       "    <tr>\n",
       "      <th>0</th>\n",
       "      <td>2</td>\n",
       "      <td>4</td>\n",
       "      <td>0.693147</td>\n",
       "    </tr>\n",
       "    <tr>\n",
       "      <th>1</th>\n",
       "      <td>2</td>\n",
       "      <td>4</td>\n",
       "      <td>0.693147</td>\n",
       "    </tr>\n",
       "    <tr>\n",
       "      <th>2</th>\n",
       "      <td>6</td>\n",
       "      <td>36</td>\n",
       "      <td>1.791759</td>\n",
       "    </tr>\n",
       "    <tr>\n",
       "      <th>3</th>\n",
       "      <td>1</td>\n",
       "      <td>1</td>\n",
       "      <td>0.000000</td>\n",
       "    </tr>\n",
       "    <tr>\n",
       "      <th>4</th>\n",
       "      <td>1</td>\n",
       "      <td>1</td>\n",
       "      <td>0.000000</td>\n",
       "    </tr>\n",
       "  </tbody>\n",
       "</table>\n",
       "</div>"
      ],
      "text/plain": [
       "   integers  integers square  log integers\n",
       "0         2                4      0.693147\n",
       "1         2                4      0.693147\n",
       "2         6               36      1.791759\n",
       "3         1                1      0.000000\n",
       "4         1                1      0.000000"
      ]
     },
     "execution_count": 32,
     "metadata": {},
     "output_type": "execute_result"
    }
   ],
   "source": [
    "# Exercise\n",
    "# Create a Pandas fd wth three variables\n",
    "# 1) integers 0 to 10\n",
    "# 2) their square\n",
    "# 3) their log\n",
    "ints = np.random.randint(0, 10, 100)\n",
    "int_sq = ints**2\n",
    "int_log = np.log(ints)\n",
    "d = {\"integers\":ints, \"integers square\":int_sq, \"log integers\": int_log}\n",
    "df = pd.DataFrame(data = d)\n",
    "df.head()"
   ]
  },
  {
   "cell_type": "code",
   "execution_count": 33,
   "id": "dad15daf",
   "metadata": {},
   "outputs": [
    {
     "name": "stderr",
     "output_type": "stream",
     "text": [
      "/var/folders/wh/83kd80754n51v2m2g0jx2wynk10f9n/T/ipykernel_4925/1217252105.py:3: RuntimeWarning: divide by zero encountered in log\n",
      "  D = {\"integers\":nums, \"square\": nums**2, \"log\": np.log(nums)}\n"
     ]
    },
    {
     "data": {
      "text/html": [
       "<div>\n",
       "<style scoped>\n",
       "    .dataframe tbody tr th:only-of-type {\n",
       "        vertical-align: middle;\n",
       "    }\n",
       "\n",
       "    .dataframe tbody tr th {\n",
       "        vertical-align: top;\n",
       "    }\n",
       "\n",
       "    .dataframe thead th {\n",
       "        text-align: right;\n",
       "    }\n",
       "</style>\n",
       "<table border=\"1\" class=\"dataframe\">\n",
       "  <thead>\n",
       "    <tr style=\"text-align: right;\">\n",
       "      <th></th>\n",
       "      <th>integers</th>\n",
       "      <th>square</th>\n",
       "      <th>log</th>\n",
       "    </tr>\n",
       "  </thead>\n",
       "  <tbody>\n",
       "    <tr>\n",
       "      <th>0</th>\n",
       "      <td>0</td>\n",
       "      <td>0</td>\n",
       "      <td>-inf</td>\n",
       "    </tr>\n",
       "    <tr>\n",
       "      <th>1</th>\n",
       "      <td>1</td>\n",
       "      <td>1</td>\n",
       "      <td>0.000000</td>\n",
       "    </tr>\n",
       "    <tr>\n",
       "      <th>2</th>\n",
       "      <td>2</td>\n",
       "      <td>4</td>\n",
       "      <td>0.693147</td>\n",
       "    </tr>\n",
       "    <tr>\n",
       "      <th>3</th>\n",
       "      <td>3</td>\n",
       "      <td>9</td>\n",
       "      <td>1.098612</td>\n",
       "    </tr>\n",
       "    <tr>\n",
       "      <th>4</th>\n",
       "      <td>4</td>\n",
       "      <td>16</td>\n",
       "      <td>1.386294</td>\n",
       "    </tr>\n",
       "    <tr>\n",
       "      <th>5</th>\n",
       "      <td>5</td>\n",
       "      <td>25</td>\n",
       "      <td>1.609438</td>\n",
       "    </tr>\n",
       "    <tr>\n",
       "      <th>6</th>\n",
       "      <td>6</td>\n",
       "      <td>36</td>\n",
       "      <td>1.791759</td>\n",
       "    </tr>\n",
       "    <tr>\n",
       "      <th>7</th>\n",
       "      <td>7</td>\n",
       "      <td>49</td>\n",
       "      <td>1.945910</td>\n",
       "    </tr>\n",
       "    <tr>\n",
       "      <th>8</th>\n",
       "      <td>8</td>\n",
       "      <td>64</td>\n",
       "      <td>2.079442</td>\n",
       "    </tr>\n",
       "    <tr>\n",
       "      <th>9</th>\n",
       "      <td>9</td>\n",
       "      <td>81</td>\n",
       "      <td>2.197225</td>\n",
       "    </tr>\n",
       "    <tr>\n",
       "      <th>10</th>\n",
       "      <td>10</td>\n",
       "      <td>100</td>\n",
       "      <td>2.302585</td>\n",
       "    </tr>\n",
       "  </tbody>\n",
       "</table>\n",
       "</div>"
      ],
      "text/plain": [
       "    integers  square       log\n",
       "0          0       0      -inf\n",
       "1          1       1  0.000000\n",
       "2          2       4  0.693147\n",
       "3          3       9  1.098612\n",
       "4          4      16  1.386294\n",
       "5          5      25  1.609438\n",
       "6          6      36  1.791759\n",
       "7          7      49  1.945910\n",
       "8          8      64  2.079442\n",
       "9          9      81  2.197225\n",
       "10        10     100  2.302585"
      ]
     },
     "execution_count": 33,
     "metadata": {},
     "output_type": "execute_result"
    }
   ],
   "source": [
    "# Another version\n",
    "nums = np.array(range(11))\n",
    "D = {\"integers\":nums, \"square\": nums**2, \"log\": np.log(nums)}\n",
    "df = pd.DataFrame(data = D)\n",
    "df"
   ]
  },
  {
   "cell_type": "markdown",
   "id": "a2455f87",
   "metadata": {},
   "source": [
    "## Getting Help on Functions"
   ]
  },
  {
   "cell_type": "code",
   "execution_count": 34,
   "id": "3886bdd8",
   "metadata": {},
   "outputs": [
    {
     "data": {
      "text/plain": [
       "6"
      ]
     },
     "execution_count": 34,
     "metadata": {},
     "output_type": "execute_result"
    }
   ],
   "source": [
    "alist = [1, 2, 3]\n",
    "sum(alist)"
   ]
  },
  {
   "cell_type": "code",
   "execution_count": 35,
   "id": "edffe6df",
   "metadata": {},
   "outputs": [
    {
     "data": {
      "text/plain": [
       "7"
      ]
     },
     "execution_count": 35,
     "metadata": {},
     "output_type": "execute_result"
    }
   ],
   "source": [
    "sum(alist, 1)"
   ]
  },
  {
   "cell_type": "code",
   "execution_count": 36,
   "id": "e0de2926",
   "metadata": {},
   "outputs": [
    {
     "data": {
      "text/plain": [
       "16"
      ]
     },
     "execution_count": 36,
     "metadata": {},
     "output_type": "execute_result"
    }
   ],
   "source": [
    "sum(alist,10)"
   ]
  },
  {
   "cell_type": "code",
   "execution_count": 37,
   "id": "fb1cfd45",
   "metadata": {},
   "outputs": [
    {
     "data": {
      "text/plain": [
       "0"
      ]
     },
     "execution_count": 37,
     "metadata": {},
     "output_type": "execute_result"
    }
   ],
   "source": [
    "sum(alist, -6)"
   ]
  },
  {
   "cell_type": "code",
   "execution_count": 38,
   "id": "2fd1c4ba",
   "metadata": {},
   "outputs": [],
   "source": [
    "sum??"
   ]
  },
  {
   "cell_type": "code",
   "execution_count": 39,
   "id": "7f57c674",
   "metadata": {},
   "outputs": [
    {
     "name": "stdout",
     "output_type": "stream",
     "text": [
      "Help on built-in function sum in module builtins:\n",
      "\n",
      "sum(iterable, /, start=0)\n",
      "    Return the sum of a 'start' value (default: 0) plus an iterable of numbers\n",
      "    \n",
      "    When the iterable is empty, return the start value.\n",
      "    This function is intended specifically for use with numeric values and may\n",
      "    reject non-numeric types.\n",
      "\n"
     ]
    }
   ],
   "source": [
    "help(sum)"
   ]
  },
  {
   "cell_type": "code",
   "execution_count": 40,
   "id": "a351062d",
   "metadata": {},
   "outputs": [],
   "source": [
    "import inspect"
   ]
  },
  {
   "cell_type": "code",
   "execution_count": 41,
   "id": "4def519c",
   "metadata": {},
   "outputs": [],
   "source": [
    "# Read the source files\n",
    "# inspect.getsourcelines(np.linspace)"
   ]
  },
  {
   "cell_type": "markdown",
   "id": "2046838d",
   "metadata": {},
   "source": [
    "## Creating Functions"
   ]
  },
  {
   "cell_type": "code",
   "execution_count": 42,
   "id": "3c3d74c3",
   "metadata": {},
   "outputs": [
    {
     "name": "stdout",
     "output_type": "stream",
     "text": [
      "2\n"
     ]
    }
   ],
   "source": [
    "# How to crete functions from scratch\n",
    "def awesomeFunction():\n",
    "    print(1+1)\n",
    "awesomeFunction()"
   ]
  },
  {
   "cell_type": "code",
   "execution_count": 43,
   "id": "a9c63466",
   "metadata": {},
   "outputs": [
    {
     "data": {
      "text/plain": [
       "<function __main__.awesomeFunction()>"
      ]
     },
     "execution_count": 43,
     "metadata": {},
     "output_type": "execute_result"
    }
   ],
   "source": [
    "awesomeFunction"
   ]
  },
  {
   "cell_type": "code",
   "execution_count": 44,
   "id": "6215e653",
   "metadata": {},
   "outputs": [
    {
     "data": {
      "text/plain": [
       "10"
      ]
     },
     "execution_count": 44,
     "metadata": {},
     "output_type": "execute_result"
    }
   ],
   "source": [
    "def superAwesomeFunction(input1, input2):\n",
    "    return input1 + input2\n",
    "superAwesomeFunction(5, 5)"
   ]
  },
  {
   "cell_type": "code",
   "execution_count": 45,
   "id": "73146749",
   "metadata": {},
   "outputs": [
    {
     "name": "stdout",
     "output_type": "stream",
     "text": [
      "2\n",
      "None\n"
     ]
    }
   ],
   "source": [
    "# No output because there is no return command in function\n",
    "# The function doesnt return anything\n",
    "output = awesomeFunction()\n",
    "print(output)"
   ]
  },
  {
   "cell_type": "code",
   "execution_count": 46,
   "id": "258b594e",
   "metadata": {},
   "outputs": [
    {
     "name": "stdout",
     "output_type": "stream",
     "text": [
      "10\n"
     ]
    }
   ],
   "source": [
    "output = superAwesomeFunction(5, 5)\n",
    "print(output)"
   ]
  },
  {
   "cell_type": "code",
   "execution_count": 47,
   "id": "c68ccfb9",
   "metadata": {},
   "outputs": [
    {
     "name": "stdout",
     "output_type": "stream",
     "text": [
      "Their sum is 7\n",
      "Their product is 12\n"
     ]
    },
    {
     "data": {
      "text/plain": [
       "(7, 12)"
      ]
     },
     "execution_count": 47,
     "metadata": {},
     "output_type": "execute_result"
    }
   ],
   "source": [
    "def funfun(in1, in2):\n",
    "    sumres = in1 + in2\n",
    "    prodres = in1*in2\n",
    "    print(\"Their sum is\", sumres)\n",
    "    print(\"Their product is\", prodres)\n",
    "    return sumres, prodres\n",
    "\n",
    "funfun(3,4)"
   ]
  },
  {
   "cell_type": "code",
   "execution_count": 48,
   "id": "fe22c371",
   "metadata": {},
   "outputs": [
    {
     "name": "stdout",
     "output_type": "stream",
     "text": [
      "Their sum is 7\n",
      "Their product is 12\n",
      "7\n",
      "12\n"
     ]
    }
   ],
   "source": [
    "out = funfun(3,4)\n",
    "print(out[0])\n",
    "print(out[1])"
   ]
  },
  {
   "cell_type": "code",
   "execution_count": 49,
   "id": "044e3614",
   "metadata": {},
   "outputs": [
    {
     "name": "stdout",
     "output_type": "stream",
     "text": [
      "Their sum is 7\n",
      "Their product is 12\n",
      "7 12\n"
     ]
    }
   ],
   "source": [
    "outS, outP = funfun(3,4)\n",
    "print(outS, outP)"
   ]
  },
  {
   "cell_type": "code",
   "execution_count": 50,
   "id": "151883c8",
   "metadata": {},
   "outputs": [
    {
     "data": {
      "text/plain": [
       "15"
      ]
     },
     "execution_count": 50,
     "metadata": {},
     "output_type": "execute_result"
    }
   ],
   "source": [
    "# lambda functions: often used in mathemaics, one-line function\n",
    "# you cannot continue to the next line with lambda, they are convenient for short things only\n",
    "littlefun = lambda x : x**2 - 1\n",
    "littlefun(4)"
   ]
  },
  {
   "cell_type": "code",
   "execution_count": 51,
   "id": "a3bb88e4",
   "metadata": {},
   "outputs": [
    {
     "data": {
      "text/plain": [
       "120"
      ]
     },
     "execution_count": 51,
     "metadata": {},
     "output_type": "execute_result"
    }
   ],
   "source": [
    "# Exercise\n",
    "# Create a function that computes the factorial of an integer\n",
    "# 5! = 5*4*3*2*1\n",
    "# compare the output of this function against the factorial function of math module\n",
    "import math\n",
    "def fct(x):\n",
    "    a = list(range(1,x+1))\n",
    "    return np.product(a)\n",
    "fct(5)"
   ]
  },
  {
   "cell_type": "code",
   "execution_count": 52,
   "id": "2683b7e6",
   "metadata": {},
   "outputs": [
    {
     "data": {
      "text/plain": [
       "120"
      ]
     },
     "execution_count": 52,
     "metadata": {},
     "output_type": "execute_result"
    }
   ],
   "source": [
    "math.factorial(5)"
   ]
  },
  {
   "cell_type": "code",
   "execution_count": 53,
   "id": "9d0d7ef8",
   "metadata": {},
   "outputs": [
    {
     "data": {
      "text/plain": [
       "24"
      ]
     },
     "execution_count": 53,
     "metadata": {},
     "output_type": "execute_result"
    }
   ],
   "source": [
    "# another verson with numpy\n",
    "val = 4\n",
    "np.arange(1,val+1)\n",
    "np.product(np.arange(1, val+1))"
   ]
  },
  {
   "cell_type": "code",
   "execution_count": 54,
   "id": "75b8ebf0",
   "metadata": {},
   "outputs": [
    {
     "data": {
      "text/plain": [
       "8128291617894825984"
      ]
     },
     "execution_count": 54,
     "metadata": {},
     "output_type": "execute_result"
    }
   ],
   "source": [
    "fct(23)"
   ]
  },
  {
   "cell_type": "markdown",
   "id": "60457602",
   "metadata": {},
   "source": [
    "## Global and Local Variable Scopes"
   ]
  },
  {
   "cell_type": "code",
   "execution_count": 55,
   "id": "73cb4124",
   "metadata": {},
   "outputs": [
    {
     "name": "stdout",
     "output_type": "stream",
     "text": [
      "7\n"
     ]
    }
   ],
   "source": [
    "# Local scope (variables do not exist in the global environment)\n",
    "# variable accessed only inside the function\n",
    "def funfun():\n",
    "    x = 7\n",
    "    y = 10\n",
    "    print(x)\n",
    "funfun()"
   ]
  },
  {
   "cell_type": "code",
   "execution_count": 56,
   "id": "40e4ebde",
   "metadata": {},
   "outputs": [
    {
     "name": "stdout",
     "output_type": "stream",
     "text": [
      "7\n",
      "3\n"
     ]
    }
   ],
   "source": [
    "x = 3\n",
    "funfun()\n",
    "print(x)\n",
    "# print(y)"
   ]
  },
  {
   "cell_type": "code",
   "execution_count": 57,
   "id": "c8f77116",
   "metadata": {},
   "outputs": [
    {
     "name": "stdout",
     "output_type": "stream",
     "text": [
      "2\n"
     ]
    }
   ],
   "source": [
    "# Global scope: variable created outside the function\n",
    "z = 2\n",
    "def fz():\n",
    "    print(z)\n",
    "fz()"
   ]
  },
  {
   "cell_type": "code",
   "execution_count": 58,
   "id": "665dedab",
   "metadata": {},
   "outputs": [
    {
     "data": {
      "text/plain": [
       "0.49744"
      ]
     },
     "execution_count": 58,
     "metadata": {},
     "output_type": "execute_result"
    }
   ],
   "source": [
    "# Exercise\n",
    "# Write a function that flips a coin n-times and reports the average\n",
    "N = 100000\n",
    "def flip(N):\n",
    "    return np.mean(np.random.randint(0,2,N))\n",
    "flip(N)"
   ]
  },
  {
   "cell_type": "code",
   "execution_count": 59,
   "id": "04a1bc23",
   "metadata": {},
   "outputs": [
    {
     "data": {
      "text/plain": [
       "0.50016"
      ]
     },
     "execution_count": 59,
     "metadata": {},
     "output_type": "execute_result"
    }
   ],
   "source": [
    "def coinflip(N):\n",
    "    return np.mean(np.random.randn(N)>0)\n",
    "coinflip(N)"
   ]
  },
  {
   "cell_type": "markdown",
   "id": "79d2a7d3",
   "metadata": {},
   "source": [
    "## Classes and Object-Oriented Programming (OOP)"
   ]
  },
  {
   "cell_type": "code",
   "execution_count": 60,
   "id": "0fb14d23",
   "metadata": {},
   "outputs": [],
   "source": [
    "# Class is like a dictionary because it can store various \n",
    "# pieces of information\n",
    "class Experiment(object):\n",
    "    # constructor method\n",
    "    def __init__(self, eType, dataN, status = \"ongoing\"):\n",
    "        self.expType = eType\n",
    "        self.dataCount = dataN\n",
    "        self.expStatus = status\n",
    "        \n",
    "    def increaseN(self, number):\n",
    "        self.dataCount += number\n",
    "        \n",
    "    def changeExpStatus(self, status):\n",
    "        self.expStatus = status\n",
    "        \n",
    "    def __str__(self):\n",
    "        return \"Experiment type: \" + self.expType + \" has \" + str(self.dataCount) + \" data points. \""
   ]
  },
  {
   "cell_type": "code",
   "execution_count": 61,
   "id": "076f8db7",
   "metadata": {},
   "outputs": [
    {
     "data": {
      "text/plain": [
       "<__main__.Experiment at 0x7fc940ef7a00>"
      ]
     },
     "execution_count": 61,
     "metadata": {},
     "output_type": "execute_result"
    }
   ],
   "source": [
    "myexperiment = Experiment(\"Brain\", 120)\n",
    "myexperiment"
   ]
  },
  {
   "cell_type": "code",
   "execution_count": 62,
   "id": "f83ca050",
   "metadata": {},
   "outputs": [
    {
     "name": "stdout",
     "output_type": "stream",
     "text": [
      "120\n"
     ]
    }
   ],
   "source": [
    "print(myexperiment.dataCount)"
   ]
  },
  {
   "cell_type": "code",
   "execution_count": 63,
   "id": "feb3031e",
   "metadata": {},
   "outputs": [
    {
     "name": "stdout",
     "output_type": "stream",
     "text": [
      "140\n",
      "1590\n",
      "Experiment type: Brain has 1590 data points. \n"
     ]
    }
   ],
   "source": [
    "myexperiment = Experiment(\"Brain\", 140)\n",
    "print(myexperiment.dataCount)\n",
    "myexperiment.increaseN(1450)\n",
    "print(myexperiment.dataCount)\n",
    "print(myexperiment)"
   ]
  },
  {
   "cell_type": "code",
   "execution_count": 64,
   "id": "7e97bc2c",
   "metadata": {},
   "outputs": [],
   "source": [
    "# Exercise\n",
    "# Create a class to store information about your board game hobby.\n",
    "# The class must contain ifnormation about:\n",
    "# 1 - Name of the board game\n",
    "# 2 - Number of times yo have plaid\n",
    "# 3 - Number of times you have won\n",
    "# And the following methods\n",
    "# 1 - Update N plays and N wins\n",
    "# 2 - Print out the outcome of ther last game (win/lose)\n",
    "# Create at least two different instances to make sure it works\n",
    "class Boardgames(object):\n",
    "    # constructor method\n",
    "    def __init__(self, name, play, status):\n",
    "        self.name = name\n",
    "        self.play = play\n",
    "        self.status = status\n",
    "        \n",
    "    def update(self, number, status):\n",
    "        self.play += number\n",
    "        self.status = status\n",
    "        \n",
    "    def __str__(self):\n",
    "        return '{} {} {}'.format(self.name, self.play, self.status)"
   ]
  },
  {
   "cell_type": "code",
   "execution_count": 65,
   "id": "cb092b9a",
   "metadata": {},
   "outputs": [
    {
     "name": "stdout",
     "output_type": "stream",
     "text": [
      "chess 1 win\n"
     ]
    }
   ],
   "source": [
    "game = Boardgames(\"chess\", 1, \"win\")\n",
    "print(game)"
   ]
  },
  {
   "cell_type": "code",
   "execution_count": 66,
   "id": "6177f401",
   "metadata": {},
   "outputs": [
    {
     "name": "stdout",
     "output_type": "stream",
     "text": [
      "chess 4 lose\n"
     ]
    }
   ],
   "source": [
    "game.update(3, \"lose\")\n",
    "print(game)"
   ]
  }
 ],
 "metadata": {
  "kernelspec": {
   "display_name": "Python 3 (ipykernel)",
   "language": "python",
   "name": "python3"
  },
  "language_info": {
   "codemirror_mode": {
    "name": "ipython",
    "version": 3
   },
   "file_extension": ".py",
   "mimetype": "text/x-python",
   "name": "python",
   "nbconvert_exporter": "python",
   "pygments_lexer": "ipython3",
   "version": "3.9.7"
  }
 },
 "nbformat": 4,
 "nbformat_minor": 5
}
