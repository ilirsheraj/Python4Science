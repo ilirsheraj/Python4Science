{
 "cells": [
  {
   "cell_type": "markdown",
   "id": "43989c94",
   "metadata": {},
   "source": [
    "## If-Else Statements"
   ]
  },
  {
   "cell_type": "code",
   "execution_count": 1,
   "id": "fc674103",
   "metadata": {},
   "outputs": [
    {
     "name": "stdout",
     "output_type": "stream",
     "text": [
      "True is true\n"
     ]
    }
   ],
   "source": [
    "if True:\n",
    "    print(\"True is true\")"
   ]
  },
  {
   "cell_type": "code",
   "execution_count": 2,
   "id": "85496641",
   "metadata": {},
   "outputs": [],
   "source": [
    "if False:\n",
    "    print(\"False is true\")"
   ]
  },
  {
   "cell_type": "code",
   "execution_count": 3,
   "id": "d78d4f35",
   "metadata": {},
   "outputs": [
    {
     "name": "stdout",
     "output_type": "stream",
     "text": [
      "Hello\n"
     ]
    }
   ],
   "source": [
    "if 4 == 4:\n",
    "    print(\"Hello\")"
   ]
  },
  {
   "cell_type": "code",
   "execution_count": 4,
   "id": "78db74b2",
   "metadata": {},
   "outputs": [],
   "source": [
    "if 4 == 4.1:\n",
    "    print(\"Hello\")"
   ]
  },
  {
   "cell_type": "code",
   "execution_count": 5,
   "id": "eb245e95",
   "metadata": {},
   "outputs": [
    {
     "name": "stdout",
     "output_type": "stream",
     "text": [
      "0.23567548184246687\n"
     ]
    }
   ],
   "source": [
    "import numpy as np\n",
    "randnum = np.random.randn()\n",
    "\n",
    "if randnum > 0:\n",
    "    print(randnum)"
   ]
  },
  {
   "cell_type": "code",
   "execution_count": 6,
   "id": "c6ae2354",
   "metadata": {},
   "outputs": [
    {
     "name": "stdout",
     "output_type": "stream",
     "text": [
      "-0.15845209713822067 is negative\n"
     ]
    }
   ],
   "source": [
    "r = np.random.randn()\n",
    "\n",
    "if r > 0:\n",
    "    print(str(r) + \" is positive\")\n",
    "else:\n",
    "    print(str(r) + \" is negative\")"
   ]
  },
  {
   "cell_type": "code",
   "execution_count": 7,
   "id": "bd46c511",
   "metadata": {},
   "outputs": [
    {
     "name": "stdout",
     "output_type": "stream",
     "text": [
      "Healthy\n"
     ]
    }
   ],
   "source": [
    "caketype = \"fruitcake\"\n",
    "\n",
    "if caketype == \"carrot\":\n",
    "    print(\"Total yumminess!\")\n",
    "elif caketype == \"chocholate\":\n",
    "    print(\"Quite good\")\n",
    "elif caketype == \"fruitcake\":\n",
    "    print(\"Healthy\")\n",
    "else:\n",
    "    print(\"Cake type not recognized\")"
   ]
  },
  {
   "cell_type": "code",
   "execution_count": 8,
   "id": "1eacc842",
   "metadata": {},
   "outputs": [
    {
     "name": "stdout",
     "output_type": "stream",
     "text": [
      "Probably carrot cake\n"
     ]
    }
   ],
   "source": [
    "# One-Line if statements\n",
    "caketype = \"Carrot\"\n",
    "\n",
    "if caketype[0].lower() == \"c\": print(\"Probably carrot cake\")"
   ]
  },
  {
   "cell_type": "code",
   "execution_count": 9,
   "id": "94a349d0",
   "metadata": {},
   "outputs": [
    {
     "name": "stdout",
     "output_type": "stream",
     "text": [
      "Probably carrot cake\n"
     ]
    }
   ],
   "source": [
    "# Another form of one-line if statement\n",
    "caktype = \"bs\"\n",
    "print(\"Probably carrot cake\") if caketype[0].lower() == \"c\" else print(\"or not\")"
   ]
  },
  {
   "cell_type": "code",
   "execution_count": 10,
   "id": "e558e0ff",
   "metadata": {},
   "outputs": [
    {
     "name": "stdout",
     "output_type": "stream",
     "text": [
      "Probably carrot cake\n"
     ]
    }
   ],
   "source": [
    "caktype = \"Carrot\"\n",
    "print(\"Probably carrot cake\") if caketype[0].lower() == \"c\" else print(\"or not\")"
   ]
  },
  {
   "cell_type": "code",
   "execution_count": 11,
   "id": "2f9d7afd",
   "metadata": {},
   "outputs": [
    {
     "name": "stdout",
     "output_type": "stream",
     "text": [
      "Both are true\n"
     ]
    }
   ],
   "source": [
    "if 1 < 3 and 4 == 4:\n",
    "    print(\"Both are true\")"
   ]
  },
  {
   "cell_type": "code",
   "execution_count": 12,
   "id": "f168e394",
   "metadata": {},
   "outputs": [],
   "source": [
    "if 10 < 3 and 4 == 4:\n",
    "    print(\"Both are true\")"
   ]
  },
  {
   "cell_type": "code",
   "execution_count": 13,
   "id": "2ac3355d",
   "metadata": {},
   "outputs": [
    {
     "name": "stdout",
     "output_type": "stream",
     "text": [
      "At least one is True\n"
     ]
    }
   ],
   "source": [
    "if 10 < 3 or 4 == 4:\n",
    "    print(\"At least one is True\")"
   ]
  },
  {
   "cell_type": "code",
   "execution_count": 14,
   "id": "e7b5ff00",
   "metadata": {},
   "outputs": [],
   "source": [
    "# Exercise\n",
    "# Create a function that computes the dot product\n",
    "# Function checks that both inputs are numpy arrays (hint: isinstance)\n",
    "# Function checks for the same length of both vectors\n",
    "# Return dot product is pass, useful error message otherwise\n",
    "def dot_product(v1, v2):\n",
    "    # Check that both vectors are numpy arrays\n",
    "    if isinstance(v1,np.ndarray) and isinstance(v2, np.ndarray):\n",
    "        # Check whether they have the same length\n",
    "        if len(v1) == len(v2):\n",
    "            return v1 @ v2\n",
    "        else:\n",
    "            print(\"Vectors have different lengths\")\n",
    "    else:\n",
    "        print(\"These are not numpy arrays\")"
   ]
  },
  {
   "cell_type": "code",
   "execution_count": 15,
   "id": "22517fc4",
   "metadata": {},
   "outputs": [
    {
     "data": {
      "text/plain": [
       "47"
      ]
     },
     "execution_count": 15,
     "metadata": {},
     "output_type": "execute_result"
    }
   ],
   "source": [
    "v1 = np.array([1,2,3,4])\n",
    "v2 = np.array([2,3,5,6])\n",
    "dot_product(v1, v2)"
   ]
  },
  {
   "cell_type": "code",
   "execution_count": 16,
   "id": "5e8a226d",
   "metadata": {},
   "outputs": [
    {
     "name": "stdout",
     "output_type": "stream",
     "text": [
      "Vectors have different lengths\n"
     ]
    }
   ],
   "source": [
    "v1 = np.array([1,2,3])\n",
    "v2 = np.array([2,3,5,6])\n",
    "dot_product(v1, v2)"
   ]
  },
  {
   "cell_type": "code",
   "execution_count": 17,
   "id": "5582edcf",
   "metadata": {},
   "outputs": [
    {
     "name": "stdout",
     "output_type": "stream",
     "text": [
      "These are not numpy arrays\n"
     ]
    }
   ],
   "source": [
    "v1 = [1,2,3,4]\n",
    "v2 = [2,3,5,6]\n",
    "dot_product(v1, v2)"
   ]
  },
  {
   "cell_type": "code",
   "execution_count": 18,
   "id": "4da342a6",
   "metadata": {},
   "outputs": [
    {
     "data": {
      "text/plain": [
       "47"
      ]
     },
     "execution_count": 18,
     "metadata": {},
     "output_type": "execute_result"
    }
   ],
   "source": [
    "# another version\n",
    "def dotproduct(v1, v2):\n",
    "    # Check that both vectors are numpy arrays\n",
    "    if not (isinstance(v1,np.ndarray) and isinstance(v2, np.ndarray)):\n",
    "        raise Exception(\"Must be Numpy Array\")\n",
    "        # Check whether they have the same length\n",
    "        if not (len(v1) == len(v2)):\n",
    "            raise Exception(\"Must be the same length\")\n",
    "    return sum(v1*v2)\n",
    "v1 = np.array([1,2,3,4])\n",
    "v2 = np.array([2,3,5,6])\n",
    "dotproduct(v1, v2)"
   ]
  },
  {
   "cell_type": "markdown",
   "id": "6e5a1db4",
   "metadata": {},
   "source": [
    "## For Loops"
   ]
  },
  {
   "cell_type": "code",
   "execution_count": 19,
   "id": "44720e01",
   "metadata": {},
   "outputs": [
    {
     "name": "stdout",
     "output_type": "stream",
     "text": [
      "0\n",
      "1\n",
      "2\n",
      "3\n",
      "4\n",
      "5\n"
     ]
    }
   ],
   "source": [
    "for i in range(6):\n",
    "    print(i)"
   ]
  },
  {
   "cell_type": "code",
   "execution_count": 20,
   "id": "87c83a0c",
   "metadata": {},
   "outputs": [
    {
     "name": "stdout",
     "output_type": "stream",
     "text": [
      "4 16\n",
      "5 25\n",
      "6 36\n",
      "7 49\n",
      "8 64\n",
      "9 81\n"
     ]
    }
   ],
   "source": [
    "for j in range(4,10):\n",
    "    print(j, j**2)"
   ]
  },
  {
   "cell_type": "code",
   "execution_count": 21,
   "id": "852bb58b",
   "metadata": {},
   "outputs": [
    {
     "name": "stdout",
     "output_type": "stream",
     "text": [
      "Iteration 1 has a value of 3.0\n",
      "Iteration 2 has a value of 3.6666666666666665\n",
      "Iteration 3 has a value of 4.333333333333333\n",
      "Iteration 4 has a value of 5.0\n",
      "Iteration 5 has a value of 5.666666666666666\n",
      "Iteration 6 has a value of 6.333333333333333\n",
      "Iteration 7 has a value of 7.0\n",
      "Iteration 8 has a value of 7.666666666666666\n",
      "Iteration 9 has a value of 8.333333333333332\n",
      "Iteration 10 has a value of 9.0\n",
      "Iteration 11 has a value of 9.666666666666666\n",
      "Iteration 12 has a value of 10.333333333333332\n",
      "Iteration 13 has a value of 11.0\n",
      "Iteration 14 has a value of 11.666666666666666\n",
      "Iteration 15 has a value of 12.333333333333332\n",
      "Iteration 16 has a value of 13.0\n",
      "Iteration 17 has a value of 13.666666666666666\n",
      "Iteration 18 has a value of 14.333333333333332\n",
      "Iteration 19 has a value of 15.0\n",
      "Iteration 20 has a value of 15.666666666666666\n",
      "Iteration 21 has a value of 16.333333333333332\n",
      "Iteration 22 has a value of 17.0\n"
     ]
    }
   ],
   "source": [
    "numbers = np.linspace(3, 17, 22)\n",
    "for i in range(len(numbers)):\n",
    "    x = numbers[i]\n",
    "    print(\"Iteration \" + str(i + 1) + \" has a value of \" + str(x))"
   ]
  },
  {
   "cell_type": "code",
   "execution_count": 22,
   "id": "67337f65",
   "metadata": {},
   "outputs": [],
   "source": [
    "# Soft vs Hard coding\n",
    "# 100s of line sof code\n",
    "# Hard coding: Manually specifying the parameters each time they appear \n",
    "# Hard copying shpuld be avoided whenever possibe\n",
    "# Soft coding: Specify a variable that can be changed easily\n",
    "# Hard coding\n",
    "for i in range(100):\n",
    "    pass\n",
    "\n",
    "# Soft coding\n",
    "niterations = 100\n",
    "for i in range(niterations):\n",
    "    pass"
   ]
  },
  {
   "cell_type": "code",
   "execution_count": 23,
   "id": "3df304bd",
   "metadata": {},
   "outputs": [
    {
     "name": "stdout",
     "output_type": "stream",
     "text": [
      "0\n",
      "\n",
      "1\n"
     ]
    }
   ],
   "source": [
    "# Percent operator: It is called the \"Modulus\" opertator. It returns the remainder after the division\n",
    "print(6%2)\n",
    "print()\n",
    "print(7%2)"
   ]
  },
  {
   "cell_type": "code",
   "execution_count": 24,
   "id": "20faf7ac",
   "metadata": {},
   "outputs": [
    {
     "name": "stdout",
     "output_type": "stream",
     "text": [
      "0 is an even number\n",
      "1 is an odd number\n",
      "2 is an even number\n",
      "3 is an odd number\n",
      "4 is an even number\n",
      "5 is an odd number\n",
      "6 is an even number\n",
      "7 is an odd number\n",
      "8 is an even number\n",
      "9 is an odd number\n",
      "10 is an even number\n",
      "11 is an odd number\n",
      "12 is an even number\n",
      "13 is an odd number\n",
      "14 is an even number\n",
      "15 is an odd number\n",
      "16 is an even number\n",
      "17 is an odd number\n"
     ]
    }
   ],
   "source": [
    "for n in range(18):\n",
    "    if n%2 == 0:\n",
    "        print(str(n) + \" is an even number\")\n",
    "    else:\n",
    "        print(str(n) + \" is an odd number\")"
   ]
  },
  {
   "cell_type": "code",
   "execution_count": 25,
   "id": "4a110bad",
   "metadata": {},
   "outputs": [
    {
     "data": {
      "text/plain": [
       "[0, 1, 1, 2, 3, 5, 8, 13]"
      ]
     },
     "execution_count": 25,
     "metadata": {},
     "output_type": "execute_result"
    }
   ],
   "source": [
    "# Exercise\n",
    "# Create a function that reports the Fibbonacci series for n+3 numbers\n",
    "\n",
    "def fibonaci(n):\n",
    "    v = [0,1,1]\n",
    "    for i in range(n):\n",
    "        v.append(sum(v[-2:]))\n",
    "    return v\n",
    "fibonaci(5)"
   ]
  },
  {
   "cell_type": "markdown",
   "id": "25429cf4",
   "metadata": {},
   "source": [
    "## Continue"
   ]
  },
  {
   "cell_type": "code",
   "execution_count": 26,
   "id": "0a98f47b",
   "metadata": {},
   "outputs": [
    {
     "name": "stdout",
     "output_type": "stream",
     "text": [
      "1\n",
      "3\n",
      "5\n",
      "7\n",
      "9\n"
     ]
    }
   ],
   "source": [
    "# Skip iterations inside loops\n",
    "for i in range(10):\n",
    "    if i%2 == 0:\n",
    "        continue\n",
    "    else:\n",
    "        print(i)"
   ]
  },
  {
   "cell_type": "code",
   "execution_count": 27,
   "id": "06e0760c",
   "metadata": {},
   "outputs": [
    {
     "name": "stdout",
     "output_type": "stream",
     "text": [
      "H\n",
      "l\n",
      "l\n",
      ",\n",
      " \n",
      "m\n",
      "y\n",
      " \n",
      "n\n",
      "m\n",
      " \n",
      "s\n",
      " \n",
      "M\n",
      "k\n"
     ]
    }
   ],
   "source": [
    "text = \"HellO, my name is MikE\"\n",
    "for i in text:\n",
    "    if i.lower() in \"aeiou\":\n",
    "        continue\n",
    "    print(i)"
   ]
  },
  {
   "cell_type": "markdown",
   "id": "3f1dd8b1",
   "metadata": {},
   "source": [
    "## While Loop"
   ]
  },
  {
   "cell_type": "code",
   "execution_count": 28,
   "id": "b5e9e452",
   "metadata": {},
   "outputs": [
    {
     "name": "stdout",
     "output_type": "stream",
     "text": [
      "0\n",
      "1\n",
      "2\n",
      "3\n",
      "4\n",
      "5\n",
      "6\n",
      "7\n"
     ]
    }
   ],
   "source": [
    "toggle = True\n",
    "i = 0\n",
    "\n",
    "while toggle:\n",
    "    print(i)\n",
    "    i += 1\n",
    "    \n",
    "    if i == 8:\n",
    "        toggle = False"
   ]
  },
  {
   "cell_type": "code",
   "execution_count": 29,
   "id": "688aa35b",
   "metadata": {},
   "outputs": [
    {
     "name": "stdout",
     "output_type": "stream",
     "text": [
      "0\n",
      "1\n",
      "2\n",
      "3\n",
      "4\n",
      "5\n",
      "6\n",
      "7\n"
     ]
    }
   ],
   "source": [
    "i = 0\n",
    "while True:\n",
    "    print(i)\n",
    "    i += 1\n",
    "    if i == 8:\n",
    "        break"
   ]
  },
  {
   "cell_type": "code",
   "execution_count": 30,
   "id": "ad23a60a",
   "metadata": {},
   "outputs": [
    {
     "name": "stdout",
     "output_type": "stream",
     "text": [
      "0\n",
      "1\n",
      "2\n",
      "3\n",
      "4\n",
      "5\n",
      "6\n",
      "7\n"
     ]
    }
   ],
   "source": [
    "i = 0\n",
    "while i < 8:\n",
    "    print(i)\n",
    "    i += 1"
   ]
  },
  {
   "cell_type": "markdown",
   "id": "cbfa83e8",
   "metadata": {},
   "source": [
    "for loop: you should prefer them when you know in advance the number of iterations it will take for the code to run\n",
    "\n",
    "while loop: preferred when we dont know in advance the number of iterations it is going to take to run the code\n",
    "\n",
    "while loops are seen a lot in ML and optimization problems since the number of necessary iteations for the problem to be solved is not known in advance."
   ]
  },
  {
   "cell_type": "code",
   "execution_count": 31,
   "id": "52ad825e",
   "metadata": {},
   "outputs": [
    {
     "name": "stdout",
     "output_type": "stream",
     "text": [
      "14\n"
     ]
    }
   ],
   "source": [
    "# Exercise\n",
    "# Make a Poisson-like counter\n",
    "# Start with a parameter lambda (positive, it can be 10)\n",
    "# start at 1 and multiply it with a random number drawn from uniform distribution between 0 and 1\n",
    "# target umber is smaller than exp(-lambda)\n",
    "# count the number of iterations till the taget is reached\n",
    "lambd = 10\n",
    "i = 1\n",
    "trials = 0\n",
    "while i > np.exp(-lambd):\n",
    "    i = i*np.random.uniform(0,1)\n",
    "    trials += 1\n",
    "print(trials)"
   ]
  },
  {
   "cell_type": "code",
   "execution_count": 32,
   "id": "53d29f8b",
   "metadata": {},
   "outputs": [
    {
     "data": {
      "text/plain": [
       "11"
      ]
     },
     "execution_count": 32,
     "metadata": {},
     "output_type": "execute_result"
    }
   ],
   "source": [
    "# functional form\n",
    "def poissonCounter(lambd):\n",
    "    # Initialize some variables\n",
    "    trials, currval = 0,1\n",
    "    target = np.exp(-lambd)\n",
    "    # run the algorithm\n",
    "    while currval > target:\n",
    "        trials += 1\n",
    "        currval *= np.random.uniform(0,1)\n",
    "    # return the number of iterations\n",
    "    return trials\n",
    "poissonCounter(10)"
   ]
  },
  {
   "cell_type": "code",
   "execution_count": 33,
   "id": "e5ca8dcf",
   "metadata": {},
   "outputs": [],
   "source": [
    "p = np.zeros(100000)\n",
    "for i in range(100000):\n",
    "    p[i] = poissonCounter(10)"
   ]
  },
  {
   "cell_type": "code",
   "execution_count": 34,
   "id": "0fd1c770",
   "metadata": {},
   "outputs": [
    {
     "data": {
      "image/png": "[encoded data removed]",
      "text/plain": [
       "<Figure size 432x288 with 1 Axes>"
      ]
     },
     "metadata": {
      "needs_background": "light"
     },
     "output_type": "display_data"
    }
   ],
   "source": [
    "import matplotlib.pyplot as plt\n",
    "plt.hist(p, edgecolor='black',color='steelblue', histtype='bar')\n",
    "plt.show()"
   ]
  },
  {
   "cell_type": "markdown",
   "id": "6f31fe67",
   "metadata": {},
   "source": [
    "## Initializing Variables"
   ]
  },
  {
   "cell_type": "markdown",
   "id": "6495b066",
   "metadata": {},
   "source": [
    "Initialization is important for computational efficiency, i.e., running speed\n",
    "\n",
    "It is also important in helping you critically think about your code before you actually run it"
   ]
  },
  {
   "cell_type": "code",
   "execution_count": 35,
   "id": "01c63cc1",
   "metadata": {},
   "outputs": [
    {
     "name": "stdout",
     "output_type": "stream",
     "text": [
      "[ 0.  1.  4.  9. 16. 25. 36. 49. 64. 81.]\n"
     ]
    }
   ],
   "source": [
    "r = np.zeros(10)\n",
    "for i in range(10):\n",
    "    r[i] = i**2\n",
    "print(r)"
   ]
  },
  {
   "cell_type": "code",
   "execution_count": 36,
   "id": "0fc36518",
   "metadata": {},
   "outputs": [
    {
     "name": "stdout",
     "output_type": "stream",
     "text": [
      "[  0.   1.   4.   9.  16.  25.  36.  49.  64.  81. 100. 121. 144. 169.]\n"
     ]
    }
   ],
   "source": [
    "m = 14\n",
    "r = np.zeros(m)\n",
    "for i in range(m):\n",
    "    r[i] = i**2\n",
    "print(r)"
   ]
  },
  {
   "cell_type": "code",
   "execution_count": 37,
   "id": "73db1095",
   "metadata": {},
   "outputs": [
    {
     "name": "stdout",
     "output_type": "stream",
     "text": [
      "[  0.   1.   4.   9.  16.  25.  36.  49.  64.  81. 100. 121.   0.   0.]\n"
     ]
    }
   ],
   "source": [
    "# to see errors\n",
    "m = 14\n",
    "r = np.zeros(m)\n",
    "for i in range(m-2):\n",
    "    r[i] = i**2\n",
    "print(r)"
   ]
  },
  {
   "cell_type": "code",
   "execution_count": 38,
   "id": "a0836f2a",
   "metadata": {},
   "outputs": [
    {
     "data": {
      "text/plain": [
       "array([5.436345, 5.436345, 5.436345, 5.436345, 5.436345, 5.436345,\n",
       "       5.436345, 5.436345, 5.436345, 5.436345, 5.436345, 5.436345,\n",
       "       5.436345, 5.436345])"
      ]
     },
     "execution_count": 38,
     "metadata": {},
     "output_type": "execute_result"
    }
   ],
   "source": [
    "# Another numpy command\n",
    "np.full(m, 5.436345)"
   ]
  },
  {
   "cell_type": "code",
   "execution_count": 39,
   "id": "66204c95",
   "metadata": {},
   "outputs": [
    {
     "name": "stdout",
     "output_type": "stream",
     "text": [
      "[0, 1, 4, 9, 16, 25, 36, 49, 64, 81, 100, 121, 144, 169]\n"
     ]
    }
   ],
   "source": [
    "m = 14\n",
    "r = []\n",
    "for i in range(m):\n",
    "    r.append(i**2)\n",
    "print(r)"
   ]
  },
  {
   "cell_type": "code",
   "execution_count": 40,
   "id": "9a7c9df2",
   "metadata": {},
   "outputs": [
    {
     "name": "stdout",
     "output_type": "stream",
     "text": [
      "[  0.   1.   4.   9.  16.  25.  36.  49.  64.  81. 100. 121. 144. 169.]\n"
     ]
    }
   ],
   "source": [
    "#empty numpy array\n",
    "m = 14\n",
    "r = np.array([])\n",
    "for i in range(m):\n",
    "    r = np.append(r, i**2)\n",
    "print(r)"
   ]
  },
  {
   "cell_type": "code",
   "execution_count": 41,
   "id": "0dfc3266",
   "metadata": {},
   "outputs": [
    {
     "data": {
      "text/plain": [
       "array([[0., 0., 0., 0., 0.],\n",
       "       [0., 0., 7., 0., 0.],\n",
       "       [0., 0., 0., 0., 0.],\n",
       "       [0., 0., 0., 0., 0.]])"
      ]
     },
     "execution_count": 41,
     "metadata": {},
     "output_type": "execute_result"
    }
   ],
   "source": [
    "r = np.zeros((4,5))\n",
    "r[1,2] = 7\n",
    "r"
   ]
  },
  {
   "cell_type": "code",
   "execution_count": 42,
   "id": "a4a0a584",
   "metadata": {},
   "outputs": [
    {
     "name": "stdout",
     "output_type": "stream",
     "text": [
      "total time is 0.03967890200000035 seconds\n"
     ]
    }
   ],
   "source": [
    "# Exercise\n",
    "# Time all three methods\n",
    "# 1) list append\n",
    "# 2) numpy append\n",
    "# 3) numpy initialization\n",
    "N = 100000\n",
    "import time\n",
    "time.perf_counter()\n",
    "\n",
    "t1 = time.perf_counter()\n",
    "r = []\n",
    "for i in range(N):\n",
    "    r.append(i**2)\n",
    "    \n",
    "t2 = time.perf_counter()\n",
    "print(\"total time is {} seconds\".format(t2 - t1))"
   ]
  },
  {
   "cell_type": "code",
   "execution_count": 43,
   "id": "d9b7fa4f",
   "metadata": {},
   "outputs": [
    {
     "name": "stdout",
     "output_type": "stream",
     "text": [
      "total time is 0.04607252299999942 seconds\n"
     ]
    }
   ],
   "source": [
    "t1 = time.perf_counter()\n",
    "r = np.zeros(N)\n",
    "for i in range(N):\n",
    "    r[i] = i**2\n",
    "    \n",
    "t2 = time.perf_counter()\n",
    "print(\"total time is {} seconds\".format(t2 - t1))"
   ]
  },
  {
   "cell_type": "code",
   "execution_count": 44,
   "id": "026bf7ec",
   "metadata": {},
   "outputs": [
    {
     "name": "stdout",
     "output_type": "stream",
     "text": [
      "total time is 1.893245297 seconds\n"
     ]
    }
   ],
   "source": [
    "t1 = time.perf_counter()\n",
    "r = np.array([])\n",
    "for i in range(N):\n",
    "    r = np.append(r, i**2)\n",
    "    \n",
    "t2 = time.perf_counter()\n",
    "print(\"total time is {} seconds\".format(t2 - t1))"
   ]
  },
  {
   "cell_type": "code",
   "execution_count": 45,
   "id": "07ecf75e",
   "metadata": {},
   "outputs": [
    {
     "name": "stdout",
     "output_type": "stream",
     "text": [
      "[0.03664632999999995, 0.04044220500000062, 1.8024026619999995]\n"
     ]
    }
   ],
   "source": [
    "# Put all in one slot\n",
    "N = 100000\n",
    "t = []\n",
    "tm = time.perf_counter()\n",
    "r = []\n",
    "for i in range(N):\n",
    "    r.append(i**2)\n",
    "t.append(time.perf_counter() - tm)\n",
    "\n",
    "tm = time.perf_counter()\n",
    "r = np.zeros(N)\n",
    "for i in range(N):\n",
    "    r[i] = i**2\n",
    "t.append(time.perf_counter() - tm)\n",
    "\n",
    "tm = time.perf_counter()\n",
    "r = np.array([])\n",
    "for i in range(N):\n",
    "    r = np.append(r, i**2)\n",
    "t.append(time.perf_counter() - tm)\n",
    "\n",
    "print(t)"
   ]
  },
  {
   "cell_type": "markdown",
   "id": "bd5a33ad",
   "metadata": {},
   "source": [
    "## More on Functions"
   ]
  },
  {
   "cell_type": "code",
   "execution_count": 46,
   "id": "2d183723",
   "metadata": {},
   "outputs": [
    {
     "data": {
      "text/plain": [
       "6"
      ]
     },
     "execution_count": 46,
     "metadata": {},
     "output_type": "execute_result"
    }
   ],
   "source": [
    "# Create a function that will take two numbers as input and output their product\n",
    "def funfun(x,y):\n",
    "    z = x*y\n",
    "    return z\n",
    "funfun(2,3)"
   ]
  },
  {
   "cell_type": "code",
   "execution_count": 47,
   "id": "3989239a",
   "metadata": {},
   "outputs": [
    {
     "data": {
      "text/plain": [
       "'hihi'"
      ]
     },
     "execution_count": 47,
     "metadata": {},
     "output_type": "execute_result"
    }
   ],
   "source": [
    "funfun(2, \"hi\")"
   ]
  },
  {
   "cell_type": "code",
   "execution_count": 48,
   "id": "c9f134c0",
   "metadata": {},
   "outputs": [
    {
     "ename": "Exception",
     "evalue": "Input x must be a number",
     "output_type": "error",
     "traceback": [
      "\u001b[0;31m---------------------------------------------------------------------------\u001b[0m",
      "\u001b[0;31mException\u001b[0m                                 Traceback (most recent call last)",
      "\u001b[0;32m/var/folders/wh/83kd80754n51v2m2g0jx2wynk10f9n/T/ipykernel_8108/2252690202.py\u001b[0m in \u001b[0;36m<module>\u001b[0;34m\u001b[0m\n\u001b[1;32m      8\u001b[0m     \u001b[0;32mreturn\u001b[0m \u001b[0mz\u001b[0m\u001b[0;34m\u001b[0m\u001b[0;34m\u001b[0m\u001b[0m\n\u001b[1;32m      9\u001b[0m \u001b[0;34m\u001b[0m\u001b[0m\n\u001b[0;32m---> 10\u001b[0;31m \u001b[0mfunfun\u001b[0m\u001b[0;34m(\u001b[0m\u001b[0;34m\"2\"\u001b[0m\u001b[0;34m,\u001b[0m\u001b[0;36m3\u001b[0m\u001b[0;34m)\u001b[0m\u001b[0;34m\u001b[0m\u001b[0;34m\u001b[0m\u001b[0m\n\u001b[0m",
      "\u001b[0;32m/var/folders/wh/83kd80754n51v2m2g0jx2wynk10f9n/T/ipykernel_8108/2252690202.py\u001b[0m in \u001b[0;36mfunfun\u001b[0;34m(x, y)\u001b[0m\n\u001b[1;32m      2\u001b[0m     \u001b[0;31m# check that inputs are numeric\u001b[0m\u001b[0;34m\u001b[0m\u001b[0;34m\u001b[0m\u001b[0m\n\u001b[1;32m      3\u001b[0m     \u001b[0;32mif\u001b[0m \u001b[0;32mnot\u001b[0m \u001b[0misinstance\u001b[0m\u001b[0;34m(\u001b[0m\u001b[0mx\u001b[0m\u001b[0;34m,\u001b[0m \u001b[0;34m(\u001b[0m\u001b[0mint\u001b[0m\u001b[0;34m,\u001b[0m \u001b[0mfloat\u001b[0m\u001b[0;34m)\u001b[0m\u001b[0;34m)\u001b[0m\u001b[0;34m:\u001b[0m\u001b[0;34m\u001b[0m\u001b[0;34m\u001b[0m\u001b[0m\n\u001b[0;32m----> 4\u001b[0;31m         \u001b[0;32mraise\u001b[0m \u001b[0mException\u001b[0m\u001b[0;34m(\u001b[0m\u001b[0;34m\"Input x must be a number\"\u001b[0m\u001b[0;34m)\u001b[0m\u001b[0;34m\u001b[0m\u001b[0;34m\u001b[0m\u001b[0m\n\u001b[0m\u001b[1;32m      5\u001b[0m     \u001b[0;32mif\u001b[0m \u001b[0;32mnot\u001b[0m \u001b[0misinstance\u001b[0m\u001b[0;34m(\u001b[0m\u001b[0my\u001b[0m\u001b[0;34m,\u001b[0m \u001b[0;34m(\u001b[0m\u001b[0mint\u001b[0m\u001b[0;34m,\u001b[0m \u001b[0mfloat\u001b[0m\u001b[0;34m)\u001b[0m\u001b[0;34m)\u001b[0m\u001b[0;34m:\u001b[0m\u001b[0;34m\u001b[0m\u001b[0;34m\u001b[0m\u001b[0m\n\u001b[1;32m      6\u001b[0m         \u001b[0;32mraise\u001b[0m \u001b[0mException\u001b[0m\u001b[0;34m(\u001b[0m\u001b[0;34m\"Input y must be a number\"\u001b[0m\u001b[0;34m)\u001b[0m\u001b[0;34m\u001b[0m\u001b[0;34m\u001b[0m\u001b[0m\n",
      "\u001b[0;31mException\u001b[0m: Input x must be a number"
     ]
    }
   ],
   "source": [
    "def funfun(x,y):\n",
    "    # check that inputs are numeric\n",
    "    if not isinstance(x, (int, float)):\n",
    "        raise Exception(\"Input x must be a number\")\n",
    "    if not isinstance(y, (int, float)):\n",
    "        raise Exception(\"Input y must be a number\")\n",
    "    z = x*y\n",
    "    return z\n",
    "\n",
    "funfun(\"2\",3)"
   ]
  },
  {
   "cell_type": "code",
   "execution_count": 49,
   "id": "8ff16038",
   "metadata": {},
   "outputs": [
    {
     "name": "stdout",
     "output_type": "stream",
     "text": [
      "Note: Conveted x to float\n",
      "Note: Conveted y to float\n"
     ]
    },
    {
     "data": {
      "text/plain": [
       "708912.0"
      ]
     },
     "execution_count": 49,
     "metadata": {},
     "output_type": "execute_result"
    }
   ],
   "source": [
    "def funfun(x,y):\n",
    "    # check that inputs are numeric\n",
    "    if not isinstance(x, (int, float)):\n",
    "        # Check if x can be connverted into numeric\n",
    "        if isinstance(x,str) and x.isnumeric():\n",
    "            x = float(x)\n",
    "            print(\"Note: Conveted x to float\")\n",
    "        else:\n",
    "            raise Exception(\"Input x must be a number\")\n",
    "    # Do the same thing for y\n",
    "    if not isinstance(y, (int, float)):\n",
    "        if isinstance(y,str) and y.isnumeric():\n",
    "            y = float(y)\n",
    "            print(\"Note: Conveted y to float\")\n",
    "        else:\n",
    "            raise Exception(\"Input y must be a number\")  \n",
    "    z = x*y\n",
    "    return z\n",
    "\n",
    "funfun(\"2\",\"354456\")"
   ]
  },
  {
   "cell_type": "code",
   "execution_count": 50,
   "id": "3638d0bd",
   "metadata": {},
   "outputs": [
    {
     "name": "stdout",
     "output_type": "stream",
     "text": [
      "Note: Conveted x to float\n",
      "Note: Conveted y to float\n"
     ]
    },
    {
     "data": {
      "text/plain": [
       "8.8614"
      ]
     },
     "execution_count": 50,
     "metadata": {},
     "output_type": "execute_result"
    }
   ],
   "source": [
    "# Same function but introducing the option for float\n",
    "def is_float(val):\n",
    "    try:\n",
    "        num = float(val)\n",
    "    except ValueError:\n",
    "        return False\n",
    "    return True\n",
    "\n",
    "def funfun(x,y):\n",
    "    # check that inputs are numeric\n",
    "    if not isinstance(x, (int, float)):\n",
    "        # Check if x can be connverted into numeric\n",
    "        if isinstance(x,str) and is_float(x):\n",
    "            x = float(x)\n",
    "            print(\"Note: Conveted x to float\")\n",
    "        else:\n",
    "            raise Exception(\"Input x must be a number\")\n",
    "    # Do the same thing for y\n",
    "    if not isinstance(y, (int, float)):\n",
    "        if isinstance(y,str) and is_float(y):\n",
    "            y = float(y)\n",
    "            print(\"Note: Conveted y to float\")\n",
    "        else:\n",
    "            raise Exception(\"Input y must be a number\")  \n",
    "    z = x*y\n",
    "    return z\n",
    "\n",
    "funfun(\"2.5\",\"3.54456\")"
   ]
  },
  {
   "cell_type": "code",
   "execution_count": 51,
   "id": "af9ced70",
   "metadata": {},
   "outputs": [
    {
     "data": {
      "text/plain": [
       "16"
      ]
     },
     "execution_count": 51,
     "metadata": {},
     "output_type": "execute_result"
    }
   ],
   "source": [
    "def funfunfun(x,y):\n",
    "    z = x**y\n",
    "    return z\n",
    "funfunfun(2,4)"
   ]
  },
  {
   "cell_type": "code",
   "execution_count": 52,
   "id": "dc479141",
   "metadata": {},
   "outputs": [
    {
     "name": "stdout",
     "output_type": "stream",
     "text": [
      "Couldn't complete the mission\n"
     ]
    },
    {
     "data": {
      "text/plain": [
       "0"
      ]
     },
     "execution_count": 52,
     "metadata": {},
     "output_type": "execute_result"
    }
   ],
   "source": [
    "def funfunfun(x,y):\n",
    "    z = 0\n",
    "    try:\n",
    "        z = x**y\n",
    "    except:\n",
    "        print(\"Couldn't complete the mission\")\n",
    "    return z\n",
    "\n",
    "funfunfun(2,\"4\")"
   ]
  },
  {
   "cell_type": "code",
   "execution_count": 53,
   "id": "1130468b",
   "metadata": {},
   "outputs": [
    {
     "data": {
      "text/plain": [
       "16"
      ]
     },
     "execution_count": 53,
     "metadata": {},
     "output_type": "execute_result"
    }
   ],
   "source": [
    "def funfunfun(x,y):\n",
    "    z = 0\n",
    "    try:\n",
    "        z = x**y\n",
    "    except:\n",
    "        print(\"Couldn't complete the mission\")\n",
    "    return z\n",
    "\n",
    "funfunfun(2,4)"
   ]
  },
  {
   "cell_type": "markdown",
   "id": "7ee459d7",
   "metadata": {},
   "source": [
    "## Multiple Inputs with Zip"
   ]
  },
  {
   "cell_type": "code",
   "execution_count": 54,
   "id": "ab1b2ce5",
   "metadata": {},
   "outputs": [
    {
     "name": "stdout",
     "output_type": "stream",
     "text": [
      "d 3\n",
      "e 4\n",
      "s 5\n",
      "m 6\n",
      "x 7\n"
     ]
    }
   ],
   "source": [
    "somelist = [3,4,5,6,7]\n",
    "otherlist = [\"d\", \"e\", \"s\", \"m\", \"x\"]\n",
    "\n",
    "for i in range(len(somelist)):\n",
    "    print(otherlist[i] + \" \" + str(somelist[i]))"
   ]
  },
  {
   "cell_type": "code",
   "execution_count": 55,
   "id": "6afebdf8",
   "metadata": {},
   "outputs": [
    {
     "name": "stdout",
     "output_type": "stream",
     "text": [
      "d 3\n",
      "e 4\n",
      "s 5\n",
      "m 6\n",
      "x 7\n"
     ]
    }
   ],
   "source": [
    "for j,i in zip(otherlist, somelist):\n",
    "    print(j,i)"
   ]
  },
  {
   "cell_type": "code",
   "execution_count": 56,
   "id": "a9ff08ea",
   "metadata": {},
   "outputs": [
    {
     "name": "stdout",
     "output_type": "stream",
     "text": [
      "<zip object at 0x7f7a411e3740>\n"
     ]
    }
   ],
   "source": [
    "# zip is a separate object of its own\n",
    "z = zip(somelist, otherlist)\n",
    "print(z)"
   ]
  },
  {
   "cell_type": "code",
   "execution_count": 57,
   "id": "276aa74a",
   "metadata": {},
   "outputs": [
    {
     "data": {
      "text/plain": [
       "[(3, 'd'), (4, 'e'), (5, 's'), (6, 'm'), (7, 'x')]"
      ]
     },
     "execution_count": 57,
     "metadata": {},
     "output_type": "execute_result"
    }
   ],
   "source": [
    "# we can convert zip into a list of tuples\n",
    "lz = list(z)\n",
    "lz"
   ]
  },
  {
   "cell_type": "code",
   "execution_count": 58,
   "id": "4dcdad9a",
   "metadata": {},
   "outputs": [
    {
     "data": {
      "text/plain": [
       "(4, 'e')"
      ]
     },
     "execution_count": 58,
     "metadata": {},
     "output_type": "execute_result"
    }
   ],
   "source": [
    "lz[1]"
   ]
  },
  {
   "cell_type": "code",
   "execution_count": 59,
   "id": "e16b453a",
   "metadata": {},
   "outputs": [
    {
     "data": {
      "text/plain": [
       "'e'"
      ]
     },
     "execution_count": 59,
     "metadata": {},
     "output_type": "execute_result"
    }
   ],
   "source": [
    "lz[1][1]"
   ]
  },
  {
   "cell_type": "code",
   "execution_count": 60,
   "id": "eb0627fe",
   "metadata": {},
   "outputs": [
    {
     "name": "stdout",
     "output_type": "stream",
     "text": [
      "2 d\n",
      "3 3\n",
      "4 f\n"
     ]
    }
   ],
   "source": [
    "# Zip will iterate according to the dimesnions of the shortest list\n",
    "a = [2,3,4,5,6,7,8,4,3,4]\n",
    "b = [\"d\", \"3\", \"f\"]\n",
    "\n",
    "for i,j in zip(a,b):\n",
    "    print(i,j)"
   ]
  },
  {
   "cell_type": "code",
   "execution_count": 61,
   "id": "4ba5538d",
   "metadata": {},
   "outputs": [
    {
     "name": "stdout",
     "output_type": "stream",
     "text": [
      "2 d 1\n",
      "3 3 2\n",
      "4 f 4\n"
     ]
    }
   ],
   "source": [
    "# Zip will iterate according to the dimesnions of the shortest list\n",
    "a = [2,3,4,5,6,7,8,4,3,4]\n",
    "b = [\"d\", \"3\", \"f\"]\n",
    "c = [\"1\", 2, 4, 6, 7, 3]\n",
    "\n",
    "for i,j,k in zip(a,b,c):\n",
    "    print(i,j,k)"
   ]
  },
  {
   "cell_type": "code",
   "execution_count": 62,
   "id": "ca9fb20a",
   "metadata": {},
   "outputs": [
    {
     "name": "stdout",
     "output_type": "stream",
     "text": [
      "{'alpha': 10, 'beta': 20, 'gamma': 40}\n"
     ]
    }
   ],
   "source": [
    "# Exercise\n",
    "# Create a dictionary given two lists and zip function\n",
    "names = [\"alpha\", \"beta\", \"gamma\"]\n",
    "values = [10, 20, 40]\n",
    "my_dict = dict(zip(names, values))\n",
    "print(my_dict)"
   ]
  },
  {
   "cell_type": "markdown",
   "id": "4702634a",
   "metadata": {},
   "source": [
    "## Single-Line Loops"
   ]
  },
  {
   "cell_type": "code",
   "execution_count": 63,
   "id": "c0a828c7",
   "metadata": {},
   "outputs": [
    {
     "data": {
      "text/plain": [
       "5"
      ]
     },
     "execution_count": 63,
     "metadata": {},
     "output_type": "execute_result"
    }
   ],
   "source": [
    "# Reminder: using random library, the upper limit is included\n",
    "import random\n",
    "random.randint(1,10)"
   ]
  },
  {
   "cell_type": "code",
   "execution_count": 64,
   "id": "2bcf37cb",
   "metadata": {},
   "outputs": [],
   "source": [
    "if random.randint(1,10) > 5: print(\"This is a large number\")"
   ]
  },
  {
   "cell_type": "code",
   "execution_count": 65,
   "id": "edd8f6ea",
   "metadata": {},
   "outputs": [
    {
     "name": "stdout",
     "output_type": "stream",
     "text": [
      "This number is large\n"
     ]
    }
   ],
   "source": [
    "print(\"This number is small\") if random.randint(1,10) < 5 else print(\"This number is large\")"
   ]
  },
  {
   "cell_type": "code",
   "execution_count": 66,
   "id": "1610bf93",
   "metadata": {},
   "outputs": [
    {
     "name": "stdout",
     "output_type": "stream",
     "text": [
      "0\n",
      "1\n",
      "4\n",
      "9\n",
      "16\n",
      "25\n",
      "36\n",
      "49\n",
      "64\n",
      "81\n"
     ]
    }
   ],
   "source": [
    "for i in range(10):\n",
    "    print(i**2)"
   ]
  },
  {
   "cell_type": "code",
   "execution_count": 67,
   "id": "4f633b27",
   "metadata": {},
   "outputs": [
    {
     "name": "stdout",
     "output_type": "stream",
     "text": [
      "0\n",
      "1\n",
      "4\n",
      "9\n",
      "16\n",
      "25\n",
      "36\n",
      "49\n",
      "64\n",
      "81\n"
     ]
    },
    {
     "data": {
      "text/plain": [
       "[None, None, None, None, None, None, None, None, None, None]"
      ]
     },
     "execution_count": 67,
     "metadata": {},
     "output_type": "execute_result"
    }
   ],
   "source": [
    "# the output of print() is none, therefore the list of None's\n",
    "[ print(i**2) for i in range(10) ]"
   ]
  },
  {
   "cell_type": "code",
   "execution_count": 68,
   "id": "62feff85",
   "metadata": {},
   "outputs": [
    {
     "data": {
      "text/plain": [
       "[0.0,\n",
       " 0.0,\n",
       " 2.585786437626905,\n",
       " 7.267949192431123,\n",
       " 14.0,\n",
       " 22.76393202250021,\n",
       " 33.55051025721682,\n",
       " 46.35424868893541,\n",
       " 61.17157287525381,\n",
       " 78.0]"
      ]
     },
     "execution_count": 68,
     "metadata": {},
     "output_type": "execute_result"
    }
   ],
   "source": [
    "# List cpmprehension: Create a list from another list\n",
    "n = [ i**2-i**(1/2) for i in range(10) ]\n",
    "n"
   ]
  },
  {
   "cell_type": "code",
   "execution_count": 69,
   "id": "53a4a7ac",
   "metadata": {},
   "outputs": [
    {
     "data": {
      "text/plain": [
       "[33.55051025721682, 46.35424868893541, 61.17157287525381, 78.0]"
      ]
     },
     "execution_count": 69,
     "metadata": {},
     "output_type": "execute_result"
    }
   ],
   "source": [
    "n = [ i**2-i**(1/2) for i in range(10) if i >5 ]\n",
    "n"
   ]
  },
  {
   "cell_type": "code",
   "execution_count": 70,
   "id": "4c9e7066",
   "metadata": {},
   "outputs": [
    {
     "name": "stdout",
     "output_type": "stream",
     "text": [
      "P\n",
      "Y\n",
      "t\n",
      "h\n",
      "o\n",
      "N\n"
     ]
    }
   ],
   "source": [
    "# Exercise\n",
    "text = [\"Promising\", \"Yves\", \"that\", \"home\", \"on\", \"Nobb\"]\n",
    "\n",
    "for word in text:\n",
    "    print(word[0])\n",
    "\n",
    "# Make this a one-line for loop"
   ]
  },
  {
   "cell_type": "code",
   "execution_count": 71,
   "id": "871f677c",
   "metadata": {},
   "outputs": [
    {
     "name": "stdout",
     "output_type": "stream",
     "text": [
      "P\n",
      "Y\n",
      "t\n",
      "h\n",
      "o\n",
      "N\n"
     ]
    }
   ],
   "source": [
    "# to avoid the none list, use semi-column at the end as seen below\n",
    "[ print(word[0]) for word in text ];"
   ]
  },
  {
   "cell_type": "code",
   "execution_count": 72,
   "id": "adf863ce",
   "metadata": {},
   "outputs": [
    {
     "data": {
      "text/plain": [
       "[0, 'Odd', 2, 'Odd', 4, 'Odd', 6, 'Odd', 8, 'Odd']"
      ]
     },
     "execution_count": 72,
     "metadata": {},
     "output_type": "execute_result"
    }
   ],
   "source": [
    "# Convert the code below into a one-line for loop\n",
    "newlist = [\"\"]*10\n",
    "for i in range(10):\n",
    "    if i%2 ==1:\n",
    "        newlist[i] = \"Odd\"\n",
    "    else:\n",
    "        newlist[i] = i\n",
    "newlist"
   ]
  },
  {
   "cell_type": "code",
   "execution_count": 73,
   "id": "66fb9c66",
   "metadata": {},
   "outputs": [
    {
     "data": {
      "text/plain": [
       "[0, 'Odd', 2, 'Odd', 4, 'Odd', 6, 'Odd', 8, 'Odd']"
      ]
     },
     "execution_count": 73,
     "metadata": {},
     "output_type": "execute_result"
    }
   ],
   "source": [
    "bs = [\"Odd\" if i%2 == 1 else i for i in range(10)];\n",
    "bs"
   ]
  },
  {
   "cell_type": "code",
   "execution_count": 74,
   "id": "58c10997",
   "metadata": {},
   "outputs": [
    {
     "name": "stdout",
     "output_type": "stream",
     "text": [
      "[-3.  -2.4 -1.8 -1.2 -0.6  0.   0.6  1.2  1.8  2.4  3. ]\n",
      "[9.   5.76 3.24 1.44 0.36 0.   0.36 1.44 3.24 5.76 9.  ]\n"
     ]
    }
   ],
   "source": [
    "# Exercise\n",
    "x1 = np.linspace(-3,3,11)\n",
    "y1 = x1**2\n",
    "print(x1)\n",
    "print(y1)"
   ]
  },
  {
   "cell_type": "code",
   "execution_count": 75,
   "id": "5c40b2fb",
   "metadata": {},
   "outputs": [
    {
     "name": "stdout",
     "output_type": "stream",
     "text": [
      "[-3.0, -2.4, -1.7999999999999998, -1.2, -0.6, 0.0, 0.6, 1.2, 1.7999999999999998, 2.4, 3.0]\n",
      "[9.0, 5.76, 3.2399999999999993, 1.44, 0.36, 0.0, 0.36, 1.44, 3.2399999999999993, 5.76, 9.0]\n"
     ]
    }
   ],
   "source": [
    "# Recreate the lists with single line for loop\n",
    "x1 = [ i/(5/3) for i in range(-5,6)]\n",
    "y1 = [ i**2 for i in x1]\n",
    "print(x1)\n",
    "print(y1)"
   ]
  },
  {
   "cell_type": "markdown",
   "id": "cdd0de00",
   "metadata": {},
   "source": [
    "## Broadcasting in Numpy"
   ]
  },
  {
   "cell_type": "code",
   "execution_count": 76,
   "id": "7573d5e3",
   "metadata": {},
   "outputs": [
    {
     "data": {
      "text/plain": [
       "(4, 3)"
      ]
     },
     "execution_count": 76,
     "metadata": {},
     "output_type": "execute_result"
    }
   ],
   "source": [
    "# Used a lot with matrices and vectors\n",
    "X = np.array([[1,2,3],\n",
    "              [2,3,4],\n",
    "              [3,4,5],\n",
    "              [4,5,6]])\n",
    "X.shape"
   ]
  },
  {
   "cell_type": "code",
   "execution_count": 77,
   "id": "8f3a0c31",
   "metadata": {},
   "outputs": [
    {
     "name": "stdout",
     "output_type": "stream",
     "text": [
      "4 3\n"
     ]
    }
   ],
   "source": [
    "print(X.shape[0], X.shape[1])"
   ]
  },
  {
   "cell_type": "code",
   "execution_count": 78,
   "id": "3b803228",
   "metadata": {},
   "outputs": [],
   "source": [
    "w = np.array([10, 20, 30])"
   ]
  },
  {
   "cell_type": "code",
   "execution_count": 79,
   "id": "5a7c390f",
   "metadata": {},
   "outputs": [
    {
     "name": "stdout",
     "output_type": "stream",
     "text": [
      "[[11 22 33]\n",
      " [12 23 34]\n",
      " [13 24 35]\n",
      " [14 25 36]]\n",
      "\n",
      "[[11 22 33]\n",
      " [12 23 34]\n",
      " [13 24 35]\n",
      " [14 25 36]]\n"
     ]
    }
   ],
   "source": [
    "# Add w to each row of the matrix\n",
    "# X and Y will be the same thing because they refer the same object\n",
    "Y = X\n",
    "for i in range(X.shape[0]):\n",
    "    Y[i,:] = X[i,:] + w\n",
    "print(Y)\n",
    "print()\n",
    "print(X)"
   ]
  },
  {
   "cell_type": "code",
   "execution_count": 80,
   "id": "4b2ec672",
   "metadata": {},
   "outputs": [
    {
     "name": "stdout",
     "output_type": "stream",
     "text": [
      "[[11 22 33]\n",
      " [12 23 34]\n",
      " [13 24 35]\n",
      " [14 25 36]]\n",
      "\n",
      "[[1 2 3]\n",
      " [2 3 4]\n",
      " [3 4 5]\n",
      " [4 5 6]]\n"
     ]
    }
   ],
   "source": [
    "# Create a copy of X that is different\n",
    "import copy\n",
    "X = np.array([[1,2,3],\n",
    "              [2,3,4],\n",
    "              [3,4,5],\n",
    "              [4,5,6]])\n",
    "w = np.array([10, 20, 30])\n",
    "Y = copy.deepcopy(X)\n",
    "for i in range(X.shape[0]):\n",
    "    Y[i,:] = X[i,:] + w\n",
    "print(Y)\n",
    "print()\n",
    "print(X)"
   ]
  },
  {
   "cell_type": "code",
   "execution_count": 81,
   "id": "bc71f6be",
   "metadata": {},
   "outputs": [
    {
     "name": "stdout",
     "output_type": "stream",
     "text": [
      "[[11 22 33]\n",
      " [12 23 34]\n",
      " [13 24 35]\n",
      " [14 25 36]]\n",
      "\n",
      "[[1 2 3]\n",
      " [2 3 4]\n",
      " [3 4 5]\n",
      " [4 5 6]]\n"
     ]
    }
   ],
   "source": [
    "# Lets use broadcasting and avoid the loop\n",
    "Y = X + w\n",
    "print(Y)\n",
    "print()\n",
    "print(X)"
   ]
  },
  {
   "cell_type": "code",
   "execution_count": 82,
   "id": "f0d60cf9",
   "metadata": {},
   "outputs": [
    {
     "data": {
      "text/plain": [
       "array([[ -9, -18, -27],\n",
       "       [ -8, -17, -26],\n",
       "       [ -7, -16, -25],\n",
       "       [ -6, -15, -24]])"
      ]
     },
     "execution_count": 82,
     "metadata": {},
     "output_type": "execute_result"
    }
   ],
   "source": [
    "# The same thing can be done for subtraction\n",
    "Y = X - w\n",
    "Y"
   ]
  },
  {
   "cell_type": "code",
   "execution_count": 83,
   "id": "dbf57c5e",
   "metadata": {},
   "outputs": [
    {
     "data": {
      "text/plain": [
       "array([[ 10,  40,  90],\n",
       "       [ 20,  60, 120],\n",
       "       [ 30,  80, 150],\n",
       "       [ 40, 100, 180]])"
      ]
     },
     "execution_count": 83,
     "metadata": {},
     "output_type": "execute_result"
    }
   ],
   "source": [
    "# Multiplication\n",
    "Y = X*w\n",
    "Y"
   ]
  },
  {
   "cell_type": "code",
   "execution_count": 84,
   "id": "bf325e3d",
   "metadata": {},
   "outputs": [
    {
     "data": {
      "text/plain": [
       "array([[0.1       , 0.1       , 0.1       ],\n",
       "       [0.2       , 0.15      , 0.13333333],\n",
       "       [0.3       , 0.2       , 0.16666667],\n",
       "       [0.4       , 0.25      , 0.2       ]])"
      ]
     },
     "execution_count": 84,
     "metadata": {},
     "output_type": "execute_result"
    }
   ],
   "source": [
    "# Division\n",
    "Y = X/w\n",
    "Y"
   ]
  },
  {
   "cell_type": "code",
   "execution_count": 85,
   "id": "a3fae117",
   "metadata": {},
   "outputs": [
    {
     "data": {
      "text/plain": [
       "array([[-1,  0,  3],\n",
       "       [-2,  0,  4],\n",
       "       [-3,  0,  5],\n",
       "       [-4,  0,  6]])"
      ]
     },
     "execution_count": 85,
     "metadata": {},
     "output_type": "execute_result"
    }
   ],
   "source": [
    "# This works for lists as well\n",
    "w = [-1, 0, 1]\n",
    "X*w"
   ]
  },
  {
   "cell_type": "code",
   "execution_count": 86,
   "id": "2b2ef1f1",
   "metadata": {},
   "outputs": [],
   "source": [
    "# Multiply columns\n",
    "# This will not work!\n",
    "#w = [-1,0,1,0]\n",
    "#X*w"
   ]
  },
  {
   "cell_type": "code",
   "execution_count": 87,
   "id": "fbde348b",
   "metadata": {},
   "outputs": [
    {
     "data": {
      "text/plain": [
       "array([[-1, -2, -3],\n",
       "       [ 0,  0,  0],\n",
       "       [ 3,  4,  5],\n",
       "       [ 0,  0,  0]])"
      ]
     },
     "execution_count": 87,
     "metadata": {},
     "output_type": "execute_result"
    }
   ],
   "source": [
    "# Make the vector a column vector\n",
    "w = np.array([-1,0,1,0], ndmin = 2).T\n",
    "X*w"
   ]
  },
  {
   "cell_type": "code",
   "execution_count": 88,
   "id": "273a5866",
   "metadata": {},
   "outputs": [
    {
     "data": {
      "text/plain": [
       "[0, 1, 2, 3, 4, 5, 6, 7, 8]"
      ]
     },
     "execution_count": 88,
     "metadata": {},
     "output_type": "execute_result"
    }
   ],
   "source": [
    "# Exercise\n",
    "# 1) Create a list of integers from 0 to 8\n",
    "# 2) Reshape it into a 3x3 matrix\n",
    "# 3) repeat and make that matrix 9x3\n",
    "# 4) Broadcast-multiply with the initial vector\n",
    "v = list(range(9))\n",
    "v"
   ]
  },
  {
   "cell_type": "code",
   "execution_count": 89,
   "id": "3ecadfe0",
   "metadata": {},
   "outputs": [
    {
     "name": "stdout",
     "output_type": "stream",
     "text": [
      "[0 1 2 3 4 5 6 7 8]\n"
     ]
    }
   ],
   "source": [
    "v1 = np.arange(9)\n",
    "print(v1)"
   ]
  },
  {
   "cell_type": "code",
   "execution_count": 90,
   "id": "8c804b17",
   "metadata": {},
   "outputs": [
    {
     "data": {
      "text/plain": [
       "array([[0, 1, 2],\n",
       "       [3, 4, 5],\n",
       "       [6, 7, 8]])"
      ]
     },
     "execution_count": 90,
     "metadata": {},
     "output_type": "execute_result"
    }
   ],
   "source": [
    "M = np.array(v).reshape(3, 3)\n",
    "M"
   ]
  },
  {
   "cell_type": "code",
   "execution_count": 91,
   "id": "b820aca2",
   "metadata": {},
   "outputs": [
    {
     "data": {
      "text/plain": [
       "array([[0, 1, 2],\n",
       "       [3, 4, 5],\n",
       "       [6, 7, 8]])"
      ]
     },
     "execution_count": 91,
     "metadata": {},
     "output_type": "execute_result"
    }
   ],
   "source": [
    "M1 = np.reshape(v1, (3, 3), order = \"C\") # C is columnwise\n",
    "M1"
   ]
  },
  {
   "cell_type": "code",
   "execution_count": 92,
   "id": "77978660",
   "metadata": {},
   "outputs": [
    {
     "data": {
      "text/plain": [
       "array([[0, 1, 2],\n",
       "       [3, 4, 5],\n",
       "       [6, 7, 8],\n",
       "       [0, 1, 2],\n",
       "       [3, 4, 5],\n",
       "       [6, 7, 8],\n",
       "       [0, 1, 2],\n",
       "       [3, 4, 5],\n",
       "       [6, 7, 8]])"
      ]
     },
     "execution_count": 92,
     "metadata": {},
     "output_type": "execute_result"
    }
   ],
   "source": [
    "C = np.concatenate((M, M, M), axis=0)\n",
    "C"
   ]
  },
  {
   "cell_type": "code",
   "execution_count": 93,
   "id": "ecda02e1",
   "metadata": {},
   "outputs": [
    {
     "data": {
      "text/plain": [
       "array([[0, 1, 2],\n",
       "       [3, 4, 5],\n",
       "       [6, 7, 8],\n",
       "       [0, 1, 2],\n",
       "       [3, 4, 5],\n",
       "       [6, 7, 8],\n",
       "       [0, 1, 2],\n",
       "       [3, 4, 5],\n",
       "       [6, 7, 8]])"
      ]
     },
     "execution_count": 93,
     "metadata": {},
     "output_type": "execute_result"
    }
   ],
   "source": [
    "# This can be done using numpy.tile as well\n",
    "C1 = np.tile(M, (3,1))\n",
    "C1"
   ]
  },
  {
   "cell_type": "code",
   "execution_count": 94,
   "id": "afd5049a",
   "metadata": {},
   "outputs": [
    {
     "data": {
      "text/plain": [
       "array([[ 0,  0,  0],\n",
       "       [ 3,  4,  5],\n",
       "       [12, 14, 16],\n",
       "       [ 0,  3,  6],\n",
       "       [12, 16, 20],\n",
       "       [30, 35, 40],\n",
       "       [ 0,  6, 12],\n",
       "       [21, 28, 35],\n",
       "       [48, 56, 64]])"
      ]
     },
     "execution_count": 94,
     "metadata": {},
     "output_type": "execute_result"
    }
   ],
   "source": [
    "w = np.array(v, ndmin = 2).T\n",
    "B = C*w\n",
    "B"
   ]
  },
  {
   "cell_type": "code",
   "execution_count": 95,
   "id": "06fc4313",
   "metadata": {},
   "outputs": [
    {
     "data": {
      "text/plain": [
       "array([[ 0,  0,  0],\n",
       "       [ 3,  4,  5],\n",
       "       [12, 14, 16],\n",
       "       [ 0,  3,  6],\n",
       "       [12, 16, 20],\n",
       "       [30, 35, 40],\n",
       "       [ 0,  6, 12],\n",
       "       [21, 28, 35],\n",
       "       [48, 56, 64]])"
      ]
     },
     "execution_count": 95,
     "metadata": {},
     "output_type": "execute_result"
    }
   ],
   "source": [
    "# Same \n",
    "B1 = C*np.reshape(v, (9,1))\n",
    "B1"
   ]
  }
 ],
 "metadata": {
  "kernelspec": {
   "display_name": "Python 3 (ipykernel)",
   "language": "python",
   "name": "python3"
  },
  "language_info": {
   "codemirror_mode": {
    "name": "ipython",
    "version": 3
   },
   "file_extension": ".py",
   "mimetype": "text/x-python",
   "name": "python",
   "nbconvert_exporter": "python",
   "pygments_lexer": "ipython3",
   "version": "3.9.7"
  }
 },
 "nbformat": 4,
 "nbformat_minor": 5
}
